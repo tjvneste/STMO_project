{
 "cells": [
  {
   "cell_type": "code",
   "execution_count": 121,
   "metadata": {},
   "outputs": [
    {
     "data": {
      "text/plain": [
       "employed_bee_phase (generic function with 2 methods)"
      ]
     },
     "execution_count": 121,
     "metadata": {},
     "output_type": "execute_result"
    }
   ],
   "source": [
    "\"\"\" Employed bee phase function\n",
    "\n",
    "Input\n",
    "- population of solutions (food sources)\n",
    "- lower and upper bounds of variables\n",
    "- current trial of solutions\n",
    "\n",
    "Output\n",
    "- new evolved population\n",
    "- new fitness values\n",
    "- updated trials of solutions in population\n",
    "\n",
    "\n",
    "\"\"\"\n",
    "\n",
    "function employed_bee_phase(population, bounds_lower, bounds_upper, trial)\n",
    "    population_new = []\n",
    "    \n",
    "    # create new food sources\n",
    "    for i in 1:size(population)[1]\n",
    "        solution = population[i, :][1]\n",
    "        solution_new = create_newsolution(solution, population, bounds_lower, bounds_upper)     \n",
    "        append!(population_new, [solution_new])\n",
    "    end\n",
    "    \n",
    "    # evaluate fitness old and new population\n",
    "    objective_values_old = compute_objective(population, false)\n",
    "    fitness_old = compute_fitness(objective_values_old)\n",
    "    objective_values_new = compute_objective(population_new, false)\n",
    "    fitness_new = compute_fitness(objective_values_new)\n",
    "\n",
    "    # perform greedy selection\n",
    "    population_new_evolved = []\n",
    "    fitness_new_evolved = []\n",
    "    \n",
    "    for j in 1:size(population)[1]\n",
    "        if fitness_new[j] > fitness_old[j]\n",
    "            append!(population_new_evolved, [population_new[j]])\n",
    "            append!(fitness_new_evolved, fitness_new[j])\n",
    "            trial[j]=0\n",
    "        else \n",
    "           append!(population_new_evolved, [population[j]]) \n",
    "           append!(fitness_new_evolved, fitness_old[j])\n",
    "            trial[j] += 1\n",
    "        end\n",
    "    end\n",
    "    \n",
    "    return population_new_evolved, fitness_new_evolved, trial\n",
    "end\t\n"
   ]
  },
  {
   "cell_type": "code",
   "execution_count": 115,
   "metadata": {},
   "outputs": [
    {
     "data": {
      "text/plain": [
       "9-element Array{Any,1}:\n",
       " [-3, -2, -5, 2]\n",
       " [4, 0, 2, 3]\n",
       " [5, -1, -1, 3]\n",
       " [1, 3, -2, 0]\n",
       " [5, -2, -2, -3]\n",
       " [3, -4, -3, -5]\n",
       " [2, 5, 1, -4]\n",
       " [-3, 0, 4, 2]\n",
       " [3, 0, -1, -1]"
      ]
     },
     "execution_count": 115,
     "metadata": {},
     "output_type": "execute_result"
    }
   ],
   "source": [
    "population"
   ]
  },
  {
   "cell_type": "code",
   "execution_count": null,
   "metadata": {},
   "outputs": [
    {
     "name": "stderr",
     "output_type": "stream",
     "text": [
      "\u001b[32m\u001b[1m   Updating\u001b[22m\u001b[39m registry at `C:\\Users\\kirst\\.julia\\registries\\General`\n"
     ]
    }
   ],
   "source": [
    "# input employed bee phase\n",
    "trial = zeros(size(population)[1])\n",
    "bounds_lower = [-5,-5,-5,-5]\n",
    "bounds_upper = [5,5,5,5]\n",
    "D=4\n",
    "n=9\n",
    "population = initialize_population(D, bounds_lower, bounds_upper, n)\n",
    "\n",
    "# employed bee phase\n",
    "population_new_evolved, fitness_new_evolved, trial_new = employed_bee_phase(population, bounds_lower, bounds_upper, trial)\n",
    "population_new_evolved\n",
    "fitness_new_evolved\n",
    "trial_new\n",
    "\n",
    "# visualize output in dataframe\n",
    "# import Pkg; Pkg.add(\"DataFrames\")\n",
    "using DataFrames\n",
    "df = DataFrame(pop=population_new_evolved, fit=fitness_new_evolved, trial=trial_new); \n",
    "# @show DataFrame(x_optimal=xoptimal, y_optimal=yoptimal, z_optimal=zoptimal); "
   ]
  },
  {
   "cell_type": "markdown",
   "metadata": {},
   "source": [
    "### Andere functies nodig voor employed bee phase"
   ]
  },
  {
   "cell_type": "code",
   "execution_count": 88,
   "metadata": {},
   "outputs": [
    {
     "data": {
      "text/plain": [
       "compute_objective (generic function with 2 methods)"
      ]
     },
     "execution_count": 88,
     "metadata": {},
     "output_type": "execute_result"
    }
   ],
   "source": [
    "function compute_objective(input, vector=true)\n",
    "    if vector == true\n",
    "        objective = sum(input[i]^2 for i in 1:length(input))\n",
    "        output = objective\n",
    "    else\n",
    "        objectives_population = []\n",
    "        \n",
    "        for j in 1:size(input)[1]\n",
    "            food_source = input[j, :]\n",
    "            #objective = sum(food_source[i]^2 for i in 1:length(food_source))\n",
    "            objective = sum(sum(food_source[i].^2 for i in 1:length(food_source)))\n",
    "            append!(objectives_population, objective)\n",
    "        end\n",
    "        \n",
    "        output = objectives_population\n",
    "    end\n",
    "    \n",
    "    return output\n",
    "end"
   ]
  },
  {
   "cell_type": "code",
   "execution_count": 91,
   "metadata": {},
   "outputs": [
    {
     "data": {
      "text/plain": [
       "compute_fitness (generic function with 1 method)"
      ]
     },
     "execution_count": 91,
     "metadata": {},
     "output_type": "execute_result"
    }
   ],
   "source": [
    "function compute_fitness(objective_values)\n",
    "    fitness_values = []\n",
    "    \n",
    "    for i in 1:length(objective_values)\n",
    "        objective_value = objective_values[i]\n",
    "        \n",
    "        if objective_value >= 0\n",
    "            fitness = 1/(1+objective_value)\n",
    "     \n",
    "        else\n",
    "            fitness = 1+abs(objective_value)\n",
    "        end\n",
    "        \n",
    "        append!(fitness_values, fitness)\n",
    "    end\n",
    "    return fitness_values\n",
    "end\t"
   ]
  },
  {
   "cell_type": "code",
   "execution_count": 114,
   "metadata": {},
   "outputs": [
    {
     "data": {
      "text/plain": [
       "9-element Array{Any,1}:\n",
       " [-3, -2, -5, 2]\n",
       " [4, 0, 2, 3]\n",
       " [5, -1, -1, 3]\n",
       " [1, 3, -2, 0]\n",
       " [5, -2, -2, -3]\n",
       " [3, -4, -3, -5]\n",
       " [2, 5, 1, -4]\n",
       " [-3, 0, 4, 2]\n",
       " [3, 0, -1, -1]"
      ]
     },
     "execution_count": 114,
     "metadata": {},
     "output_type": "execute_result"
    }
   ],
   "source": [
    "function initialize_population(D, bounds_lower, bounds_upper, n)\n",
    "    population = []   \n",
    "    for i in 1:n\n",
    "        food_source = collect(rand(bounds_lower[i]:bounds_upper[i]) for i in 1:D)\n",
    "        append!(population, [food_source])\n",
    "    end\n",
    "        \n",
    "    return population\n",
    "end\t\n",
    "bounds_lower = [-5,-5,-5,-5]\n",
    "bounds_upper = [5,5,5,5]\n",
    "D=4\n",
    "n=9\n",
    "population = initialize_population(D, bounds_lower, bounds_upper, n)"
   ]
  },
  {
   "cell_type": "code",
   "execution_count": 83,
   "metadata": {},
   "outputs": [
    {
     "data": {
      "text/plain": [
       "create_newsolution (generic function with 1 method)"
      ]
     },
     "execution_count": 83,
     "metadata": {},
     "output_type": "execute_result"
    }
   ],
   "source": [
    "function create_newsolution(solution, population, bounds_lower, bounds_upper)\n",
    "    \n",
    "    # select random variable to change       \n",
    "    randomvar1_index = rand(1:length(solution), 1)\n",
    "        \n",
    "    # select partner solution to generate new solution        \n",
    "    randompartner_index = rand(1:size(population)[1], 1)\n",
    "    \n",
    "    # select random variable in partner solution to exchange with\n",
    "        \n",
    "    randompartner = population[randompartner_index, :][1]\n",
    "    randomvar2_index = rand(1:length(randompartner), 1)\n",
    "        \n",
    "    # create new food location\n",
    "    phi = rand()*2-1 #random number between -1 and 1     \n",
    "    global solution_new = float(deepcopy(solution))\n",
    "    a = solution[randomvar1_index] \n",
    "    b = randompartner[randomvar2_index]\n",
    "    solution_new[randomvar1_index] = a + phi*(a - b)\n",
    "    \n",
    "    # check if lower bound is violated\n",
    "    if solution_new[randomvar1_index] < bounds_lower[randomvar1_index] \n",
    "        solution_new[randomvar1_index] = bounds_lower[randomvar1_index]\n",
    "    end\n",
    "    \n",
    "    # check if upper bound is violated\n",
    "    if solution_new[randomvar1_index] > bounds_upper[randomvar1_index]\n",
    "        solution_new[randomvar1_index] = bounds_upper[randomvar1_index]\n",
    "    end\n",
    "        \n",
    "    return solution_new\n",
    "end\t"
   ]
  }
 ],
 "metadata": {
  "kernelspec": {
   "display_name": "Julia 1.5.1",
   "language": "julia",
   "name": "julia-1.5"
  },
  "language_info": {
   "file_extension": ".jl",
   "mimetype": "application/julia",
   "name": "julia",
   "version": "1.5.1"
  }
 },
 "nbformat": 4,
 "nbformat_minor": 4
}
