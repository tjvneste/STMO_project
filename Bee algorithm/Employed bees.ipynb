{
 "cells": [
  {
   "cell_type": "code",
   "execution_count": 121,
   "metadata": {},
   "outputs": [
    {
     "data": {
      "text/plain": [
       "employed_bee_phase (generic function with 2 methods)"
      ]
     },
     "execution_count": 121,
     "metadata": {},
     "output_type": "execute_result"
    }
   ],
   "source": [
    "\"\"\" Employed bee phase function\n",
    "\n",
    "Input\n",
    "- population of solutions (food sources)\n",
    "- lower and upper bounds of variables\n",
    "- current trial of solutions\n",
    "\n",
    "Output\n",
    "- new evolved population\n",
    "- new fitness values\n",
    "- updated trials of solutions in population\n",
    "\n",
    "\n",
    "\"\"\"\n",
    "\n",
    "function employed_bee_phase(population, bounds_lower, bounds_upper, trial)\n",
    "    population_new = []\n",
    "    \n",
    "    # create new food sources\n",
    "    for i in 1:size(population)[1]\n",
    "        solution = population[i, :][1]\n",
    "        solution_new = create_newsolution(solution, population, bounds_lower, bounds_upper)     \n",
    "        append!(population_new, [solution_new])\n",
    "    end\n",
    "    \n",
    "    # evaluate fitness old and new population\n",
    "    objective_values_old = compute_objective(population, false)\n",
    "    fitness_old = compute_fitness(objective_values_old)\n",
    "    objective_values_new = compute_objective(population_new, false)\n",
    "    fitness_new = compute_fitness(objective_values_new)\n",
    "\n",
    "    # perform greedy selection\n",
    "    population_new_evolved = []\n",
    "    fitness_new_evolved = []\n",
    "    \n",
    "    for j in 1:size(population)[1]\n",
    "        if fitness_new[j] > fitness_old[j]\n",
    "            append!(population_new_evolved, [population_new[j]])\n",
    "            append!(fitness_new_evolved, fitness_new[j])\n",
    "            trial[j]=0\n",
    "        else \n",
    "           append!(population_new_evolved, [population[j]]) \n",
    "           append!(fitness_new_evolved, fitness_old[j])\n",
    "            trial[j] += 1\n",
    "        end\n",
    "    end\n",
    "    \n",
    "    return population_new_evolved, fitness_new_evolved, trial\n",
    "end\t\n"
   ]
  },
  {
   "cell_type": "code",
   "execution_count": 133,
   "metadata": {},
   "outputs": [
    {
     "data": {
      "text/html": [
       "<table class=\"data-frame\"><thead><tr><th></th><th>old_population</th><th>new_population</th><th>fitness</th><th>trial</th></tr><tr><th></th><th>Any</th><th>Any</th><th>Any</th><th>Float64</th></tr></thead><tbody><p>9 rows × 4 columns</p><tr><th>1</th><td>[-4, 2, -5, -2]</td><td>[-4, 2, -5, -2]</td><td>0.02</td><td>1.0</td></tr><tr><th>2</th><td>[-3, 5, 2, -1]</td><td>[-3, 5, 2, -1]</td><td>0.025</td><td>1.0</td></tr><tr><th>3</th><td>[2, 0, -1, 1]</td><td>[2, 0, -1, 1]</td><td>0.142857</td><td>1.0</td></tr><tr><th>4</th><td>[2, -4, -1, -2]</td><td>[2.0, -4.0, -0.774835, -2.0]</td><td>0.0390619</td><td>0.0</td></tr><tr><th>5</th><td>[5, -5, -1, -5]</td><td>[5, -5, -1, -5]</td><td>0.012987</td><td>1.0</td></tr><tr><th>6</th><td>[0, -2, -5, -4]</td><td>[0, -2, -5, -4]</td><td>0.0217391</td><td>1.0</td></tr><tr><th>7</th><td>[3, -1, -2, -5]</td><td>[3, -1, -2, -5]</td><td>0.025</td><td>1.0</td></tr><tr><th>8</th><td>[1, 1, -3, -2]</td><td>[1, 1, -3, -2]</td><td>0.0625</td><td>1.0</td></tr><tr><th>9</th><td>[-4, 5, 3, 1]</td><td>[-4, 5, 3, 1]</td><td>0.0192308</td><td>1.0</td></tr></tbody></table>"
      ],
      "text/latex": [
       "\\begin{tabular}{r|cccc}\n",
       "\t& old\\_population & new\\_population & fitness & trial\\\\\n",
       "\t\\hline\n",
       "\t& Any & Any & Any & Float64\\\\\n",
       "\t\\hline\n",
       "\t1 & [-4, 2, -5, -2] & [-4, 2, -5, -2] & 0.02 & 1.0 \\\\\n",
       "\t2 & [-3, 5, 2, -1] & [-3, 5, 2, -1] & 0.025 & 1.0 \\\\\n",
       "\t3 & [2, 0, -1, 1] & [2, 0, -1, 1] & 0.142857 & 1.0 \\\\\n",
       "\t4 & [2, -4, -1, -2] & [2.0, -4.0, -0.774835, -2.0] & 0.0390619 & 0.0 \\\\\n",
       "\t5 & [5, -5, -1, -5] & [5, -5, -1, -5] & 0.012987 & 1.0 \\\\\n",
       "\t6 & [0, -2, -5, -4] & [0, -2, -5, -4] & 0.0217391 & 1.0 \\\\\n",
       "\t7 & [3, -1, -2, -5] & [3, -1, -2, -5] & 0.025 & 1.0 \\\\\n",
       "\t8 & [1, 1, -3, -2] & [1, 1, -3, -2] & 0.0625 & 1.0 \\\\\n",
       "\t9 & [-4, 5, 3, 1] & [-4, 5, 3, 1] & 0.0192308 & 1.0 \\\\\n",
       "\\end{tabular}\n"
      ],
      "text/plain": [
       "9×4 DataFrame\n",
       "│ Row │ old_population  │ new_population               │ fitness   │ trial   │\n",
       "│     │ \u001b[90mAny\u001b[39m             │ \u001b[90mAny\u001b[39m                          │ \u001b[90mAny\u001b[39m       │ \u001b[90mFloat64\u001b[39m │\n",
       "├─────┼─────────────────┼──────────────────────────────┼───────────┼─────────┤\n",
       "│ 1   │ [-4, 2, -5, -2] │ [-4, 2, -5, -2]              │ 0.02      │ 1.0     │\n",
       "│ 2   │ [-3, 5, 2, -1]  │ [-3, 5, 2, -1]               │ 0.025     │ 1.0     │\n",
       "│ 3   │ [2, 0, -1, 1]   │ [2, 0, -1, 1]                │ 0.142857  │ 1.0     │\n",
       "│ 4   │ [2, -4, -1, -2] │ [2.0, -4.0, -0.774835, -2.0] │ 0.0390619 │ 0.0     │\n",
       "│ 5   │ [5, -5, -1, -5] │ [5, -5, -1, -5]              │ 0.012987  │ 1.0     │\n",
       "│ 6   │ [0, -2, -5, -4] │ [0, -2, -5, -4]              │ 0.0217391 │ 1.0     │\n",
       "│ 7   │ [3, -1, -2, -5] │ [3, -1, -2, -5]              │ 0.025     │ 1.0     │\n",
       "│ 8   │ [1, 1, -3, -2]  │ [1, 1, -3, -2]               │ 0.0625    │ 1.0     │\n",
       "│ 9   │ [-4, 5, 3, 1]   │ [-4, 5, 3, 1]                │ 0.0192308 │ 1.0     │"
      ]
     },
     "execution_count": 133,
     "metadata": {},
     "output_type": "execute_result"
    }
   ],
   "source": [
    "# input employed bee phase\n",
    "trial = zeros(size(population)[1])\n",
    "bounds_lower = [-5,-5,-5,-5]\n",
    "bounds_upper = [5,5,5,5]\n",
    "D=4\n",
    "n=9\n",
    "population = initialize_population(D, bounds_lower, bounds_upper, n)\n",
    "\n",
    "# employed bee phase\n",
    "population_new_evolved, fitness_new_evolved, trial_new = employed_bee_phase(population, bounds_lower, bounds_upper, trial)\n",
    "population_new_evolved\n",
    "fitness_new_evolved\n",
    "trial_new\n",
    "\n",
    "# visualize output in dataframe\n",
    "# import Pkg; Pkg.add(\"DataFrames\")\n",
    "using DataFrames\n",
    "df = DataFrame(old_population = population, new_population=population_new_evolved, fitness=fitness_new_evolved, trial=trial_new)"
   ]
  },
  {
   "cell_type": "markdown",
   "metadata": {},
   "source": [
    "### Andere functies nodig voor employed bee phase"
   ]
  },
  {
   "cell_type": "code",
   "execution_count": 88,
   "metadata": {},
   "outputs": [
    {
     "data": {
      "text/plain": [
       "compute_objective (generic function with 2 methods)"
      ]
     },
     "execution_count": 88,
     "metadata": {},
     "output_type": "execute_result"
    }
   ],
   "source": [
    "function compute_objective(input, vector=true)\n",
    "    if vector == true\n",
    "        objective = sum(input[i]^2 for i in 1:length(input))\n",
    "        output = objective\n",
    "    else\n",
    "        objectives_population = []\n",
    "        \n",
    "        for j in 1:size(input)[1]\n",
    "            food_source = input[j, :]\n",
    "            #objective = sum(food_source[i]^2 for i in 1:length(food_source))\n",
    "            objective = sum(sum(food_source[i].^2 for i in 1:length(food_source)))\n",
    "            append!(objectives_population, objective)\n",
    "        end\n",
    "        \n",
    "        output = objectives_population\n",
    "    end\n",
    "    \n",
    "    return output\n",
    "end"
   ]
  },
  {
   "cell_type": "code",
   "execution_count": 91,
   "metadata": {},
   "outputs": [
    {
     "data": {
      "text/plain": [
       "compute_fitness (generic function with 1 method)"
      ]
     },
     "execution_count": 91,
     "metadata": {},
     "output_type": "execute_result"
    }
   ],
   "source": [
    "function compute_fitness(objective_values)\n",
    "    fitness_values = []\n",
    "    \n",
    "    for i in 1:length(objective_values)\n",
    "        objective_value = objective_values[i]\n",
    "        \n",
    "        if objective_value >= 0\n",
    "            fitness = 1/(1+objective_value)\n",
    "     \n",
    "        else\n",
    "            fitness = 1+abs(objective_value)\n",
    "        end\n",
    "        \n",
    "        append!(fitness_values, fitness)\n",
    "    end\n",
    "    return fitness_values\n",
    "end\t"
   ]
  },
  {
   "cell_type": "code",
   "execution_count": 114,
   "metadata": {},
   "outputs": [
    {
     "data": {
      "text/plain": [
       "9-element Array{Any,1}:\n",
       " [-3, -2, -5, 2]\n",
       " [4, 0, 2, 3]\n",
       " [5, -1, -1, 3]\n",
       " [1, 3, -2, 0]\n",
       " [5, -2, -2, -3]\n",
       " [3, -4, -3, -5]\n",
       " [2, 5, 1, -4]\n",
       " [-3, 0, 4, 2]\n",
       " [3, 0, -1, -1]"
      ]
     },
     "execution_count": 114,
     "metadata": {},
     "output_type": "execute_result"
    }
   ],
   "source": [
    "function initialize_population(D, bounds_lower, bounds_upper, n)\n",
    "    population = []   \n",
    "    for i in 1:n\n",
    "        food_source = collect(rand(bounds_lower[i]:bounds_upper[i]) for i in 1:D)\n",
    "        append!(population, [food_source])\n",
    "    end\n",
    "        \n",
    "    return population\n",
    "end\t\n",
    "bounds_lower = [-5,-5,-5,-5]\n",
    "bounds_upper = [5,5,5,5]\n",
    "D=4\n",
    "n=9\n",
    "population = initialize_population(D, bounds_lower, bounds_upper, n)"
   ]
  },
  {
   "cell_type": "code",
   "execution_count": 83,
   "metadata": {},
   "outputs": [
    {
     "data": {
      "text/plain": [
       "create_newsolution (generic function with 1 method)"
      ]
     },
     "execution_count": 83,
     "metadata": {},
     "output_type": "execute_result"
    }
   ],
   "source": [
    "function create_newsolution(solution, population, bounds_lower, bounds_upper)\n",
    "    \n",
    "    # select random variable to change       \n",
    "    randomvar1_index = rand(1:length(solution), 1)\n",
    "        \n",
    "    # select partner solution to generate new solution        \n",
    "    randompartner_index = rand(1:size(population)[1], 1)\n",
    "    \n",
    "    # select random variable in partner solution to exchange with\n",
    "        \n",
    "    randompartner = population[randompartner_index, :][1]\n",
    "    randomvar2_index = rand(1:length(randompartner), 1)\n",
    "        \n",
    "    # create new food location\n",
    "    phi = rand()*2-1 #random number between -1 and 1     \n",
    "    global solution_new = float(deepcopy(solution))\n",
    "    a = solution[randomvar1_index] \n",
    "    b = randompartner[randomvar2_index]\n",
    "    solution_new[randomvar1_index] = a + phi*(a - b)\n",
    "    \n",
    "    # check if lower bound is violated\n",
    "    if solution_new[randomvar1_index] < bounds_lower[randomvar1_index] \n",
    "        solution_new[randomvar1_index] = bounds_lower[randomvar1_index]\n",
    "    end\n",
    "    \n",
    "    # check if upper bound is violated\n",
    "    if solution_new[randomvar1_index] > bounds_upper[randomvar1_index]\n",
    "        solution_new[randomvar1_index] = bounds_upper[randomvar1_index]\n",
    "    end\n",
    "        \n",
    "    return solution_new\n",
    "end\t"
   ]
  }
 ],
 "metadata": {
  "kernelspec": {
   "display_name": "Julia 1.5.1",
   "language": "julia",
   "name": "julia-1.5"
  },
  "language_info": {
   "file_extension": ".jl",
   "mimetype": "application/julia",
   "name": "julia",
   "version": "1.5.1"
  }
 },
 "nbformat": 4,
 "nbformat_minor": 4
}
