{
 "cells": [
  {
   "cell_type": "code",
   "execution_count": 1,
   "metadata": {},
   "outputs": [
    {
     "data": {
      "text/plain": [
       "create_newsolution (generic function with 1 method)"
      ]
     },
     "execution_count": 1,
     "metadata": {},
     "output_type": "execute_result"
    }
   ],
   "source": [
    "\"\"\" Create new solution by changing one variable using partner solution\n",
    "\n",
    "Input\n",
    "- solutions (location of food sources)\n",
    "\n",
    "Output\n",
    "- new solution with one variable changed\n",
    "\n",
    "\n",
    "\"\"\"\n",
    "\n",
    "function create_newsolution(solution, population, bounds_lower, bounds_upper)\n",
    "    \n",
    "    # select random variable to change       \n",
    "    randomvar1_index = rand(1:length(solution), 1)\n",
    "        \n",
    "    # select partner solution to generate new solution        \n",
    "    randompartner_index = rand(1:size(population)[1], 1)\n",
    "    \n",
    "    # select random variable in partner solution to exchange with\n",
    "        \n",
    "    randompartner = population[randompartner_index, :][1]\n",
    "    randomvar2_index = rand(1:length(randompartner), 1)\n",
    "        \n",
    "    # create new food location\n",
    "    phi = rand()*2-1 #random number between -1 and 1     \n",
    "    global solution_new = float(deepcopy(solution))\n",
    "    a = solution[randomvar1_index] \n",
    "    b = randompartner[randomvar2_index]\n",
    "    solution_new[randomvar1_index] = a + phi*(a - b)\n",
    "    \n",
    "    # check if lower bound is violated\n",
    "    if solution_new[randomvar1_index] < bounds_lower[randomvar1_index] \n",
    "        solution_new[randomvar1_index] = bounds_lower[randomvar1_index]\n",
    "    end\n",
    "    \n",
    "    # check if upper bound is violated\n",
    "    if solution_new[randomvar1_index] > bounds_upper[randomvar1_index]\n",
    "        solution_new[randomvar1_index] = bounds_upper[randomvar1_index]\n",
    "    end\n",
    "        \n",
    "    return solution_new\n",
    "end\t\n"
   ]
  },
  {
   "cell_type": "code",
   "execution_count": 2,
   "metadata": {},
   "outputs": [],
   "source": [
    "function initialize_population(D, bounds_lower, bounds_upper, n)\n",
    "    population = []   \n",
    "    for i in 1:n\n",
    "        food_source = collect(rand(bounds_lower[i]:bounds_upper[i]) for i in 1:D)\n",
    "        append!(population, [food_source])\n",
    "    end\n",
    "        \n",
    "    return population\n",
    "end\t\n",
    "bounds_lower = [-5,-5,-5,-5]\n",
    "bounds_upper = [5,5,5,5]\n",
    "D=4\n",
    "n=9\n",
    "population = initialize_population(D, bounds_lower, bounds_upper, n);"
   ]
  },
  {
   "cell_type": "code",
   "execution_count": 5,
   "metadata": {},
   "outputs": [
    {
     "data": {
      "text/plain": [
       "1×4 Array{Float64,2}:\n",
       " 4.0  0.466565  1.0  4.0"
      ]
     },
     "execution_count": 5,
     "metadata": {},
     "output_type": "execute_result"
    }
   ],
   "source": [
    "solution = [4 0 1 4]\n",
    "bounds_lower = [0,0,0,0]\n",
    "bounds_upper = [5,5,5,5]\n",
    "create_newsolution(solution, population, bounds_lower, bounds_upper)"
   ]
  },
  {
   "cell_type": "code",
   "execution_count": null,
   "metadata": {},
   "outputs": [],
   "source": []
  }
 ],
 "metadata": {
  "kernelspec": {
   "display_name": "Julia 1.5.2",
   "language": "julia",
   "name": "julia-1.5"
  },
  "language_info": {
   "file_extension": ".jl",
   "mimetype": "application/julia",
   "name": "julia",
   "version": "1.5.2"
  }
 },
 "nbformat": 4,
 "nbformat_minor": 4
}
