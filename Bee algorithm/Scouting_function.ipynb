{
 "cells": [
  {
   "cell_type": "code",
   "execution_count": 14,
   "metadata": {},
   "outputs": [
    {
     "data": {
      "text/plain": [
       "initialize_population (generic function with 1 method)"
      ]
     },
     "execution_count": 14,
     "metadata": {},
     "output_type": "execute_result"
    }
   ],
   "source": [
    "\"\"\" Initialize population\n",
    "\n",
    "This function generates n random solutions (food sources) within the domain \n",
    "of the variables to form an initial population for the ABC algorithm\n",
    "\n",
    "Input\n",
    "- D: number of variables\n",
    "- bounds_lower: lower bounds of variables in vector\n",
    "- bounds_upper: upper bounds of variables in vector\n",
    "- n: number of solutions in population\n",
    "\n",
    "\n",
    "\"\"\"\n",
    "\n",
    "function initialize_population(D, bounds_lower, bounds_upper, n)\n",
    "    population = []   \n",
    "    for i in 1:n\n",
    "        food_source = collect(rand(bounds_lower[i]:bounds_upper[i]) for i in 1:D)\n",
    "        append!(population, [food_source])\n",
    "    end\n",
    "        \n",
    "    return population\n",
    "end\t\n",
    "\n",
    "\n"
   ]
  },
  {
   "cell_type": "code",
   "execution_count": 16,
   "metadata": {},
   "outputs": [
    {
     "data": {
      "text/plain": [
       "compute_objective (generic function with 2 methods)"
      ]
     },
     "execution_count": 16,
     "metadata": {},
     "output_type": "execute_result"
    }
   ],
   "source": [
    "\"\"\"\n",
    "\n",
    "Objective function for toy example y = x1^2 + x2^2 + x3^2 + x4^2\n",
    "\n",
    "Calculation for 1 vector or n instances (vectors) in population\n",
    "\n",
    "\"\"\"\n",
    "\n",
    "function compute_objective(input, vector=true)\n",
    "    if vector == true\n",
    "        objective = sum(input[i]^2 for i in 1:length(input))\n",
    "        output = objective\n",
    "    else\n",
    "        objectives_population = []\n",
    "        \n",
    "        for j in 1:size(input)[1]\n",
    "            food_source = input[j, :]\n",
    "            #objective = sum(food_source[i]^2 for i in 1:length(food_source))\n",
    "            objective = sum(sum(food_source[i].^2 for i in 1:length(food_source)))\n",
    "            append!(objectives_population, objective)\n",
    "        end\n",
    "        \n",
    "        output = objectives_population\n",
    "    end\n",
    "    \n",
    "    return output\n",
    "end"
   ]
  },
  {
   "cell_type": "code",
   "execution_count": 35,
   "metadata": {},
   "outputs": [
    {
     "data": {
      "text/plain": [
       "compute_objective (generic function with 2 methods)"
      ]
     },
     "execution_count": 35,
     "metadata": {},
     "output_type": "execute_result"
    }
   ],
   "source": [
    "\"\"\" Fitness function\n",
    "\n",
    "Input\n",
    "- objective values\n",
    "\n",
    "Output\n",
    "- fitness values\n",
    "\n",
    "\n",
    "\"\"\"\n",
    "\n",
    "function compute_fitness(objective_values)\n",
    "    fitness_values = []\n",
    "    \n",
    "    for i in 1:length(objective_values)\n",
    "        objective_value = objective_values[i]\n",
    "        \n",
    "        if objective_value >= 0\n",
    "            fitness = 1/(1+objective_value)\n",
    "     \n",
    "        else\n",
    "            fitness = 1+abs(objective_value)\n",
    "        end\n",
    "        \n",
    "        append!(fitness_values, fitness)\n",
    "    end\n",
    "    return fitness_values\n",
    "end\n",
    "\n"
   ]
  },
  {
   "cell_type": "code",
   "execution_count": 15,
   "metadata": {},
   "outputs": [
    {
     "data": {
      "text/plain": [
       "9-element Array{Any,1}:\n",
       " [2, -4, -3, -3]\n",
       " [0, 5, -2, -2]\n",
       " [5, 2, 1, 3]\n",
       " [-5, 3, -2, 2]\n",
       " [-4, 0, 2, 3]\n",
       " [-5, 4, 5, -3]\n",
       " [-3, -1, 5, -3]\n",
       " [3, -5, -3, 1]\n",
       " [2, 2, 4, -2]"
      ]
     },
     "execution_count": 15,
     "metadata": {},
     "output_type": "execute_result"
    }
   ],
   "source": [
    "bounds_lower = [-5,-5,-5,-5]\n",
    "bounds_upper = [5,5,5,5]\n",
    "D=4\n",
    "n=9\n",
    "population = initialize_population(D, bounds_lower, bounds_upper, n)"
   ]
  },
  {
   "cell_type": "code",
   "execution_count": 49,
   "metadata": {},
   "outputs": [
    {
     "data": {
      "text/plain": [
       "9-element Array{Any,1}:\n",
       " [2, -4, -3, -3]\n",
       " [0, 5, -2, -2]\n",
       " [5, 2, 1, 3]\n",
       " [-5, 3, -2, 2]\n",
       " [-4, 0, 2, 3]\n",
       " [-5, 4, 5, -3]\n",
       " [-3, -1, 5, -3]\n",
       " [3, -5, -3, 1]\n",
       " [2, 2, 4, -2]"
      ]
     },
     "execution_count": 49,
     "metadata": {},
     "output_type": "execute_result"
    }
   ],
   "source": [
    "population"
   ]
  },
  {
   "cell_type": "code",
   "execution_count": 50,
   "metadata": {},
   "outputs": [
    {
     "data": {
      "text/plain": [
       "2×4 Array{Int64,2}:\n",
       " 1  2  2  3\n",
       " 2  2  3  4"
      ]
     },
     "execution_count": 50,
     "metadata": {},
     "output_type": "execute_result"
    }
   ],
   "source": [
    "[1 2 2 3; 2 2 3 4]"
   ]
  },
  {
   "cell_type": "code",
   "execution_count": 37,
   "metadata": {},
   "outputs": [
    {
     "data": {
      "text/plain": [
       "9-element Array{Any,1}:\n",
       " 38\n",
       " 33\n",
       " 39\n",
       " 42\n",
       " 29\n",
       " 75\n",
       " 44\n",
       " 44\n",
       " 28"
      ]
     },
     "execution_count": 37,
     "metadata": {},
     "output_type": "execute_result"
    }
   ],
   "source": [
    "objectives = compute_objective(population, false)"
   ]
  },
  {
   "cell_type": "code",
   "execution_count": 38,
   "metadata": {},
   "outputs": [
    {
     "data": {
      "text/plain": [
       "9-element Array{Any,1}:\n",
       " 0.02564102564102564\n",
       " 0.029411764705882353\n",
       " 0.025\n",
       " 0.023255813953488372\n",
       " 0.03333333333333333\n",
       " 0.013157894736842105\n",
       " 0.022222222222222223\n",
       " 0.022222222222222223\n",
       " 0.034482758620689655"
      ]
     },
     "execution_count": 38,
     "metadata": {},
     "output_type": "execute_result"
    }
   ],
   "source": [
    "fitness = compute_fitness(objectives)"
   ]
  },
  {
   "cell_type": "code",
   "execution_count": 191,
   "metadata": {},
   "outputs": [
    {
     "data": {
      "text/plain": [
       "Scouting (generic function with 3 methods)"
      ]
     },
     "execution_count": 191,
     "metadata": {},
     "output_type": "execute_result"
    }
   ],
   "source": [
    "\"\"\" Scouting function\n",
    "\n",
    "This function generates n random solutions (food sources) within the domain \n",
    "of the variables to form an initial population for the ABC algorithm\n",
    "\n",
    "Input\n",
    "- p: population matrix\n",
    "- bounds_lower: lower bounds of variables in vector\n",
    "- bounds_upper: upper bounds of variables in vector\n",
    "- t: trials vector\n",
    "- fitness\n",
    "- objective\n",
    "- l: limit\n",
    "\n",
    "\n",
    "\"\"\"\n",
    "\n",
    "function Scouting(p,bounds_lower,bounds_upper,trials,fitness,objective,limit, best_fitness,D)\n",
    "        \n",
    "        # check whether the trial vector exceed the limit value and importantly where\n",
    "        index_exceed = trials .> limit\n",
    "        if sum(index_exceed) >= 1 # there is minimal one case where we exceed the limit\n",
    "            if sum(maximum(trials) .== trials) > 1 # multiple cases have the same maximum so chose randomly\n",
    "                possible_scoutings = findall(trials .== maximum(trials))\n",
    "                idx = rand(1:size(possible_scoutings)[1])\n",
    "                scouting_array = possible_scoutings[idx]\n",
    "            else # only one array has a maximum => chose this one \n",
    "            \n",
    "                scouting_array = argmax(trials)\n",
    "            end\n",
    "        end\n",
    "        \n",
    "        pop = p[scouting_array]\n",
    "        fit = fitness[scouting_array]\n",
    "        obj = objective[scouting_array]\n",
    "        trail = trials[scouting_array]\n",
    "        \n",
    "        if fit > best_fitness # if you find a new fitness that is better than your best_fitness before you store this new one\n",
    "            best_fitness = fit \n",
    "            best_population = pop\n",
    "            best_obj = obj\n",
    "        end\n",
    "        \n",
    "        #creating random population\n",
    "        sol_new = bounds_lower + (bounds_upper-bounds_lower) .* rand(D) # -5 *(10*rand)\n",
    "        new_obj = compute_objective(sol_new,true)\n",
    "        new_fit = compute_fitness(new_obj)\n",
    "        \n",
    "        # replacing the new population\n",
    "        p[scouting_array] = sol_new\n",
    "        fitness[scouting_array] = new_fit[1]\n",
    "        objective[scouting_array] = new_obj\n",
    "        trials[scouting_array] = 0\n",
    "    \n",
    "        return p, fitness, objective, trials, best_fitness, best_population, best_obj  \n",
    "\n",
    "\n",
    "end\n",
    "\n"
   ]
  },
  {
   "cell_type": "code",
   "execution_count": 207,
   "metadata": {},
   "outputs": [
    {
     "data": {
      "text/plain": [
       "4-element Array{Float64,1}:\n",
       "  2.4666215183816735\n",
       "  0.24785851440356232\n",
       " -0.010395787577439641\n",
       " -0.30845110681619214"
      ]
     },
     "execution_count": 207,
     "metadata": {},
     "output_type": "execute_result"
    }
   ],
   "source": [
    "bounds_lower + (bounds_upper-bounds_lower) .* rand(D)"
   ]
  },
  {
   "cell_type": "code",
   "execution_count": 199,
   "metadata": {},
   "outputs": [
    {
     "data": {
      "text/plain": [
       "9×1 Array{Float64,2}:\n",
       " 0.0\n",
       " 5.0\n",
       " 6.0\n",
       " 6.0\n",
       " 0.0\n",
       " 0.0\n",
       " 0.0\n",
       " 0.0\n",
       " 0.0"
      ]
     },
     "execution_count": 199,
     "metadata": {},
     "output_type": "execute_result"
    }
   ],
   "source": [
    "Np = 9\n",
    "limit = 4\n",
    "bounds_lower = [-5,-5,-5,-5]\n",
    "bounds_upper = [5,5,5,5]\n",
    "D=4\n",
    "n=9\n",
    "trials = zeros(Np, 1)\n",
    "trials[2] = 5\n",
    "trials[3] = 6\n",
    "trials[4] = 6\n",
    "trials"
   ]
  },
  {
   "cell_type": "code",
   "execution_count": 211,
   "metadata": {},
   "outputs": [
    {
     "data": {
      "text/plain": [
       "4-element Array{Float64,1}:\n",
       "  1.63499052213602\n",
       " -2.624716660935502\n",
       " -0.20624440592476923\n",
       " -4.097224820618259"
      ]
     },
     "execution_count": 211,
     "metadata": {},
     "output_type": "execute_result"
    }
   ],
   "source": [
    "population[argmax(trials)]"
   ]
  },
  {
   "cell_type": "code",
   "execution_count": 192,
   "metadata": {},
   "outputs": [
    {
     "data": {
      "text/plain": [
       "(Any[[2, -4, -3, -3], [-3.4055621946355186, -3.4866990776753704, 2.4261132044040075, -4.345318179469833], [1.63499052213602, -2.624716660935502, -0.20624440592476923, -4.097224820618259], [-0.12392322216934204, 3.248035816996552, -4.826479921323399, -0.23416313601768213], [-4, 0, 2, 3], [-5, 4, 5, -3], [-3, -1, 5, -3], [3, -5, -3, 1], [2, 2, 4, -2]], Any[0.02564102564102564, 0.020192743907895563, Any[0.036506850023710756], Any[0.02864112106147619], 0.03333333333333333, 0.013157894736842105, 0.022222222222222223, 0.022222222222222223, 0.034482758620689655], Any[38, 48.52273968120747, 26.392119543332612, 33.91483443869285, 29, 75, 44, 44, 28], [0.0; 0.0; … ; 0.0; 0.0])"
      ]
     },
     "execution_count": 192,
     "metadata": {},
     "output_type": "execute_result"
    }
   ],
   "source": [
    "Scouting(population, bounds_lower,bounds_upper,trials,fitness,objectives,4, 0.025)"
   ]
  },
  {
   "cell_type": "code",
   "execution_count": 193,
   "metadata": {},
   "outputs": [
    {
     "data": {
      "text/plain": [
       "9-element Array{Any,1}:\n",
       " [2, -4, -3, -3]\n",
       " [-3.4055621946355186, -3.4866990776753704, 2.4261132044040075, -4.345318179469833]\n",
       " [1.63499052213602, -2.624716660935502, -0.20624440592476923, -4.097224820618259]\n",
       " [-0.12392322216934204, 3.248035816996552, -4.826479921323399, -0.23416313601768213]\n",
       " [-4, 0, 2, 3]\n",
       " [-5, 4, 5, -3]\n",
       " [-3, -1, 5, -3]\n",
       " [3, -5, -3, 1]\n",
       " [2, 2, 4, -2]"
      ]
     },
     "execution_count": 193,
     "metadata": {},
     "output_type": "execute_result"
    }
   ],
   "source": [
    "population"
   ]
  },
  {
   "cell_type": "code",
   "execution_count": 194,
   "metadata": {},
   "outputs": [
    {
     "data": {
      "text/plain": [
       "9-element Array{Any,1}:\n",
       " 0.02564102564102564\n",
       " 0.020192743907895563\n",
       "  Any[0.036506850023710756]\n",
       "  Any[0.02864112106147619]\n",
       " 0.03333333333333333\n",
       " 0.013157894736842105\n",
       " 0.022222222222222223\n",
       " 0.022222222222222223\n",
       " 0.034482758620689655"
      ]
     },
     "execution_count": 194,
     "metadata": {},
     "output_type": "execute_result"
    }
   ],
   "source": [
    "fitness"
   ]
  },
  {
   "cell_type": "code",
   "execution_count": 195,
   "metadata": {},
   "outputs": [
    {
     "data": {
      "text/plain": [
       "9-element Array{Any,1}:\n",
       " 38\n",
       " 48.52273968120747\n",
       " 26.392119543332612\n",
       " 33.91483443869285\n",
       " 29\n",
       " 75\n",
       " 44\n",
       " 44\n",
       " 28"
      ]
     },
     "execution_count": 195,
     "metadata": {},
     "output_type": "execute_result"
    }
   ],
   "source": [
    "objectives"
   ]
  }
 ],
 "metadata": {
  "kernelspec": {
   "display_name": "Julia 1.5.2",
   "language": "julia",
   "name": "julia-1.5"
  },
  "language_info": {
   "file_extension": ".jl",
   "mimetype": "application/julia",
   "name": "julia",
   "version": "1.5.2"
  }
 },
 "nbformat": 4,
 "nbformat_minor": 4
}
