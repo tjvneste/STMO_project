{
 "cells": [
  {
   "cell_type": "code",
   "execution_count": 25,
   "metadata": {},
   "outputs": [
    {
     "data": {
      "text/plain": [
       "ArtificialBeeColonization (generic function with 1 method)"
      ]
     },
     "execution_count": 25,
     "metadata": {},
     "output_type": "execute_result"
    }
   ],
   "source": [
    "\"\"\" Artificial Bee Colony Algorithm\n",
    "\n",
    "This functions runs the Artificial Bee Colony Algorithm with as output the optimal solution of the size D.\n",
    "\n",
    "Input\n",
    "- D: number of decision variables\n",
    "- bounds_lower: lower bounds of variables \n",
    "- bounds_upper: upper bounds of variables \n",
    "- S: swarm size\n",
    "- T: number of cycles\n",
    "- limit: decides when scouts phase needs to be executed (often taken Np*D)\n",
    "- f: the function that you want to use for computing objective values\n",
    "\n",
    "\n",
    "\n",
    "Output\n",
    "- optimal_solution: gives a vector of the size of D with the optimal solution  \n",
    "\n",
    "\"\"\"\n",
    "\n",
    "function ArtificialBeeColonization(D, bounds_lower, bounds_upper, S, T, limit, f::Function)\n",
    "    @assert D > 0 # only a positive number of decision variables\n",
    "    @assert bounds_lower <= bounds_upper # lower bounds must be lower than the upperbounds or equal\n",
    "    @assert length(bounds_lower) == length(bounds_upper) == D  # length of the boundries must be equal to the number of decision variables\n",
    "    @assert iseven(S) # swarm size must be an even number\n",
    "    @assert S > 0 # swarm size can not be negative\n",
    "    @assert T > 0 # number of cylces must be postive\n",
    " \n",
    "    \n",
    "    Np = Int8(S/2) # number of food sources/employed bees/onlooker bees\n",
    "    \n",
    "    # initialize population\n",
    "    population = initialize_population(D, bounds_lower, bounds_upper, Np)\n",
    "    \n",
    "    # calculate objective values and fitness values for population\n",
    "    objective_values = compute_objective(population, f)\n",
    "    fitness_values = compute_fitness(objective_values)\n",
    "    \n",
    "    # initialize trial vector for population\n",
    "    trial = zeros(Np, 1)\n",
    "    best_fitness = 0\n",
    "    optimal_solution = []\n",
    "    populations = []\n",
    "    for iterations in 1:T\n",
    "    \n",
    "        ## EMPLOYED BEE PHASE\n",
    "        population, fitness_values, objective_values, trial = employed_bee_phase(population, bounds_lower, bounds_upper, trial, Np, f::Function)\n",
    "    \n",
    "    \n",
    "        ## ONLOOKER BEE PHASE\n",
    "        population, fitness_values, objective_values, trial = onlooker_bee_phase(population, bounds_lower, bounds_upper, trial, Np, f::Function)  \n",
    "       \n",
    "        ## SCOUTING PHASE\n",
    "        if maximum(fitness_values) > best_fitness\n",
    "            best_fitness = maximum(fitness_values)\n",
    "            ind = argmax(fitness_values)\n",
    "            optimal_solution = population[ind]\n",
    "            \n",
    "        end\n",
    "            \n",
    "        population, fitness_values, objective_values, trial = Scouting(population, bounds_lower, bounds_upper, trial, fitness_values, objective_values, limit, f::Function)\n",
    "        \n",
    "        if maximum(fitness_values) > best_fitness\n",
    "            best_fitness = maximum(fitness_values)\n",
    "            ind = argmax(fitness_values)\n",
    "            optimal_solution = population[ind]\n",
    "            \n",
    "        end\n",
    "        populations = append!(populations, [population])\n",
    "    end\n",
    "\n",
    "    return optimal_solution,populations\n",
    "end\n"
   ]
  },
  {
   "cell_type": "code",
   "execution_count": 53,
   "metadata": {},
   "outputs": [
    {
     "data": {
      "text/plain": [
       "500"
      ]
     },
     "execution_count": 53,
     "metadata": {},
     "output_type": "execute_result"
    }
   ],
   "source": [
    "S = 24\n",
    "D = 2\n",
    "bounds_lower = [-100,-100];\n",
    "bounds_upper = [100,100];\n",
    "limit = D * (S/2)\n",
    "T= 500\n"
   ]
  },
  {
   "cell_type": "code",
   "execution_count": 56,
   "metadata": {},
   "outputs": [
    {
     "data": {
      "text/plain": [
       "2-element Array{Float64,1}:\n",
       " -4.2291042406308465e-10\n",
       " -9.508071096677229e-10"
      ]
     },
     "execution_count": 56,
     "metadata": {},
     "output_type": "execute_result"
    }
   ],
   "source": [
    "optimal_solution,populations = ArtificialBeeColonization(D, bounds_lower, bounds_upper, S, T, limit, rastrigine)\n",
    "optimal_solution \n",
    "# sphere: the minimum value of zero is at (0,0)\n",
    "# ackley: the minimum value of zero is at (0,0)\n",
    "# rosebrock: the minimum value of zero is at (1,1)\n",
    "# brunin: Branin-Hoo, function has three global minima: at (-3.14, 12.275), (3.14, 2.275), (9.42, 2.475)\n",
    "# rastrigine: the minimum value of zero is at (0,0)"
   ]
  },
  {
   "cell_type": "code",
   "execution_count": 4,
   "metadata": {},
   "outputs": [
    {
     "data": {
      "text/plain": [
       "initialize_population (generic function with 1 method)"
      ]
     },
     "execution_count": 4,
     "metadata": {},
     "output_type": "execute_result"
    }
   ],
   "source": [
    "\"\"\" Initialize population\n",
    "\n",
    "This function generates Np random solutions (food sources) within the domain \n",
    "of the variables to form an initial population for the ABC algorithm.\n",
    "\n",
    "Input\n",
    "- D: number of decision variables\n",
    "- bounds_lower: lower bounds of variables \n",
    "- bounds_upper: upper bounds of variables \n",
    "- Np: number of food sources/employed bees/onlooker bees\n",
    "\n",
    "Output \n",
    "- population: a random solution of the size D\n",
    "\"\"\"\n",
    "\n",
    "function initialize_population(D, bounds_lower, bounds_upper, Np)\n",
    "    population = []   \n",
    "    for i in 1:Np\n",
    "        food_source = collect(rand(bounds_lower[i]:bounds_upper[i]) for i in 1:D)\n",
    "        append!(population, [food_source])\n",
    "    end\n",
    "        \n",
    "    return population\n",
    "end\t\n",
    "\n",
    "\n"
   ]
  },
  {
   "cell_type": "code",
   "execution_count": 5,
   "metadata": {},
   "outputs": [
    {
     "data": {
      "text/plain": [
       "compute_objective"
      ]
     },
     "execution_count": 5,
     "metadata": {},
     "output_type": "execute_result"
    }
   ],
   "source": [
    "\"\"\"Objective function\n",
    "\n",
    "Calculates the objective values for a certain function \n",
    "Calculation for 1 vector or n instances (vectors) in population.\n",
    "\n",
    "Input\n",
    "- input: input values\n",
    "- f: the function that you want to use for computing objective values\n",
    "\n",
    "\"\"\"\n",
    "function compute_objective(input, f::Function)\n",
    "    if length(input)==1\n",
    "        objective = f(sum(input))\n",
    "        output = objective\n",
    "    else\n",
    "        objectives_population = []\n",
    "        \n",
    "        for j in 1:length(input)\n",
    "            food_source = input[j]\n",
    "            objective = f(food_source)\n",
    "            append!(objectives_population, objective)\n",
    "        end\n",
    "        \n",
    "        output = objectives_population\n",
    "    end\n",
    "    \n",
    "    return output\n",
    "end"
   ]
  },
  {
   "cell_type": "code",
   "execution_count": 6,
   "metadata": {},
   "outputs": [
    {
     "data": {
      "text/plain": [
       "compute_fitness (generic function with 1 method)"
      ]
     },
     "execution_count": 6,
     "metadata": {},
     "output_type": "execute_result"
    }
   ],
   "source": [
    "\"\"\" Fitness function\n",
    "\n",
    "This functions calculates the fitness of a population.\n",
    "The fitness is calculated as 1/(1+objective_values).\n",
    "The bigger the objective values the smaller the fitness values.\n",
    "\n",
    "Input\n",
    "- objective values\n",
    "\n",
    "Output\n",
    "- fitness values\n",
    "\n",
    "\n",
    "\"\"\"\n",
    "\n",
    "function compute_fitness(objective_values)\n",
    "    fitness_values = []\n",
    "    \n",
    "    for i in 1:length(objective_values)\n",
    "        objective_value = objective_values[i]\n",
    "        \n",
    "        if objective_value >= 0\n",
    "            fitness = 1/(1+objective_value)\n",
    "     \n",
    "        else\n",
    "            fitness = 1+abs(objective_value)\n",
    "        end\n",
    "        \n",
    "        append!(fitness_values, fitness)\n",
    "    end\n",
    "    return fitness_values\n",
    "end\t\n",
    "\n"
   ]
  },
  {
   "cell_type": "code",
   "execution_count": 7,
   "metadata": {},
   "outputs": [
    {
     "data": {
      "text/plain": [
       "employed_bee_phase (generic function with 1 method)"
      ]
     },
     "execution_count": 7,
     "metadata": {},
     "output_type": "execute_result"
    }
   ],
   "source": [
    "\"\"\" Employed bee phase function\n",
    "This functions employs the employed bee phase. \n",
    "\n",
    "Input\n",
    "- population: population of solutions \n",
    "- bounds_lower: lower bounds of variables \n",
    "- bounds_upper: upper bounds of variables \n",
    "- trial: current trial of solutions\n",
    "- Np: number of food sources/employed bees/onlooker bees\n",
    "- f: the function that you want to use for computing objective values\n",
    "\n",
    "Output\n",
    "- population_new_evolved: new population values\n",
    "- fitness_new_evolved: new fitness values\n",
    "- objective_new_evolved: new objective values\n",
    "- trial: updated trials of solutions in population\n",
    "    When original solution has failed to generate better solution, trial counter is increased by 1 unit\n",
    "    When better solution has been found, the trial counter for this new solution is set to zero\n",
    "\n",
    "\"\"\"\n",
    "\n",
    "function employed_bee_phase(population, bounds_lower, bounds_upper, trial, Np, f::Function)\n",
    "    population_new = []\n",
    "    \n",
    "    # create new food sources\n",
    "    for i in 1:Np\n",
    "        solution = population[i, :][1]\n",
    "        solution_new = solution\n",
    "        while solution_new == solution\n",
    "            solution_new = create_newsolution(solution, population, bounds_lower, bounds_upper)\n",
    "        end\n",
    "        append!(population_new, [solution_new])\n",
    "    end\n",
    "    \n",
    "    # evaluate fitness old and new population\n",
    "    objective_values_old = compute_objective(population, f)\n",
    "    fitness_old = compute_fitness(objective_values_old)\n",
    "    objective_values_new = compute_objective(population_new, f)\n",
    "    fitness_new = compute_fitness(objective_values_new)\n",
    "\n",
    "    # perform greedy selection\n",
    "    population_new_evolved = []\n",
    "    fitness_new_evolved = []\n",
    "    objective_new_evolved = []\n",
    "    \n",
    "    for j in 1:Np\n",
    "        if fitness_new[j] > fitness_old[j]\n",
    "            append!(population_new_evolved, [population_new[j]])\n",
    "            append!(fitness_new_evolved, fitness_new[j])\n",
    "            append!(objective_new_evolved, objective_values_new[j])\n",
    "            trial[j] = 0\n",
    "        else \n",
    "            append!(population_new_evolved, [population[j]]) \n",
    "            append!(fitness_new_evolved, fitness_old[j])\n",
    "            append!(objective_new_evolved, objective_values_old[j])\n",
    "            trial[j] += 1\n",
    "        end\n",
    "    end\n",
    "    \n",
    "    return population_new_evolved, fitness_new_evolved, objective_new_evolved, trial\n",
    "end\n",
    "\n"
   ]
  },
  {
   "cell_type": "code",
   "execution_count": 8,
   "metadata": {},
   "outputs": [
    {
     "data": {
      "text/plain": [
       "foodsource_info_prob (generic function with 1 method)"
      ]
     },
     "execution_count": 8,
     "metadata": {},
     "output_type": "execute_result"
    }
   ],
   "source": [
    "\"\"\" Food source information (measured in probabilities)\n",
    "This function measures the food source information in probabilities. \n",
    "The food source information is calculated as following: 0.9*(fitness_value/maximum(fitness_values)) + 0.1\n",
    "\n",
    "Input\n",
    "- fitness_values: fitness values\n",
    "\n",
    "Output\n",
    "- probabilities: probabilities of the food source information \n",
    "\n",
    "\n",
    "\"\"\"\n",
    "\n",
    "function foodsource_info_prob(fitness_values)\n",
    "    probabilities = []\n",
    "    \n",
    "    for i in 1:length(fitness_values)\n",
    "        fitness_value = fitness_values[i] \n",
    "        probability = 0.9*(fitness_value/maximum(fitness_values)) + 0.1\n",
    "        append!(probabilities, probability)\n",
    "    end\n",
    "    \n",
    "    return probabilities\n",
    "end\t\n",
    "\n"
   ]
  },
  {
   "cell_type": "code",
   "execution_count": 9,
   "metadata": {},
   "outputs": [
    {
     "data": {
      "text/plain": [
       "onlooker_bee_phase (generic function with 1 method)"
      ]
     },
     "execution_count": 9,
     "metadata": {},
     "output_type": "execute_result"
    }
   ],
   "source": [
    "\"\"\" Onlooker bee phase function\n",
    "This function employs the onlooker bee phase. \n",
    "\n",
    "Input\n",
    "- population: population of solutions \n",
    "- bounds_lower: lower bounds of variables \n",
    "- bounds_upper: upper bounds of variables \n",
    "- trial: current trial of solutions\n",
    "- Np: number of food sources/employed bees/onlooker bees\n",
    "- f: the function that you want to use for computing objective values\n",
    "\n",
    "Output\n",
    "- population: new population values\n",
    "- fitness_new_evolved: new fitness values\n",
    "- objective_new_evolved: new objective values\n",
    "- trial: updated trials of solutions in population\n",
    "    When original solution has failed to generate better solution, trial counter is increased by 1 unit\n",
    "    When better solution has been found, the trial counter for this new solution is set to zero\n",
    "\n",
    "\"\"\"\n",
    "\n",
    "function onlooker_bee_phase(population, bounds_lower, bounds_upper, trial, Np, f::Function)\n",
    "    m = 0 # onlooker bee\n",
    "    n = 1 # food source\n",
    "    \n",
    "    objective_values = compute_objective(population,f)\n",
    "    fitness = compute_fitness(objective_values)\n",
    "    # first calculate the probability values\n",
    "    proba = foodsource_info_prob(fitness)\n",
    "    \n",
    "    while m <= Np # we want for every onlooker bee a new solution\n",
    "        r = rand()\n",
    "        if r <= proba[n]\n",
    "            solution = population[n, :][1] # solution n\n",
    "            objective_values_old = compute_objective([solution], f)\n",
    "            fitness_old = compute_fitness(objective_values_old)\n",
    "            \n",
    "            solution_new = solution\n",
    "            while solution_new == solution\n",
    "                solution_new = create_newsolution(solution, population, bounds_lower, bounds_upper)\n",
    "            end\n",
    "    \n",
    "            objective_values_new = compute_objective([solution_new], f)\n",
    "            fitness_new = compute_fitness(objective_values_new)\n",
    "            \n",
    "            if fitness_new > fitness_old # if this get accepted \n",
    "                population[n, :] = [solution_new]\n",
    "                trial[n]=0\n",
    "            else \n",
    "                trial[n] += 1\n",
    "            end\n",
    "            m = m + 1\n",
    "        end\n",
    "        # if the rand < proba is not sattisfied\n",
    "        n = n +1\n",
    "        if n > Np \n",
    "            n = 1\n",
    "        end\n",
    "    end\n",
    "    objective_new_evolved = compute_objective(population,f)\n",
    "    fitness_new_evolved = compute_fitness(objective_new_evolved)\n",
    "    \n",
    "    return population, fitness_new_evolved, objective_new_evolved, trial\n",
    "end\t\n",
    "\n",
    "\n"
   ]
  },
  {
   "cell_type": "code",
   "execution_count": 10,
   "metadata": {},
   "outputs": [
    {
     "data": {
      "text/plain": [
       "Scouting (generic function with 1 method)"
      ]
     },
     "execution_count": 10,
     "metadata": {},
     "output_type": "execute_result"
    }
   ],
   "source": [
    "\"\"\" Scouting function\n",
    "This function employs the scouting phase. \n",
    "\n",
    "Input\n",
    "- population : population of solutions \n",
    "- bounds_lower: lower bounds of variables \n",
    "- bounds_upper: upper bounds of variables \n",
    "- trials: current trial of solutions\n",
    "- fitness: fitness values\n",
    "- objective: objective values\n",
    "- limit: limit value\n",
    "- f: the function that you want to use for computing objective values\n",
    "\n",
    "Output \n",
    "- population: new population values\n",
    "- fitness: new fitness values\n",
    "- objective: new objective values\n",
    "- trials: updated trials of solutions in population\n",
    "    When original solution has failed to generate better solution, trial counter is increased by 1 unit\n",
    "    When better solution has been found, the trial counter for this new solution is set to zero\n",
    "\n",
    "\n",
    "\"\"\"\n",
    "\n",
    "function Scouting(population, bounds_lower, bounds_upper, trials, fitness, objective, limit, f::Function)\n",
    "        \n",
    "        # check whether the trial vector exceed the limit value and importantly where\n",
    "        index_exceed = trials .> limit\n",
    "    \n",
    "        if sum(index_exceed) >= 1 # there is minimal one case where we exceed the limit\n",
    "            if sum(maximum(trials) .== trials) > 1 # multiple cases have the same maximum so chose randomly\n",
    "                possible_scoutings = findall(trials .== maximum(trials))\n",
    "                idx = rand(1:size(possible_scoutings)[1])\n",
    "                global scouting_array = possible_scoutings[idx]\n",
    "            else # only one array has a maximum => chose this one \n",
    "            \n",
    "                global scouting_array = argmax(trials)\n",
    "            end\n",
    "            pop = population[scouting_array]\n",
    "            fit = fitness[scouting_array]\n",
    "            obj = objective[scouting_array]\n",
    "            trail = trials[scouting_array]\n",
    "        \n",
    "            #creating random population\n",
    "            sol_new = bounds_lower + (bounds_upper-bounds_lower) .* rand(D) # -5 *(10*rand)\n",
    "            new_obj = compute_objective([sol_new],f)\n",
    "            new_fit = compute_fitness(new_obj)\n",
    "        \n",
    "            # replacing the new population\n",
    "            population[scouting_array] = sol_new\n",
    "            fitness[scouting_array] = new_fit[1]\n",
    "            objective[scouting_array] = new_obj\n",
    "            trials[scouting_array] = 0\n",
    "        \n",
    "        end\n",
    "        return population, fitness, objective, trials  \n",
    "\n",
    "\n",
    "end\n",
    "\n",
    "\n"
   ]
  },
  {
   "cell_type": "code",
   "execution_count": 11,
   "metadata": {},
   "outputs": [
    {
     "data": {
      "text/plain": [
       "create_newsolution (generic function with 1 method)"
      ]
     },
     "execution_count": 11,
     "metadata": {},
     "output_type": "execute_result"
    }
   ],
   "source": [
    "\"\"\" Creating a new solution\n",
    "Creates new solution by changing one variable using partner solution.\n",
    "\n",
    "Input\n",
    "- solutions: current solution \n",
    "- population : population of solutions \n",
    "- bounds_lower: lower bounds of variables \n",
    "- bounds_upper: upper bounds of variables \n",
    "\n",
    "Output\n",
    "- solution_new: new solution with one variable changed using the partner solutions\n",
    "\n",
    "\n",
    "\"\"\"\n",
    "\n",
    "function create_newsolution(solution, population, bounds_lower, bounds_upper)\n",
    "        # select random variable to change       \n",
    "        randomvar1_index = rand(1:size(solution)[1], 1)\n",
    "\n",
    "        # select partner solution to generate new solution        \n",
    "        randompartner_index = rand(1:size(population)[1], 1)\n",
    "\n",
    "        # select random variable in partner solution to exchange with\n",
    "\n",
    "        randompartner = population[randompartner_index, :][1]\n",
    "        randomvar2_index = rand(1:length(randompartner), 1)\n",
    "\n",
    "        # create new food location\n",
    "        phi = rand()*2-1 #random number between -1 and 1     \n",
    "        global solution_new = float(deepcopy(solution))\n",
    "        a = solution[randomvar1_index] \n",
    "        b = randompartner[randomvar2_index]\n",
    "        solution_new[randomvar1_index] = a + phi*(a - b)\n",
    "\n",
    "        # check if lower bound is violated\n",
    "        if solution_new[randomvar1_index] < bounds_lower[randomvar1_index] \n",
    "            solution_new[randomvar1_index] = bounds_lower[randomvar1_index]\n",
    "        end\n",
    "\n",
    "        # check if upper bound is violated\n",
    "        if solution_new[randomvar1_index] > bounds_upper[randomvar1_index]\n",
    "            solution_new[randomvar1_index] = bounds_upper[randomvar1_index]\n",
    "        end\n",
    "    return solution_new\n",
    "end\n",
    "\n"
   ]
  },
  {
   "cell_type": "code",
   "execution_count": 55,
   "metadata": {},
   "outputs": [
    {
     "data": {
      "text/plain": [
       "rastrigine (generic function with 1 method)"
      ]
     },
     "execution_count": 55,
     "metadata": {},
     "output_type": "execute_result"
    }
   ],
   "source": [
    "function sphere(x)\n",
    "    d = length(x)\n",
    "    return sum(x.^2)\n",
    "end  \n",
    "\n",
    "function ackley(x; a=20, b=0.2, c=2π)\n",
    "    d = length(x)\n",
    "    return -a * exp(-b*sqrt(sum(x.^2)/d)) -\n",
    "        exp(sum(cos.(c .* x))/d) + a + exp(1)\n",
    "end\n",
    "\n",
    "function rosenbrock(x; a=1, b=5)\n",
    "    # 2 dimensions!\n",
    "    return (a-x[1])^2 + b*(x[2]-x[1]^2)^2\n",
    "end\n",
    "\n",
    "function branin((x1, x2); a=1, b=5.1/(4pi^2), c=5/pi, r=6, s=10, t=1/8pi)\n",
    "    # 2 dimensions!\n",
    "    return a * (x2 - b * x1^2 + c * x1 - r)^2 + s * (1 - t) * cos(x1) + s\n",
    "end\n",
    "\n",
    "function rastrigine(x; A=10)\n",
    "    return length(x) * A + sum(x.^2 .- A .* cos.(2pi .* x))\n",
    "end"
   ]
  },
  {
   "cell_type": "code",
   "execution_count": 13,
   "metadata": {},
   "outputs": [
    {
     "name": "stderr",
     "output_type": "stream",
     "text": [
      "\u001b[32m\u001b[1m   Updating\u001b[22m\u001b[39m registry at `C:\\Users\\kirst\\.julia\\registries\\General`\n",
      "\u001b[32m\u001b[1m  Resolving\u001b[22m\u001b[39m"
     ]
    },
    {
     "ename": "LoadError",
     "evalue": "InterruptException:",
     "output_type": "error",
     "traceback": [
      "InterruptException:",
      "",
      "Stacktrace:",
      " [1] try_yieldto(::typeof(Base.ensure_rescheduled)) at .\\task.jl:656",
      " [2] wait at .\\task.jl:713 [inlined]",
      " [3] uv_write(::Base.PipeEndpoint, ::Ptr{UInt8}, ::UInt64) at .\\stream.jl:933",
      " [4] unsafe_write(::Base.PipeEndpoint, ::Ptr{UInt8}, ::UInt64) at .\\stream.jl:1005",
      " [5] unsafe_write at .\\io.jl:337 [inlined]",
      " [6] write at .\\strings\\io.jl:183 [inlined]",
      " [7] print at .\\strings\\io.jl:185 [inlined]",
      " [8] with_output_color(::Function, ::Symbol, ::IJulia.IJuliaStdio{Base.PipeEndpoint}, ::String; bold::Bool) at .\\util.jl:90",
      " [9] #printstyled#746 at .\\util.jl:104 [inlined]",
      " [10] printpkgstyle(::IJulia.IJuliaStdio{Base.PipeEndpoint}, ::Symbol, ::String, ::Bool) at D:\\buildbot\\worker\\package_win64\\build\\usr\\share\\julia\\stdlib\\v1.5\\Pkg\\src\\Types.jl:1352",
      " [11] printpkgstyle(::Pkg.Types.Context, ::Symbol, ::String, ::Bool) at D:\\buildbot\\worker\\package_win64\\build\\usr\\share\\julia\\stdlib\\v1.5\\Pkg\\src\\Types.jl:1347 (repeats 2 times)",
      " [12] _resolve at D:\\buildbot\\worker\\package_win64\\build\\usr\\share\\julia\\stdlib\\v1.5\\Pkg\\src\\Operations.jl:1119 [inlined]",
      " [13] add(::Pkg.Types.Context, ::Array{Pkg.Types.PackageSpec,1}, ::Array{Base.UUID,1}; preserve::Pkg.Types.PreserveLevel, platform::Pkg.BinaryPlatforms.Windows) at D:\\buildbot\\worker\\package_win64\\build\\usr\\share\\julia\\stdlib\\v1.5\\Pkg\\src\\Operations.jl:1135",
      " [14] add(::Pkg.Types.Context, ::Array{Pkg.Types.PackageSpec,1}; preserve::Pkg.Types.PreserveLevel, platform::Pkg.BinaryPlatforms.Windows, kwargs::Base.Iterators.Pairs{Union{},Union{},Tuple{},NamedTuple{(),Tuple{}}}) at D:\\buildbot\\worker\\package_win64\\build\\usr\\share\\julia\\stdlib\\v1.5\\Pkg\\src\\API.jl:189",
      " [15] add(::Pkg.Types.Context, ::Array{Pkg.Types.PackageSpec,1}) at D:\\buildbot\\worker\\package_win64\\build\\usr\\share\\julia\\stdlib\\v1.5\\Pkg\\src\\API.jl:140",
      " [16] #add#21 at D:\\buildbot\\worker\\package_win64\\build\\usr\\share\\julia\\stdlib\\v1.5\\Pkg\\src\\API.jl:67 [inlined]",
      " [17] add at D:\\buildbot\\worker\\package_win64\\build\\usr\\share\\julia\\stdlib\\v1.5\\Pkg\\src\\API.jl:67 [inlined]",
      " [18] #add#20 at D:\\buildbot\\worker\\package_win64\\build\\usr\\share\\julia\\stdlib\\v1.5\\Pkg\\src\\API.jl:66 [inlined]",
      " [19] add at D:\\buildbot\\worker\\package_win64\\build\\usr\\share\\julia\\stdlib\\v1.5\\Pkg\\src\\API.jl:66 [inlined]",
      " [20] add(::String; kwargs::Base.Iterators.Pairs{Union{},Union{},Tuple{},NamedTuple{(),Tuple{}}}) at D:\\buildbot\\worker\\package_win64\\build\\usr\\share\\julia\\stdlib\\v1.5\\Pkg\\src\\API.jl:65",
      " [21] add(::String) at D:\\buildbot\\worker\\package_win64\\build\\usr\\share\\julia\\stdlib\\v1.5\\Pkg\\src\\API.jl:65",
      " [22] top-level scope at In[13]:1",
      " [23] include_string(::Function, ::Module, ::String, ::String) at .\\loading.jl:1091"
     ]
    }
   ],
   "source": [
    "using Pkg; Pkg.add(\"Optim\")"
   ]
  },
  {
   "cell_type": "code",
   "execution_count": 14,
   "metadata": {},
   "outputs": [
    {
     "ename": "LoadError",
     "evalue": "ArgumentError: Package Optim not found in current path:\n- Run `import Pkg; Pkg.add(\"Optim\")` to install the Optim package.\n",
     "output_type": "error",
     "traceback": [
      "ArgumentError: Package Optim not found in current path:\n- Run `import Pkg; Pkg.add(\"Optim\")` to install the Optim package.\n",
      "",
      "Stacktrace:",
      " [1] require(::Module, ::Symbol) at .\\loading.jl:893",
      " [2] include_string(::Function, ::Module, ::String, ::String) at .\\loading.jl:1091"
     ]
    }
   ],
   "source": [
    "using Optim"
   ]
  },
  {
   "cell_type": "code",
   "execution_count": 15,
   "metadata": {},
   "outputs": [
    {
     "ename": "LoadError",
     "evalue": "UndefVarError: optimize not defined",
     "output_type": "error",
     "traceback": [
      "UndefVarError: optimize not defined",
      "",
      "Stacktrace:",
      " [1] macro expansion at .\\In[15]:8 [inlined]",
      " [2] top-level scope at .\\timing.jl:174 [inlined]",
      " [3] top-level scope at .\\In[15]:0",
      " [4] include_string(::Function, ::Module, ::String, ::String) at .\\loading.jl:1091"
     ]
    }
   ],
   "source": [
    "@time begin\n",
    "S = 24\n",
    "D = 4\n",
    "bounds_lower = [-100,-100, -100,-100];\n",
    "bounds_upper = [100,100, 100,100];\n",
    "population = initialize_population(D, bounds_lower, bounds_upper, S/2)\n",
    "population = float(population[1])\n",
    "optimize(sphere,population)\n",
    "end"
   ]
  },
  {
   "cell_type": "code",
   "execution_count": 16,
   "metadata": {},
   "outputs": [
    {
     "name": "stdout",
     "output_type": "stream",
     "text": [
      "  3.032750 seconds (8.55 M allocations: 421.005 MiB, 8.40% gc time)\n"
     ]
    },
    {
     "data": {
      "text/plain": [
       "([3.430208779500989e-9, -5.371843776077437e-10, 4.791696414711811e-9, -3.5595400307109653e-9], Any[Any[[-54.0, 23.453700473107848, -5.617947233599658, 9.0], [81, 91, 13, -19], [-34, -13, 15, 68], [48.84247647321747, -68.0, -16.36562055283561, -54.0], [74, 96, 61, 52], [-52.12853061286455, 77.0, -36.0, 68.0], [-92, -60, 49, 50], [12, -79, -89, 55], [-62, -60, -92, -7], [-87.0, -44.475763387439684, 8.0, 13.027269207383945], [-2, 46, 52, 48], [-21, -81, 68, 72]], Any[[-54.0, 10.612969924430686, -5.617947233599658, 7.543595150880679], [81, 91, 13, -19], [-34, -13, 15, 68], [48.84247647321747, -68.0, -16.36562055283561, -54.0], [74.0, 96.0, 55.45428209932545, 52.0], [23.030718954248343, 77.0, -36.0, 68.0], [76.32946219536001, -60.0, 49.0, 50.0], [12, -79, -89, 55], [-62.0, -45.81549714157016, -92.0, -7.0], [-87.0, -44.475763387439684, 3.192472727875937, 13.027269207383945], [-2, 46, 52, 48], [-21.0, -81.0, -2.51164766842048, 72.0]], Any[[-54.0, 6.1895782725648605, -5.617947233599658, 6.306895718761066], [81, 91, 13, -19], [-34, -13, 15, 68], [48.84247647321747, -68.0, -16.36562055283561, -54.0], [74.0, 96.0, 55.45428209932545, 52.0], [23.030718954248343, 77.0, -36.0, 68.0], [76.32946219536001, -60.0, 49.0, 50.0], [12.0, -79.0, -54.63164489631708, 55.0], [1.8621074404332383, -45.81549714157016, -92.0, -7.0], [-87.0, -17.433455078139914, 3.192472727875937, 13.027269207383945], [-2.0, 29.242779158105463, 12.235981320083702, 48.0], [-21.0, -81.0, -2.51164766842048, 72.0]], Any[[-35.34287556793883, -5.283180558914861, -5.617947233599658, 6.306895718761066], [64.65336430043062, 91.0, 13.0, -19.0], [-34.0, -11.559756324482757, 15.0, 68.0], [48.84247647321747, -68.0, -16.36562055283561, -54.0], [74.0, 66.09736103692485, 55.45428209932545, 52.0], [23.030718954248343, 55.34213528959371, -36.0, 68.0], [76.32946219536001, -60.0, 49.0, 48.02675501759306], [12.0, -79.0, -54.63164489631708, 55.0], [1.8621074404332383, -45.81549714157016, -9.238020321548476, -7.0], [-87.0, -0.004845312790379808, 3.192472727875937, 13.027269207383945], [-2.0, 21.369388136098436, 12.235981320083702, 48.0], [-21.0, -81.0, -2.51164766842048, 66.72675890078004]], Any[[-35.34287556793883, -5.283180558914861, -5.388702268997789, 6.306895718761066], [64.65336430043062, 91.0, -1.1359964794748567, -7.920093077428611], [-34.0, 1.1657584910879262, 13.13236245412748, 68.0], [48.84247647321747, -68.0, -16.36562055283561, -54.0], [74.0, 66.09736103692485, 55.45428209932545, 52.0], [23.030718954248343, 55.32996002194674, -36.0, 68.0], [76.32946219536001, -60.0, 49.0, 48.02675501759306], [12.0, 21.46689579811948, -54.63164489631708, 55.0], [1.8621074404332383, -45.81549714157016, -9.238020321548476, 0.36116955084894364], [-87.0, -0.004845312790379808, 3.192472727875937, 13.027269207383945], [-2.0, 11.234019501628143, 12.235981320083702, 48.0], [-21.0, -81.0, -2.51164766842048, 30.56720804487096]], Any[[-34.9937847068759, -5.283180558914861, -5.388702268997789, 6.306895718761066], [64.65336430043062, 80.6866704158659, -1.1359964794748567, -7.920093077428611], [-17.22260942379336, 1.1657584910879262, 13.13236245412748, 68.0], [48.84247647321747, 42.71199991105132, -16.36562055283561, -54.0], [74.0, 66.09736103692485, 55.45428209932545, 52.0], [23.030718954248343, 55.32996002194674, -36.0, 68.0], [76.32946219536001, -60.0, 48.20728797708048, 48.02675501759306], [12.0, 21.46689579811948, -1.3238081239341923, 55.0], [1.8621074404332383, -45.81549714157016, -9.238020321548476, 0.36116955084894364], [-87.0, -0.004845312790379808, 3.192472727875937, 13.027269207383945], [-2.0, 11.234019501628143, 12.235981320083702, 48.0], [-21.0, -81.0, -2.51164766842048, 30.56720804487096]], Any[[-34.9937847068759, -4.037195921611037, -0.7796941807878346, 6.306895718761066], [64.65336430043062, 80.6866704158659, -1.1359964794748567, -7.920093077428611], [-17.22260942379336, 1.1657584910879262, 13.13236245412748, 13.492742591856423], [48.84247647321747, 42.71199991105132, -16.36562055283561, -13.628998279375253], [-9.182190310356418, 66.09736103692485, 55.45428209932545, 15.120382837308647], [9.093888650979016, 55.32996002194674, -36.0, 68.0], [76.32946219536001, -59.66405995483454, 48.20728797708048, 48.02675501759306], [12.0, 21.46689579811948, 0.25229065449328725, 55.0], [1.8621074404332383, -45.81549714157016, -9.238020321548476, 0.36116955084894364], [-87.0, -0.004845312790379808, 3.192472727875937, 13.027269207383945], [-2.0, 11.234019501628143, 12.235981320083702, 48.0], [-3.501779804134017, -81.0, -2.51164766842048, 30.56720804487096]], Any[[-34.9937847068759, -4.037195921611037, -0.7796941807878346, 6.306895718761066], [64.65336430043062, 80.6866704158659, -1.1359964794748567, -7.920093077428611], [-17.22260942379336, 1.1657584910879262, 13.13236245412748, 13.492742591856423], [43.9945722796058, 42.71199991105132, -7.173159804425916, -13.628998279375253], [-9.182190310356418, 66.09736103692485, 55.45428209932545, 15.120382837308647], [9.093888650979016, 42.27080024856979, -36.0, 68.0], [76.32946219536001, -55.84785240492459, 48.20728797708048, 48.02675501759306], [9.454791790462341, 21.46689579811948, 0.25229065449328725, 55.0], [1.8621074404332383, -45.81549714157016, -9.238020321548476, 0.36116955084894364], [-87.0, -0.004845312790379808, 3.192472727875937, 13.027269207383945], [-2.0, 11.234019501628143, 12.235981320083702, 48.0], [-3.501779804134017, -81.0, -2.51164766842048, -0.3285512608885419]], Any[[10.857520876314616, -4.037195921611037, -0.7796941807878346, 6.306895718761066], [64.65336430043062, 80.6866704158659, -1.1359964794748567, -7.920093077428611], [-17.22260942379336, 1.1657584910879262, 13.13236245412748, 13.492742591856423], [43.9945722796058, 36.7260199088027, -7.173159804425916, -13.628998279375253], [-9.182190310356418, 32.64395985769704, 55.45428209932545, 15.120382837308647], [9.093888650979016, 42.27080024856979, -19.66282350866697, 68.0], [76.32946219536001, -55.84785240492459, 48.20728797708048, 48.02675501759306], [9.454791790462341, 21.46689579811948, 0.25229065449328725, 55.0], [0.2678975263676595, -45.81549714157016, -9.238020321548476, 0.36116955084894364], [-87.0, -0.004845312790379808, 3.192472727875937, 6.2398040444606195], [-0.23467190964176465, 11.234019501628143, 12.235981320083702, 48.0], [-3.501779804134017, -81.0, -2.51164766842048, -0.3285512608885419]], Any[[10.857520876314616, -4.037195921611037, -0.7796941807878346, 6.306895718761066], [64.65336430043062, 80.6866704158659, -1.1359964794748567, -7.920093077428611], [-17.22260942379336, 1.1657584910879262, 13.13236245412748, 13.492742591856423], [43.9945722796058, 36.7260199088027, -7.173159804425916, -13.628998279375253], [-9.182190310356418, 32.64395985769704, 50.240867534442096, 15.120382837308647], [9.093888650979016, 42.27080024856979, -19.66282350866697, 29.258562616972476], [56.33322167878235, -55.84785240492459, 48.20728797708048, 48.02675501759306], [9.454791790462341, 21.46689579811948, 0.25229065449328725, 55.0], [-0.05278406514789319, -45.81549714157016, -4.669360887077372, 0.36116955084894364], [-87.0, -0.004845312790379808, 3.192472727875937, 6.2398040444606195], [-0.23467190964176465, 11.234019501628143, -1.4908109012915691, 47.0872226330745], [-3.501779804134017, -81.0, -2.51164766842048, -0.3285512608885419]]  …  Any[[-2.1983021261584727e-5, 1.8817799317353483e-6, 5.027921816826855e-5, 1.683610600830657e-7], [2.8504647660851975e-8, -1.0474581717690397e-5, -3.3470264816823814e-5, -7.559346789428764e-6], [-0.00022679666335495796, -7.728898648522158e-6, -8.236571297324329e-5, -2.6488891842405937e-6], [0.00017106484299043236, -0.0016865595186953434, -0.0006533140717863107, -6.243931102053112e-6], [8.622554138430874e-6, -5.330710209683659e-6, -9.55407319497189e-6, 4.2872523754857727e-7], [0.0010640032666456676, -7.965565864525309e-6, 1.9831049146700864e-6, -7.09626835401676e-5], [-0.0002564359953286123, 0.001016500069244326, -4.1225003836779174e-5, 0.00018715554254579303], [2.3747387545899873e-7, -0.00010613268033568093, -5.892388705413635e-5, -0.0004448980600318045], [0.00898896822794273, -1.206943596162074e-5, 2.231379140467095e-5, -7.313577566372961e-6], [0.00013550963145119485, 0.00046716288881149394, -5.1665840220461214e-6, 0.02376959154549057], [-4.801507848895244e-6, -0.0034017418328702647, 0.40138167209885445, 0.0011459282197058174], [0.000707197078993667, -4.098476832717102e-6, 2.4634106199590322e-5, -3.8570128818297804e-5]], Any[[-2.1983021261584727e-5, 1.8817799317353483e-6, 5.027921816826855e-5, 1.683610600830657e-7], [2.8504647660851975e-8, -1.0474581717690397e-5, -3.2405469106129605e-5, -7.559346789428764e-6], [-0.00022679666335495796, -7.728898648522158e-6, -4.446330891307205e-5, -2.6488891842405937e-6], [8.936085946698366e-5, -0.0016865595186953434, -0.0006533140717863107, -6.243931102053112e-6], [8.622554138430874e-6, -5.330710209683659e-6, -9.55407319497189e-6, 4.2872523754857727e-7], [0.0010640032666456676, -7.965565864525309e-6, 1.9831049146700864e-6, -7.09626835401676e-5], [-0.0002564359953286123, 0.001016500069244326, -3.989331706927013e-5, 0.00018715554254579303], [2.3747387545899873e-7, 3.019145736970897e-5, -5.892388705413635e-5, -0.0004448980600318045], [0.00898896822794273, -1.206943596162074e-5, 2.231379140467095e-5, -7.313577566372961e-6], [0.00013550963145119485, 0.00046716288881149394, -5.1665840220461214e-6, 0.00391496522289244], [-4.801507848895244e-6, -0.0004571950280637577, 0.40138167209885445, 0.0011459282197058174], [0.000707197078993667, -4.098476832717102e-6, 2.4634106199590322e-5, -3.8570128818297804e-5]], Any[[-5.470462713050825e-6, 1.8817799317353483e-6, 5.027921816826855e-5, 1.683610600830657e-7], [2.8504647660851975e-8, -1.0474581717690397e-5, -3.2405469106129605e-5, -7.559346789428764e-6], [-4.56936726800715e-5, -7.728898648522158e-6, 2.216201807506498e-5, -2.6488891842405937e-6], [8.936085946698366e-5, -0.0016865595186953434, -0.0006533140717863107, -6.243931102053112e-6], [8.622554138430874e-6, -5.330710209683659e-6, -9.55407319497189e-6, 4.2872523754857727e-7], [0.0008722086379397602, -7.965565864525309e-6, 1.9831049146700864e-6, -7.09626835401676e-5], [-0.0002564359953286123, 0.00015395668804552508, -3.989331706927013e-5, 0.00018715554254579303], [2.3747387545899873e-7, 3.019145736970897e-5, -5.892388705413635e-5, -2.025636748384101e-5], [0.00898896822794273, -1.206943596162074e-5, 2.231379140467095e-5, -7.313577566372961e-6], [0.00013550963145119485, 0.00046716288881149394, -5.1665840220461214e-6, 0.00391496522289244], [-4.801507848895244e-6, -0.0004571950280637577, 0.2665583721494498, 0.0003670405356834786], [0.000707197078993667, -4.098476832717102e-6, 2.250185051200912e-5, -3.8570128818297804e-5]], Any[[-5.470462713050825e-6, 1.8817799317353483e-6, 5.027921816826855e-5, 1.683610600830657e-7], [2.8504647660851975e-8, -1.0474581717690397e-5, -3.2405469106129605e-5, -7.283993842802816e-6], [-4.56936726800715e-5, 2.8283048055545254e-7, 2.216201807506498e-5, -2.6488891842405937e-6], [3.344604223804927e-5, -0.0016865595186953434, -0.0006533140717863107, -6.243931102053112e-6], [8.622554138430874e-6, -2.8851830380557394e-7, -9.55407319497189e-6, 4.2872523754857727e-7], [0.0008722086379397602, 5.486085884117551e-6, 1.9831049146700864e-6, -7.09626835401676e-5], [-0.0002564359953286123, 0.00015395668804552508, -3.989331706927013e-5, 0.00018715554254579303], [2.3747387545899873e-7, 3.019145736970897e-5, -5.892388705413635e-5, -2.025636748384101e-5], [0.00898896822794273, -1.206943596162074e-5, 2.231379140467095e-5, -7.313577566372961e-6], [0.00013550963145119485, 2.091043167932148e-5, -5.1665840220461214e-6, 0.00391496522289244], [-4.801507848895244e-6, -0.0004571950280637577, 0.2579369518381798, 0.0003670405356834786], [0.000707197078993667, -4.098476832717102e-6, 2.250185051200912e-5, -3.8570128818297804e-5]], Any[[-5.470462713050825e-6, 1.8817799317353483e-6, 3.666234736851146e-5, 1.683610600830657e-7], [2.8504647660851975e-8, 4.74463196302447e-6, -3.2405469106129605e-5, -7.283993842802816e-6], [-4.56936726800715e-5, 2.8283048055545254e-7, -5.375288128878661e-6, -2.6488891842405937e-6], [8.81788719189792e-6, -0.0016865595186953434, -0.0006533140717863107, -6.243931102053112e-6], [8.622554138430874e-6, -1.5967907335879568e-8, -9.55407319497189e-6, 4.2872523754857727e-7], [0.0008722086379397602, 5.486085884117551e-6, 1.9831049146700864e-6, -7.09626835401676e-5], [-0.0002564359953286123, 0.00015395668804552508, -7.342243439424637e-6, 0.00018715554254579303], [2.3747387545899873e-7, 3.019145736970897e-5, -5.892388705413635e-5, -8.471328187310021e-6], [0.005861277129666192, -1.206943596162074e-5, 2.231379140467095e-5, -7.313577566372961e-6], [4.429963516855027e-6, 2.091043167932148e-5, -5.1665840220461214e-6, 0.0023979128210779898], [-4.801507848895244e-6, -0.0004571950280637577, 0.2579369518381798, 0.0003670405356834786], [0.000707197078993667, -4.098476832717102e-6, 1.0976954643693162e-5, -3.8570128818297804e-5]], Any[[-5.470462713050825e-6, 1.8817799317353483e-6, 1.583944521605034e-5, 1.683610600830657e-7], [2.8504647660851975e-8, 4.74463196302447e-6, -3.2405469106129605e-5, -7.283993842802816e-6], [-4.56936726800715e-5, 2.8283048055545254e-7, -5.375288128878661e-6, -2.6488891842405937e-6], [8.81788719189792e-6, -0.0016865595186953434, -0.0006533140717863107, -1.138074080862306e-6], [8.482791678107723e-6, -1.5967907335879568e-8, -9.55407319497189e-6, 4.2872523754857727e-7], [0.0008722086379397602, 5.486085884117551e-6, 1.9831049146700864e-6, -7.09626835401676e-5], [-0.0002564359953286123, 0.00015395668804552508, -7.342243439424637e-6, 0.00018715554254579303], [2.3747387545899873e-7, 3.019145736970897e-5, -5.892388705413635e-5, -8.471328187310021e-6], [0.005861277129666192, -1.206943596162074e-5, 2.231379140467095e-5, -5.62121881190418e-6], [4.429963516855027e-6, 2.091043167932148e-5, -5.1665840220461214e-6, 0.0023979128210779898], [-4.801507848895244e-6, -0.0004571950280637577, 0.0592930130651744, 0.0003670405356834786], [0.00048003802985757525, -4.098476832717102e-6, 1.0976954643693162e-5, -3.8570128818297804e-5]], Any[[-5.470462713050825e-6, 1.8817799317353483e-6, 1.8694798908740924e-6, 1.683610600830657e-7], [2.8504647660851975e-8, -1.7532431211162456e-6, -3.2405469106129605e-5, -7.283993842802816e-6], [-4.56936726800715e-5, 2.8283048055545254e-7, -5.375288128878661e-6, -2.6488891842405937e-6], [8.81788719189792e-6, -0.0016865595186953434, -0.0006533140717863107, -1.138074080862306e-6], [8.482791678107723e-6, -1.5967907335879568e-8, -9.55407319497189e-6, 1.34099501813297e-7], [0.0008722086379397602, 5.486085884117551e-6, 3.582756234299368e-8, -7.09626835401676e-5], [-0.0002564359953286123, 0.00015395668804552508, -7.342243439424637e-6, 0.00018715554254579303], [2.3747387545899873e-7, 3.019145736970897e-5, -2.7858920960099614e-5, -8.471328187310021e-6], [0.005861277129666192, -1.206943596162074e-5, 2.231379140467095e-5, -5.62121881190418e-6], [4.429963516855027e-6, 2.091043167932148e-5, -5.1665840220461214e-6, 0.0023979128210779898], [-4.801507848895244e-6, -0.0004571950280637577, 0.0592930130651744, 1.3594418195553184e-6], [0.00048003802985757525, -4.098476832717102e-6, 1.0976954643693162e-5, -3.8570128818297804e-5]], Any[[-5.470462713050825e-6, 1.8817799317353483e-6, 1.8694798908740924e-6, 1.683610600830657e-7], [2.8504647660851975e-8, -1.7532431211162456e-6, 3.165858043257054e-5, -7.283993842802816e-6], [-4.56936726800715e-5, 2.8283048055545254e-7, -5.375288128878661e-6, -2.6488891842405937e-6], [-5.699050815532567e-6, -0.001545957679202331, -0.0006533140717863107, -1.138074080862306e-6], [-2.596564297260485e-6, -1.5967907335879568e-8, -9.55407319497189e-6, 1.34099501813297e-7], [0.0008722086379397602, 4.264086537066199e-6, 3.582756234299368e-8, -7.09626835401676e-5], [-0.0002564359953286123, 0.00015395668804552508, -7.342243439424637e-6, 0.00016834643252906553], [2.3747387545899873e-7, 3.019145736970897e-5, -2.7858920960099614e-5, -8.471328187310021e-6], [0.005861277129666192, -1.206943596162074e-5, 2.231379140467095e-5, -5.62121881190418e-6], [4.429963516855027e-6, 1.5336547477850625e-5, -5.1665840220461214e-6, 0.0023979128210779898], [-4.801507848895244e-6, -0.0004571950280637577, 0.017167236388564447, 1.3594418195553184e-6], [0.00048003802985757525, -4.098476832717102e-6, 2.6608961858394006e-6, -3.8570128818297804e-5]], Any[[-5.470462713050825e-6, 1.8817799317353483e-6, 1.8694798908740924e-6, 1.683610600830657e-7], [2.8504647660851975e-8, -1.7532431211162456e-6, 3.165858043257054e-5, -7.283993842802816e-6], [-4.56936726800715e-5, 2.8283048055545254e-7, -5.375288128878661e-6, -2.603307157021865e-6], [-5.699050815532567e-6, -0.000648451827877843, -0.0006533140717863107, -1.138074080862306e-6], [-1.7935376117605882e-6, -1.5967907335879568e-8, -9.55407319497189e-6, -4.8672613103921414e-8], [0.0008722086379397602, 4.264086537066199e-6, 3.582756234299368e-8, -7.09626835401676e-5], [-0.0002564359953286123, 0.00015395668804552508, -4.280791086959046e-6, 0.00016834643252906553], [2.3747387545899873e-7, 1.9386797821127823e-6, -2.7858920960099614e-5, -8.471328187310021e-6], [0.005861277129666192, -1.206943596162074e-5, 1.5332876323236075e-5, -5.62121881190418e-6], [4.429963516855027e-6, 1.5336547477850625e-5, -5.1665840220461214e-6, 0.0023979128210779898], [-4.801507848895244e-6, -0.0004571950280637577, 0.017167236388564447, 1.3594418195553184e-6], [0.00048003802985757525, -9.165779187601536e-7, 2.6608961858394006e-6, -3.8570128818297804e-5]], Any[[-5.470462713050825e-6, 4.576213572330583e-7, 1.8694798908740924e-6, 1.683610600830657e-7], [2.8504647660851975e-8, -1.7532431211162456e-6, 3.165858043257054e-5, -7.283993842802816e-6], [-4.56936726800715e-5, 2.8283048055545254e-7, -2.691591575424442e-6, -2.603307157021865e-6], [-5.699050815532567e-6, -0.000648451827877843, -0.0006533140717863107, -1.138074080862306e-6], [-1.7935376117605882e-6, -1.5967907335879568e-8, -9.115599361583449e-6, -4.8672613103921414e-8], [0.0008722086379397602, 4.264086537066199e-6, 3.582756234299368e-8, -7.09626835401676e-5], [-0.0001282340037137483, 0.00015395668804552508, -4.280791086959046e-6, 0.00016834643252906553], [2.3747387545899873e-7, -5.879809386558417e-7, -2.7858920960099614e-5, -8.471328187310021e-6], [0.005861277129666192, -1.206943596162074e-5, 1.5332876323236075e-5, -5.62121881190418e-6], [4.429963516855027e-6, 1.5336547477850625e-5, -5.1665840220461214e-6, 0.0023979128210779898], [-4.801507848895244e-6, -0.0004571950280637577, 0.017167236388564447, 1.3594418195553184e-6], [0.00048003802985757525, -9.165779187601536e-7, 2.6608961858394006e-6, -3.8570128818297804e-5]]])"
      ]
     },
     "execution_count": 16,
     "metadata": {},
     "output_type": "execute_result"
    }
   ],
   "source": [
    "@time begin\n",
    "S = 24\n",
    "D = 4\n",
    "bounds_lower = [-100,-100, -100,-100];\n",
    "bounds_upper = [100,100, 100,100];\n",
    "limit = D * (S/2)\n",
    "T= 500\n",
    "ArtificialBeeColonization(D, bounds_lower, bounds_upper, S,T, limit, sphere)\n",
    "end"
   ]
  },
  {
   "cell_type": "code",
   "execution_count": 17,
   "metadata": {},
   "outputs": [
    {
     "ename": "LoadError",
     "evalue": "UndefVarError: optimize not defined",
     "output_type": "error",
     "traceback": [
      "UndefVarError: optimize not defined",
      "",
      "Stacktrace:",
      " [1] macro expansion at .\\In[17]:8 [inlined]",
      " [2] top-level scope at .\\timing.jl:174 [inlined]",
      " [3] top-level scope at .\\In[17]:0",
      " [4] include_string(::Function, ::Module, ::String, ::String) at .\\loading.jl:1091"
     ]
    }
   ],
   "source": [
    "@time begin\n",
    "S = 24\n",
    "D = 4\n",
    "bounds_lower = [-100,-100, -100,-100];\n",
    "bounds_upper = [100,100, 100,100];\n",
    "population = initialize_population(D, bounds_lower, bounds_upper, S/2)\n",
    "population = float(population[1])\n",
    "optimize(ackley,population)\n",
    "end"
   ]
  },
  {
   "cell_type": "code",
   "execution_count": 18,
   "metadata": {},
   "outputs": [
    {
     "name": "stdout",
     "output_type": "stream",
     "text": [
      "  0.344198 seconds (1.52 M allocations: 87.668 MiB, 5.13% gc time)\n"
     ]
    },
    {
     "data": {
      "text/plain": [
       "([1.2976755464973372e-13, 5.165541199579107e-13, -1.275121150403161e-12, 3.770252544747828e-14], Any[Any[[40, -78, 95, -20], [-22, 72, -73, 43], [-45, 57, 58, 56], [-99, 34, 68, -67], [13, -30, -18, -57], [55, 2, -26, -26], [-94, 15, -65, -1], [49, -88, -48, -5], [-63, -91, 36, -84], [82, 80, -100, 90], [99, 85, -22, 30], [-69, 84, 85, -69]], Any[[40, -78, 95, -20], [-22, 72, -73, 43], [-45, 57, 58, 56], [-99, 34, 68, -67], [13.0, -30.0, -18.0, -5.040253882379034], [55, 2, -26, -26], [-94, 15, -65, -1], [49, -88, -48, -5], [-63, -91, 36, -84], [82, 80, -100, 90], [99, 85, -22, 30], [-69, 84, 85, -69]], Any[[40, -78, 95, -20], [-22, 72, -73, 43], [-45, 57, 58, 56], [-99, 34, 68, -67], [13.0, -30.0, -18.0, -5.040253882379034], [55, 2, -26, -26], [-94, 15, -65, -1], [49, -88, -48, -5], [-63, -91, 36, -84], [82, 80, -100, 90], [99, 85, -22, 30], [-69, 84, 85, -69]], Any[[40, -78, 95, -20], [-22, 72, -73, 43], [-45, 57, 58, 56], [-99, 34, 68, -67], [13.0, -30.0, -18.0, -5.040253882379034], [55, 2, -26, -26], [-94, 15, -65, -1], [49, -88, -48, -5], [-63, -91, 36, -84], [82, 80, -100, 90], [99, 85, -22, 30], [-69, 84, 85, -69]], Any[[40, -78, 95, -20], [-22, 72, -73, 43], [-45, 57, 58, 56], [-99, 34, 68, -67], [13.0, -30.0, -18.0, -5.040253882379034], [55, 2, -26, -26], [-94, 15, -65, -1], [49, -88, -48, -5], [-63, -91, 36, -84], [82, 80, -100, 90], [99, 85, -22, 30], [-69, 84, 85, -69]], Any[[40, -78, 95, -20], [-22, 72, -73, 43], [-45, 57, 58, 56], [-99, 34, 68, -67], [13.0, -30.0, -5.043580791630596, -5.040253882379034], [55, 2, -26, -26], [-94, 15, -65, -1], [49, -88, -48, -5], [-63, -91, 36, -84], [82, 80, -100, 90], [99, 85, -22, 30], [-69, 84, 85, -69]], Any[[40, -78, 95, -20], [-22, 72, -73, 43], [-45, 57, 58, 56], [-99, 34, 68, -67], [13.0, -30.0, -5.043580791630596, -5.040253882379034], [55, 2, -26, -26], [-94, 15, -65, -1], [49, -88, -48, -5], [-63, -91, 36, -84], [82, 80, -100, 90], [99, 85, -22, 30], [-69, 84, 85, -69]], Any[[40, -78, 95, -20], [-22, 72, -73, 43], [-45, 57, 58, 56], [-99, 34, 68, -67], [13.0, -30.0, -5.043580791630596, -5.040253882379034], [55, 2, -26, -26], [-94, 15, -65, -1], [49, -88, -48, -5], [-63, -91, 36, -84], [82, 80, -100, 90], [99, 85, -22, 30], [-69, 84, 85, -69]], Any[[40, -78, 95, -20], [-22, 72, -73, 43], [-45, 57, 58, 56], [-99, 34, 68, -67], [13.0, -30.0, -5.043580791630596, -5.040253882379034], [55, 2, -26, -26], [-94, 15, -65, -1], [49, -88, -48, -5], [-63.0, -91.0, 36.0, -59.99943825865762], [82, 80, -100, 90], [99, 85, -22, 30], [-69, 84, 85, -69]], Any[[40, -78, 95, -20], [-22, 72, -73, 43], [-45, 57, 58, 56], [-99, 34, 68, -67], [13.0, -0.4581976775154253, -5.043580791630596, -5.040253882379034], [55, 2, -26, -26], [-94, 15, -65, -1], [49, -88, -48, -5], [-63.0, -91.0, 36.0, -59.99943825865762], [82, 80, -100, 90], [99, 85, -22, 30], [-69, 84, 85, -69]]  …  Any[[-15.996601199721649, -100.0, -39.06280034142018, 17.994111337031296], [4.0866266741131236e-9, -9.825603290515622e-5, 2.2072886925443156e-10, 2.5063286811865106e-10], [-100.0, 17.999855256147484, 100.0, -100.0], [-3.113245705394982e-11, -9.936012700377054e-10, -4.789140501152019e-8, -2.3091369659700447e-10], [-100.0, -100.0, -27.018213032942146, 100.0], [-2.3306922239012227e-12, -5.960527159455369e-13, 2.6057702010893414e-13, -1.6578788813292952e-13], [0.950894129540962, 0.9520933217379611, -0.002777964777964092, -3.866392406012744e-5], [-3.733117070566001e-7, -1.1347877946712964e-7, 1.9101383813824167e-6, 3.138458150485999e-7], [1.2976755464973372e-13, 6.568588851825177e-12, -1.275121150403161e-12, 3.770252544747828e-14], [1.3951848166433618, 0.20352326998875103, 0.03136717140192876, -0.00019459009885745414], [100.0, -0.9962046552534242, -100.0, -100.0], [-100.0, 100.0, 100.0, -11.960363781331914]], Any[[-15.996601199721649, -100.0, -39.06280034142018, 17.994111337031296], [4.0866266741131236e-9, -9.825603290515622e-5, 2.2072886925443156e-10, 2.5063286811865106e-10], [-100.0, 17.999855256147484, 100.0, -100.0], [-3.113245705394982e-11, -9.936012700377054e-10, -4.789140501152019e-8, -2.3091369659700447e-10], [-100.0, -100.0, -27.018213032942146, 100.0], [-2.3306922239012227e-12, -5.960527159455369e-13, 2.6057702010893414e-13, -1.6578788813292952e-13], [0.950894129540962, 0.9520933217379611, -0.002777964777964092, -3.866392406012744e-5], [-3.733117070566001e-7, -6.987951312681726e-8, 1.9101383813824167e-6, 3.138458150485999e-7], [1.2976755464973372e-13, 5.165541199579107e-13, -1.275121150403161e-12, 3.770252544747828e-14], [1.3951848166433618, 0.20352326998875103, 0.03136717140192876, -0.00019459009885745414], [100.0, -0.9962046552534242, -100.0, -100.0], [-100.0, 100.0, 100.0, -11.960363781331914]], Any[[-15.996601199721649, -100.0, -57.002813144483554, 17.994111337031296], [2.649110000973939e-10, -9.825603290515622e-5, 2.2072886925443156e-10, 2.5063286811865106e-10], [-100.0, 17.999855256147484, 100.0, -100.0], [-3.113245705394982e-11, -9.936012700377054e-10, -3.431280086360368e-8, -2.3091369659700447e-10], [-100.0, -100.0, -27.018213032942146, 100.0], [4.081597385164628, -25.91546195331138, -15.760340933054636, 72.3898249348592], [0.950894129540962, 0.9520933217379611, -0.001285599958434172, -3.866392406012744e-5], [-3.733117070566001e-7, -6.987951312681726e-8, 1.9101383813824167e-6, 3.138458150485999e-7], [1.2976755464973372e-13, 5.165541199579107e-13, -1.275121150403161e-12, 3.770252544747828e-14], [1.3951848166433618, 0.20352326998875103, 0.011740735249532983, -0.00019459009885745414], [100.0, -0.9962046552534242, -100.0, -100.0], [-100.0, 100.0, 100.0, -11.960363781331914]], Any[[-15.996601199721649, -100.0, -57.002813144483554, 17.994111337031296], [2.649110000973939e-10, -3.392713571543427e-5, 2.2072886925443156e-10, 2.5063286811865106e-10], [-100.0, 17.999855256147484, 100.0, -100.0], [-3.113245705394982e-11, -9.936012700377054e-10, -3.431280086360368e-8, -2.3091369659700447e-10], [-100.0, -100.0, -27.018213032942146, 100.0], [4.081597385164628, -25.91546195331138, -15.760340933054636, 100.0], [0.950894129540962, 0.9520933217379611, -0.001285599958434172, -3.866392406012744e-5], [-3.733117070566001e-7, -6.987951312681726e-8, 1.9101383813824167e-6, 3.138458150485999e-7], [1.2976755464973372e-13, 5.165541199579107e-13, -1.275121150403161e-12, 3.770252544747828e-14], [1.3951848166433618, 0.20352326998875103, 0.011740735249532983, -0.00019459009885745414], [100.0, -0.9962046552534242, -100.0, -100.0], [-100.0, 100.0, 100.0, -11.960363781331914]], Any[[-15.996601199721649, -100.0, -57.002813144483554, 17.994111337031296], [2.649110000973939e-10, -1.3113153054396266e-5, 2.2072886925443156e-10, 2.5063286811865106e-10], [-100.0, 17.999855256147484, 100.0, -100.0], [-3.113245705394982e-11, -9.936012700377054e-10, -3.431280086360368e-8, -2.3091369659700447e-10], [-100.0, -100.0, -27.018213032942146, 100.0], [4.081597385164628, -25.91546195331138, -15.760340933054636, 100.0], [0.950894129540962, 0.9520933217379611, -0.001285599958434172, -3.866392406012744e-5], [-3.733117070566001e-7, -1.0791314928057453e-9, 1.9101383813824167e-6, 3.138458150485999e-7], [1.2976755464973372e-13, 5.165541199579107e-13, -1.275121150403161e-12, 3.770252544747828e-14], [1.3951848166433618, 0.20352326998875103, 0.011740735249532983, -0.00019459009885745414], [100.0, -0.9962046552534242, -100.0, -100.0], [-100.0, 100.0, 100.0, -11.960363781331914]], Any[[-15.996601199721649, -100.0, -57.002813144483554, 17.994111337031296], [2.649110000973939e-10, -1.3113153054396266e-5, 2.2072886925443156e-10, 2.5063286811865106e-10], [-100.0, 17.999855256147484, 100.0, -100.0], [-3.113245705394982e-11, -9.936012700377054e-10, -3.431280086360368e-8, 8.990714235364444e-12], [-100.0, -100.0, -27.018213032942146, 100.0], [4.081597385164628, -25.91546195331138, -15.760340933054636, 100.0], [0.950894129540962, 0.9520933217379611, -0.00037725743487859655, -3.866392406012744e-5], [-3.733117070566001e-7, -1.0791314928057453e-9, 1.9101383813824167e-6, 3.138458150485999e-7], [1.2976755464973372e-13, 5.165541199579107e-13, -1.275121150403161e-12, 3.770252544747828e-14], [1.3951848166433618, 0.02255941990677099, 0.011740735249532983, -0.00019459009885745414], [100.0, -0.9962046552534242, -100.0, -100.0], [-100.0, 100.0, 100.0, -11.960363781331914]], Any[[-15.996601199721649, -100.0, -57.002813144483554, 17.994111337031296], [2.649110000973939e-10, -1.3113153054396266e-5, 2.2072886925443156e-10, 2.5063286811865106e-10], [-100.0, 17.999855256147484, 100.0, -100.0], [-3.113245705394982e-11, -9.936012700377054e-10, -3.431280086360368e-8, 2.3402419204854752e-12], [-100.0, -100.0, -27.018213032942146, 100.0], [4.081597385164628, -25.91546195331138, -15.760340933054636, 100.0], [0.950894129540962, 0.9520933217379611, -0.00037725743487859655, -3.866392406012744e-5], [-3.733117070566001e-7, -1.0791314928057453e-9, 1.9101383813824167e-6, 3.138458150485999e-7], [1.2976755464973372e-13, 5.165541199579107e-13, -1.275121150403161e-12, 3.770252544747828e-14], [1.3951848166433618, 0.006832190076166745, 0.011740735249532983, -0.00019459009885745414], [100.0, -0.9962046552534242, -100.0, -100.0], [-100.0, 100.0, 100.0, -11.960363781331914]], Any[[-15.996601199721649, -100.0, -57.002813144483554, 17.994111337031296], [2.649110000973939e-10, -1.3113153054396266e-5, 2.2072886925443156e-10, 2.5063286811865106e-10], [-100.0, 17.999855256147484, 100.0, -100.0], [-3.113245705394982e-11, -9.936012700377054e-10, -3.431280086360368e-8, 2.3402419204854752e-12], [-100.0, -100.0, -27.018213032942146, 100.0], [4.081597385164628, -25.91546195331138, -15.760340933054636, 100.0], [0.950894129540962, 0.9520933217379611, -0.00037725743487859655, -3.866392406012744e-5], [-3.733117070566001e-7, -1.0791314928057453e-9, 1.9101383813824167e-6, 1.6270957740240823e-7], [1.2976755464973372e-13, 5.165541199579107e-13, -1.275121150403161e-12, 3.770252544747828e-14], [1.3951848166433618, 0.006832190076166745, 0.011740735249532983, -0.00019459009885745414], [100.0, -0.9962046552534242, -100.0, -100.0], [-100.0, 100.0, 100.0, -11.960363781331914]], Any[[-15.996601199721649, -100.0, -57.002813144483554, 17.994111337031296], [2.649110000973939e-10, -1.3113153054396266e-5, 2.2072886925443156e-10, 2.5063286811865106e-10], [-100.0, 17.999855256147484, 100.0, -100.0], [-3.113245705394982e-11, -9.936012700377054e-10, -2.7747961533175002e-8, 2.3402419204854752e-12], [-100.0, -100.0, -27.018213032942146, 100.0], [4.081597385164628, -25.91546195331138, -15.760340933054636, 100.0], [0.950894129540962, 0.9520933217379611, -0.00037725743487859655, -3.866392406012744e-5], [-3.733117070566001e-7, -5.483520040035648e-10, 1.9101383813824167e-6, 1.6270957740240823e-7], [1.2976755464973372e-13, 5.165541199579107e-13, -1.275121150403161e-12, 3.770252544747828e-14], [1.3951848166433618, 0.006832190076166745, 0.011740735249532983, -0.00019459009885745414], [100.0, -0.9962046552534242, -100.0, -100.0], [-100.0, 100.0, 100.0, -11.960363781331914]], Any[[-15.996601199721649, -100.0, -57.002813144483554, 17.994111337031296], [2.649110000973939e-10, -1.3113153054396266e-5, 2.2072886925443156e-10, 2.5063286811865106e-10], [-100.0, 17.999855256147484, 100.0, -100.0], [-3.113245705394982e-11, -3.229492738956666e-10, -2.7747961533175002e-8, 2.3402419204854752e-12], [-100.0, -100.0, -27.018213032942146, 100.0], [4.081597385164628, -33.02306960971194, -15.760340933054636, 100.0], [0.950894129540962, 0.10383813705721845, -0.00037725743487859655, -3.866392406012744e-5], [-3.733117070566001e-7, -5.483520040035648e-10, 1.9101383813824167e-6, 1.6270957740240823e-7], [1.2976755464973372e-13, 5.165541199579107e-13, -1.275121150403161e-12, 3.770252544747828e-14], [1.3951848166433618, 0.006832190076166745, 0.011740735249532983, -0.00019459009885745414], [100.0, -0.9962046552534242, -100.0, -100.0], [-100.0, 100.0, 100.0, -11.960363781331914]]])"
      ]
     },
     "execution_count": 18,
     "metadata": {},
     "output_type": "execute_result"
    }
   ],
   "source": [
    "@time begin\n",
    "S = 24\n",
    "D = 4\n",
    "bounds_lower = [-100,-100, -100,-100];\n",
    "bounds_upper = [100,100, 100,100];\n",
    "limit = D * (S/2)\n",
    "T= 500\n",
    "ArtificialBeeColonization(D, bounds_lower, bounds_upper, S,T, limit, ackley)\n",
    "end"
   ]
  },
  {
   "cell_type": "code",
   "execution_count": 19,
   "metadata": {},
   "outputs": [
    {
     "ename": "LoadError",
     "evalue": "UndefVarError: optimize not defined",
     "output_type": "error",
     "traceback": [
      "UndefVarError: optimize not defined",
      "",
      "Stacktrace:",
      " [1] macro expansion at .\\In[19]:8 [inlined]",
      " [2] top-level scope at .\\timing.jl:174 [inlined]",
      " [3] top-level scope at .\\In[19]:0",
      " [4] include_string(::Function, ::Module, ::String, ::String) at .\\loading.jl:1091"
     ]
    }
   ],
   "source": [
    "@time begin\n",
    "S = 24\n",
    "D = 4\n",
    "bounds_lower = [-100,-100, -100,-100];\n",
    "bounds_upper = [100,100, 100,100];\n",
    "population = initialize_population(D, bounds_lower, bounds_upper, S/2)\n",
    "population = float(population[1])\n",
    "optimize(rastrigine,population)\n",
    "end"
   ]
  },
  {
   "cell_type": "code",
   "execution_count": 20,
   "metadata": {},
   "outputs": [
    {
     "name": "stdout",
     "output_type": "stream",
     "text": [
      "  0.246558 seconds (1.09 M allocations: 55.010 MiB, 4.08% gc time)\n"
     ]
    },
    {
     "data": {
      "text/plain": [
       "([0.49930723182875036, 0.4991251231894678, -0.5069151121369301, 0.5032996747752302], Any[Any[[46, -79, 100, -32], [-3.086872714661837, -66.0, 72.0, -61.0], [-45, -82, -46, -14], [-84.0, -12.289138737676712, 46.0, 18.0], [69.0, -13.045051673373813, 98.0, -27.470085730500802], [-68, 98, -67, -55], [-78.0, -39.349240229150084, -89.0, -44.0], [-81, 19, 4, 56], [-56.0, -4.645484724942193, 39.0, -26.0], [-54.0, 82.0, -22.150963870931896, 57.8538850987851], [35, -53, -22, -12], [48, 30, -41, 41]], Any[[46, -79, 100, -32], [-3.086872714661837, 9.431176699961213, 72.0, -16.084774403890435], [-22.609768273694904, -82.0, -46.0, -14.0], [-84.0, -12.289138737676712, 46.0, 18.0], [68.99606361816366, -13.045051673373813, 98.0, -27.470085730500802], [35.36940285003065, 98.0, -67.0, -55.0], [-78.0, -39.349240229150084, -89.0, -36.33797001052216], [-81.0, 19.0, 4.0, -0.342963939187654], [-56.0, -4.645484724942193, 39.0, -26.0], [-54.0, 82.0, 20.491893933150372, -44.55329331860548], [35.0, -53.0, 11.941936618583782, -12.0], [48, 30, -41, 41]], Any[[46.0, -79.0, 4.660132636519506, -32.0], [-3.086872714661837, 9.431176699961213, 40.62059205231542, -16.084774403890435], [-22.609768273694904, -82.0, -40.08491309073242, -14.0], [-84.0, -2.6899423505923057, 27.8745328233151, 18.0], [68.99606361816366, -13.129517439416562, 98.0, 23.284155548892624], [35.36940285003065, 98.0, -67.0, -51.54940125840163], [-69.07190453328155, -39.349240229150084, -89.0, -36.33797001052216], [-81.0, 19.0, 4.0, -0.342963939187654], [-56.0, -4.645484724942193, 39.0, 15.545371633588218], [-54.0, 82.0, 20.491893933150372, -44.55329331860548], [25.204927506896237, -53.0, 11.941936618583782, -12.0], [48.0, -8.841860559975224, -41.0, 41.0]], Any[[46.0, -79.0, 4.660132636519506, -32.0], [-0.7268834660360324, 9.431176699961213, 40.62059205231542, -16.084774403890435], [-22.609768273694904, -78.59923900071927, -40.08491309073242, -14.0], [-84.0, -2.6899423505923057, 27.8745328233151, 18.0], [68.99606361816366, -13.129517439416562, 98.0, 23.284155548892624], [35.36940285003065, 98.0, -67.0, -51.54940125840163], [-69.07190453328155, -39.349240229150084, -89.0, -36.33797001052216], [-81.0, 19.0, 4.0, -0.342963939187654], [-56.0, -4.645484724942193, 39.0, 15.545371633588218], [18.570776135680134, 82.0, 20.491893933150372, -44.55329331860548], [25.204927506896237, 11.636088097979695, 11.941936618583782, -12.0], [48.0, -8.841860559975224, -41.0, 41.0]], Any[[28.917588567977052, -79.0, 4.660132636519506, -32.0], [-0.7268834660360324, 9.431176699961213, -26.51491177735756, -16.084774403890435], [-22.609768273694904, -77.00247871209899, -40.08491309073242, -14.0], [81.930052088731, -2.6899423505923057, 27.8745328233151, 18.0], [68.99606361816366, -13.129517439416562, 98.0, 23.284155548892624], [35.36940285003065, 98.0, -67.0, -42.43835558505515], [-69.07190453328155, -39.349240229150084, -89.0, -36.33797001052216], [6.769338683649565, 19.0, 4.0, -0.342963939187654], [-56.0, -4.645484724942193, 39.0, 15.545371633588218], [18.570776135680134, 27.15468092031884, 20.491893933150372, -44.55329331860548], [25.204927506896237, 11.636088097979695, -2.4624621534201268, -12.0], [48.0, -8.841860559975224, -41.0, 41.0]], Any[[28.917588567977052, -53.552965317520375, 4.660132636519506, -32.0], [-0.7268834660360324, 9.431176699961213, -26.51491177735756, -16.084774403890435], [-22.609768273694904, -77.00247871209899, -40.08491309073242, -14.584716583377592], [81.930052088731, -2.6899423505923057, 27.8745328233151, 18.0], [68.99606361816366, 7.090091984896899, 98.0, 23.284155548892624], [35.36940285003065, -33.51212425201285, -67.0, -42.43835558505515], [-69.07190453328155, -39.349240229150084, -89.0, -36.33797001052216], [6.769338683649565, 19.0, 4.0, -0.342963939187654], [-56.0, -4.645484724942193, 39.0, 15.545371633588218], [18.570776135680134, 27.15468092031884, 19.51580769656677, -44.55329331860548], [-13.27062101403239, 11.636088097979695, -2.4624621534201268, -12.0], [45.312392432688284, -8.841860559975224, -41.0, 41.0]], Any[[28.917588567977052, -53.552965317520375, 4.660132636519506, -32.0], [-0.7268834660360324, 9.431176699961213, -26.51491177735756, -11.879092703419577], [-11.546447077946087, -77.00247871209899, -40.08491309073242, -14.584716583377592], [81.930052088731, -2.6899423505923057, 27.8745328233151, 18.0], [68.99606361816366, 7.090091984896899, 98.0, 23.284155548892624], [35.36940285003065, -33.51212425201285, -67.0, -42.43835558505515], [-69.07190453328155, -39.349240229150084, -77.68768790100144, 1.3548231352586129], [6.769338683649565, 1.4457150270720085, 4.177997641335725, -0.342963939187654], [-56.0, -3.220623219606507, 39.0, 15.545371633588218], [18.570776135680134, 27.15468092031884, 19.51580769656677, -44.55329331860548], [-13.27062101403239, 2.858913647250896, -2.4624621534201268, -8.659045342447385], [-18.99105741568262, 0.7356206489523878, -41.0, 41.0]], Any[[28.917588567977052, -53.552965317520375, 4.660132636519506, -32.0], [-0.7268834660360324, 9.431176699961213, -26.51491177735756, -11.879092703419577], [-11.546447077946087, -77.00247871209899, -39.8884222501097, -14.584716583377592], [81.930052088731, -2.6899423505923057, 27.8745328233151, 18.0], [68.99606361816366, 7.090091984896899, 98.0, 23.284155548892624], [35.36940285003065, -33.51212425201285, -67.0, -15.326516381148512], [-69.07190453328155, -39.349240229150084, -77.68768790100144, 1.3548231352586129], [0.49947250362795703, 0.38768579294706607, 4.177997641335725, -0.342963939187654], [-56.0, -3.220623219606507, 33.98578807693532, 15.545371633588218], [18.570776135680134, 27.15468092031884, 19.51580769656677, -44.55329331860548], [-13.27062101403239, 4.434780662232001, -2.4624621534201268, -8.659045342447385], [-18.99105741568262, 0.7356206489523878, -29.431588364264947, 41.0]], Any[[28.917588567977052, -53.552965317520375, 4.660132636519506, -32.0], [-0.7268834660360324, 9.431176699961213, -23.20685802775158, -11.879092703419577], [-11.546447077946087, -77.00247871209899, -39.8884222501097, -14.584716583377592], [81.8480222000024, -2.6899423505923057, 25.82244376092652, 18.0], [68.99606361816366, 7.090091984896899, 98.0, 9.109248081760718], [35.36940285003065, -33.51212425201285, -61.719085922305155, -1.3929431802705459], [-68.49191262532794, -39.349240229150084, -77.68768790100144, 1.3548231352586129], [0.49947250362795703, 0.38768579294706607, 4.177997641335725, -0.342963939187654], [-56.0, -3.220623219606507, 33.98578807693532, 15.545371633588218], [18.570776135680134, 27.15468092031884, 19.51580769656677, -44.55329331860548], [-13.27062101403239, 4.434780662232001, -2.4624621534201268, -8.659045342447385], [-18.99105741568262, 0.7356206489523878, -29.431588364264947, 7.876587181316687]], Any[[28.917588567977052, -53.552965317520375, 4.660132636519506, -32.0], [-0.7268834660360324, 9.431176699961213, -5.074142233774534, -11.879092703419577], [-11.546447077946087, -77.00247871209899, -39.8884222501097, -14.584716583377592], [81.8480222000024, -2.6899423505923057, 25.82244376092652, 18.0], [68.99606361816366, 7.090091984896899, 98.0, 9.109248081760718], [35.36940285003065, -33.51212425201285, -53.64707126253191, -1.3929431802705459], [-68.49191262532794, -39.349240229150084, -77.68768790100144, 1.3548231352586129], [0.49947250362795703, 0.38768579294706607, 4.177997641335725, -0.342963939187654], [-56.0, -3.220623219606507, 31.61758552732795, 5.521999076199785], [18.570776135680134, 27.15468092031884, 19.51580769656677, -44.55329331860548], [-13.27062101403239, 4.434780662232001, -2.4624621534201268, -8.659045342447385], [-18.99105741568262, 0.7356206489523878, -29.431588364264947, 7.876587181316687]]  …  Any[[1.533673458643026, 2.6455029830485786, -0.5926259276079249, 0.553841134009212], [0.47213576699443105, 0.49811179072255585, -0.5773265036841413, 0.5041767324705542], [-1.4941151383363689, 0.4106458579988872, 0.3840561514740387, 0.5721628411934341], [0.6663857911037763, 0.6327564552939032, -1.4856299205681598, -1.433320844009945], [-3.5758656319643296, 2.432863527505351, 0.5557367922654466, 2.398630348740837], [-0.49476658454238415, 0.6589876096606282, -1.4247055334480159, -1.4742604863255249], [-0.6026427884037069, 1.4626914846297314, 2.4304099374214005, 1.4980642975352512], [0.49947250362795703, 0.5054602162715987, -0.5069151121369301, 0.4682802300051266], [3.4313842152840492, 0.5091648411256224, 15.203624206688279, 0.4365957327658563], [-0.45371974310762425, 3.2418062876695437, -0.18267299764462486, -5.706657684295171], [-0.5297172671438449, 1.578796998370472, -2.4624621534201268, 0.5000959376328384], [1.4621048457955517, 0.44527623928809074, -13.353063237651206, -0.49538748845192704]], Any[[1.533673458643026, 2.6455029830485786, -0.5926259276079249, 0.553841134009212], [0.47213576699443105, 0.49811179072255585, -0.5773265036841413, 0.5041767324705542], [-1.4941151383363689, 0.4106458579988872, 0.3840561514740387, 0.5721628411934341], [0.6663857911037763, 0.6327564552939032, -1.4856299205681598, -1.433320844009945], [-3.5758656319643296, 2.432863527505351, 0.5557367922654466, 2.398630348740837], [-0.49476658454238415, 0.6520271669386783, -1.5158228583747009, -1.4742604863255249], [-0.5940635445083773, 1.4626914846297314, 2.4304099374214005, 1.4980642975352512], [0.49947250362795703, 0.5054602162715987, -0.5069151121369301, 0.4682802300051266], [3.4313842152840492, 0.5091648411256224, 15.52807664226197, 0.4365957327658563], [-0.45371974310762425, 3.2418062876695437, -0.18267299764462486, -5.706657684295171], [-0.5297172671438449, 1.578796998370472, -2.4624621534201268, 0.5000959376328384], [1.4621048457955517, 0.44527623928809074, -13.353063237651206, -0.49538748845192704]], Any[[1.533673458643026, 2.6455029830485786, -0.5926259276079249, 0.553841134009212], [0.47213576699443105, 0.49811179072255585, -0.5773265036841413, 0.5041767324705542], [-1.4941151383363689, 0.4106458579988872, 0.3840561514740387, 0.5721628411934341], [0.6663857911037763, 0.6327564552939032, -1.4856299205681598, -1.433320844009945], [-3.5758656319643296, 2.432863527505351, 0.5557367922654466, 2.398630348740837], [-0.49476658454238415, 0.6520271669386783, -1.5158228583747009, -1.4742604863255249], [-0.5940635445083773, 1.4626914846297314, 2.5118906360316093, 1.4980642975352512], [0.49930723182875036, 0.4991251231894678, -0.5069151121369301, 0.5032996747752302], [3.4313842152840492, 0.5091648411256224, 15.52807664226197, 0.4365957327658563], [-0.45371974310762425, 3.2418062876695437, -0.18267299764462486, -5.706657684295171], [-0.5297172671438449, 1.4186834399414903, -2.4624621534201268, 0.5000959376328384], [1.4621048457955517, 0.44527623928809074, -13.353063237651206, -0.49538748845192704]], Any[[1.533673458643026, 2.6455029830485786, -0.5926259276079249, 0.553841134009212], [0.47213576699443105, 0.49811179072255585, -0.42500983431293393, 0.5041767324705542], [-1.4941151383363689, 0.4106458579988872, 0.3840561514740387, 0.5627379818336167], [0.6663857911037763, 0.6327564552939032, -1.4856299205681598, -1.433320844009945], [-3.5758656319643296, 2.432863527505351, 0.5557367922654466, 2.398630348740837], [-0.49476658454238415, 0.6520271669386783, -1.5158228583747009, -0.5349850250950813], [-0.5940635445083773, 1.4626914846297314, 2.5118906360316093, 1.4980642975352512], [0.49930723182875036, 0.4991251231894678, -0.5069151121369301, 0.5032996747752302], [3.4313842152840492, 0.5091648411256224, 15.52807664226197, 0.44322586257328916], [-0.45371974310762425, 2.288629743448955, -0.18267299764462486, -5.706657684295171], [-0.5297172671438449, 1.4186834399414903, -2.4624621534201268, 0.5000959376328384], [1.4621048457955517, 0.44527623928809074, -13.353063237651206, -0.49538748845192704]], Any[[1.533673458643026, 2.6455029830485786, -0.5926259276079249, 0.553841134009212], [0.47213576699443105, 0.49811179072255585, -0.42500983431293393, 0.5041767324705542], [-1.4941151383363689, 0.4106458579988872, 0.3840561514740387, 0.5627379818336167], [0.6663857911037763, 0.6327564552939032, -1.4856299205681598, -1.433320844009945], [-2.527463620323948, 2.432863527505351, 0.5557367922654466, 2.398630348740837], [-0.49476658454238415, 0.6520271669386783, -1.5158228583747009, -0.5349850250950813], [-0.5940635445083773, 1.4626914846297314, 2.5118906360316093, 1.4980642975352512], [0.49930723182875036, 0.4991251231894678, -0.5069151121369301, 0.5032996747752302], [3.4313842152840492, 0.5091648411256224, 15.52807664226197, 0.44322586257328916], [-0.45371974310762425, 2.288629743448955, -0.18267299764462486, -2.9261660877444156], [-0.5297172671438449, 1.4186834399414903, -2.4624621534201268, 0.5000959376328384], [1.4621048457955517, 0.44527623928809074, -13.353063237651206, -0.49538748845192704]], Any[[1.533673458643026, 2.6455029830485786, 0.45607901528325967, 0.553841134009212], [0.4872598474890282, 0.49811179072255585, -0.42500983431293393, 0.5041767324705542], [-1.4941151383363689, 0.4106458579988872, 0.3840561514740387, 0.5627379818336167], [0.6663857911037763, 0.6327564552939032, -1.4856299205681598, -1.433320844009945], [-2.527463620323948, 2.432863527505351, 0.5557367922654466, 2.398630348740837], [-0.49476658454238415, 0.6520271669386783, -1.5158228583747009, -0.5349850250950813], [-0.562140906929599, 1.4626914846297314, 2.5118906360316093, 1.4980642975352512], [0.49930723182875036, 0.4991251231894678, -0.5069151121369301, 0.5032996747752302], [3.4313842152840492, 0.5091648411256224, 15.52807664226197, 0.44322586257328916], [-0.45371974310762425, -0.2212525724507599, -0.18267299764462486, -2.9261660877444156], [-0.5297172671438449, 1.4186834399414903, -2.4624621534201268, 0.5000959376328384], [1.4621048457955517, 0.44527623928809074, -11.742771793176022, -0.49538748845192704]], Any[[1.533673458643026, 2.6455029830485786, 0.45607901528325967, 0.553841134009212], [0.4872598474890282, 0.49811179072255585, -0.42500983431293393, 0.5041767324705542], [-1.4941151383363689, 0.4106458579988872, 0.3840561514740387, 0.5627379818336167], [0.6663857911037763, 0.5849791917599698, -1.4856299205681598, -1.433320844009945], [-2.527463620323948, 1.632676674521877, 0.5557367922654466, 2.398630348740837], [-0.49476658454238415, 0.3500107327930466, -1.5158228583747009, -0.5349850250950813], [-0.562140906929599, 1.4626914846297314, 2.5118906360316093, 1.4980642975352512], [0.49930723182875036, 0.4991251231894678, -0.5069151121369301, 0.5032996747752302], [3.4313842152840492, 0.5091648411256224, 15.52807664226197, 0.44322586257328916], [-0.45371974310762425, -0.2555661311695079, -0.18267299764462486, -2.9261660877444156], [-0.5297172671438449, 1.4186834399414903, -2.4624621534201268, 0.5000959376328384], [1.4621048457955517, 0.44527623928809074, -11.742771793176022, -0.49538748845192704]], Any[[1.533673458643026, 2.6455029830485786, 0.45607901528325967, 0.553841134009212], [0.4872598474890282, 0.49811179072255585, -0.428444842433096, 0.5041767324705542], [-1.4941151383363689, 0.4106458579988872, 0.3840561514740387, 0.5627379818336167], [0.6663857911037763, 0.5849791917599698, -1.4856299205681598, -1.433320844009945], [-2.527463620323948, 1.632676674521877, 0.5557367922654466, 2.398630348740837], [-0.49476658454238415, 0.3500107327930466, -1.5158228583747009, -0.5349850250950813], [-0.562140906929599, 1.4626914846297314, 2.5118906360316093, 1.4980642975352512], [0.49930723182875036, 0.4991251231894678, -0.5069151121369301, 0.5032996747752302], [3.4313842152840492, 0.5091648411256224, 8.436488207232923, 0.44322586257328916], [-0.45371974310762425, -0.2555661311695079, 0.7199730007396362, -2.9261660877444156], [-0.5297172671438449, 1.4186834399414903, -2.4624621534201268, 0.5000959376328384], [1.4621048457955517, 0.44527623928809074, -11.742771793176022, -0.49538748845192704]], Any[[1.533673458643026, 2.6455029830485786, 0.45607901528325967, 0.553841134009212], [0.4872598474890282, 0.49811179072255585, -0.428444842433096, 0.5041767324705542], [-1.4941151383363689, 0.4106458579988872, 0.3840561514740387, 0.5627379818336167], [0.6663857911037763, 0.4945229457362864, -1.4856299205681598, -1.433320844009945], [-2.527463620323948, 1.632676674521877, 0.5557367922654466, 2.398630348740837], [-0.49476658454238415, 0.3500107327930466, -1.5158228583747009, -0.5349850250950813], [-0.562140906929599, 1.4626914846297314, 2.5118906360316093, 1.4980642975352512], [0.49930723182875036, 0.4991251231894678, -0.5069151121369301, 0.5032996747752302], [3.4313842152840492, 0.5091648411256224, 8.436488207232923, 0.44322586257328916], [-0.45371974310762425, -0.2555661311695079, 0.7199730007396362, -2.9261660877444156], [-0.5297172671438449, 1.4186834399414903, -2.4624621534201268, 0.5000959376328384], [1.4621048457955517, 0.44527623928809074, -11.742771793176022, -0.49538748845192704]], Any[[1.533673458643026, 2.6455029830485786, 0.45607901528325967, 0.553841134009212], [0.4950888495101053, 0.49811179072255585, -0.428444842433096, 0.5041767324705542], [-1.4941151383363689, 0.4106458579988872, 0.3840561514740387, 0.5627379818336167], [-0.5534875248777309, 0.4945229457362864, -1.4856299205681598, -1.433320844009945], [-2.527463620323948, 1.632676674521877, 0.5557367922654466, 2.398630348740837], [-0.49476658454238415, 0.3500107327930466, -1.5158228583747009, -0.5349850250950813], [-0.562140906929599, 1.4626914846297314, 2.5118906360316093, 1.4980642975352512], [0.49930723182875036, 0.4991251231894678, -0.5069151121369301, 0.5032996747752302], [3.4313842152840492, 0.5091648411256224, 8.436488207232923, 0.44322586257328916], [-0.45371974310762425, -0.6781906370958117, 0.7199730007396362, -1.2223058025586442], [-0.5297172671438449, 1.4186834399414903, -2.4624621534201268, 0.5000959376328384], [1.4621048457955517, 0.44527623928809074, -11.742771793176022, -0.49538748845192704]]])"
      ]
     },
     "execution_count": 20,
     "metadata": {},
     "output_type": "execute_result"
    }
   ],
   "source": [
    "@time begin\n",
    "S = 24\n",
    "D = 4\n",
    "bounds_lower = [-100,-100, -100,-100];\n",
    "bounds_upper = [100,100, 100,100];\n",
    "limit = D * (S/2)\n",
    "T= 50\n",
    "ArtificialBeeColonization(D, bounds_lower, bounds_upper, S,T, limit, rastrigine)\n",
    "end"
   ]
  },
  {
   "cell_type": "code",
   "execution_count": 21,
   "metadata": {},
   "outputs": [
    {
     "ename": "LoadError",
     "evalue": "UndefVarError: optimize not defined",
     "output_type": "error",
     "traceback": [
      "UndefVarError: optimize not defined",
      "",
      "Stacktrace:",
      " [1] macro expansion at .\\In[21]:8 [inlined]",
      " [2] top-level scope at .\\timing.jl:174 [inlined]",
      " [3] top-level scope at .\\In[21]:0",
      " [4] include_string(::Function, ::Module, ::String, ::String) at .\\loading.jl:1091"
     ]
    }
   ],
   "source": [
    "@time begin\n",
    "S = 24\n",
    "D = 2\n",
    "bounds_lower = [-100,-100];\n",
    "bounds_upper = [100,100];\n",
    "population = initialize_population(D, bounds_lower, bounds_upper, S/2)\n",
    "population = float(population[1])\n",
    "optimize(rosenbrock,population)\n",
    "end"
   ]
  },
  {
   "cell_type": "code",
   "execution_count": 22,
   "metadata": {},
   "outputs": [
    {
     "name": "stdout",
     "output_type": "stream",
     "text": [
      "  0.075410 seconds (145.20 k allocations: 7.753 MiB)\n"
     ]
    },
    {
     "data": {
      "text/plain": [
       "([0.9926501694042553, 0.9820415167392611], Any[Any[[3.0, -0.9491830973545583], [1.0, -2.6301809581788564], [1, 5], [0.8253249820159727, 1.0], [-4.0, 5.0], [4, -2], [-1, 1], [1.086404540261745, 3.0], [-1.5931841078076547, -5.0], [-1.0, 0.5477349106694475], [2.7353295888663567, 4.0], [2.0, 0.022117214943186525]], Any[[3.0, -0.38181735426810326], [1.0, -2.6301809581788564], [1.0, 3.5500366703013246], [0.9800006242469805, 1.0], [-4.0, 5.0], [3.5519429802831795, -2.0], [-0.9425192939261633, 1.0], [1.0643675507057653, 1.025277660632284], [-1.5931841078076547, -5.0], [-0.7218427669712653, 0.5477349106694475], [2.7353295888663567, 4.0], [2.0, 0.022117214943186525]], Any[[2.0878844901986837, -0.38181735426810326], [1.0, 2.4289952838454685], [1.0, 0.06293192514059842], [0.9800006242469805, 1.0], [-4.0, 5.0], [2.6731367593336897, 0.6231088715648232], [-0.9425192939261633, 1.0], [1.0643675507057653, 1.025277660632284], [-1.4539762797502063, -5.0], [-0.7218427669712653, 0.5477349106694475], [2.7353295888663567, 4.977462469328307], [2.0, 0.022117214943186525]], Any[[2.0878844901986837, 0.816580936104265], [1.6717615240202819, 2.4289952838454685], [0.16153212956501029, 0.06293192514059842], [0.9800006242469805, 1.0], [-1.4084525683305231, 5.0], [1.61638480997631, 0.6231088715648232], [-0.9425192939261633, 1.0], [0.9816678088796912, 1.025277660632284], [-1.4539762797502063, -1.9950124544776582], [-0.7218427669712653, 0.5477349106694475], [2.7353295888663567, 4.977462469328307], [2.0, 0.022117214943186525]], Any[[2.0878844901986837, 0.816580936104265], [1.6717615240202819, 3.13036543020247], [0.33502657012780224, 0.06293192514059842], [0.9800006242469805, 1.0], [-1.4084525683305231, 5.0], [1.61638480997631, 0.9462601883473317], [-0.9425192939261633, 1.0], [0.9816678088796912, 1.0223722033458755], [-1.4539762797502063, -1.9950124544776582], [-0.26740074260577945, 0.5477349106694475], [2.7353295888663567, 4.977462469328307], [0.7813872174284582, 0.022117214943186525]], Any[[2.0878844901986837, 0.816580936104265], [1.6717615240202819, 3.13036543020247], [0.3548287592919573, 0.06293192514059842], [0.9800006242469805, 1.0], [-2.694618457018729, 5.0], [1.61638480997631, 0.9462601883473317], [-0.9425192939261633, 1.0], [0.9816678088796912, 1.0103047499407702], [-1.4539762797502063, -1.9950124544776582], [-0.26740074260577945, 0.36771114181493736], [2.7353295888663567, 4.977462469328307], [0.7813872174284582, 0.022117214943186525]], Any[[2.0878844901986837, 0.816580936104265], [1.6717615240202819, 3.13036543020247], [0.3548287592919573, 0.06293192514059842], [0.9800006242469805, 0.9498007182372344], [-2.694618457018729, 5.0], [1.61638480997631, 0.9462601883473317], [-0.9425192939261633, 1.0], [0.9816678088796912, 0.9235423568302292], [-1.4539762797502063, -1.9950124544776582], [0.9803064235417575, 0.36771114181493736], [2.7353295888663567, 4.977462469328307], [0.7187016905807774, 0.2514224545922678]], Any[[2.0878844901986837, 0.816580936104265], [1.6717615240202819, 3.13036543020247], [0.3548287592919573, 0.06293192514059842], [0.9800006242469805, 0.951320473314842], [-2.5926529990600327, 5.0], [1.61638480997631, 0.9488778607553209], [-0.9425192939261633, 1.0], [0.9816678088796912, 0.9235423568302292], [-1.4539762797502063, -1.683404170807269], [0.9803064235417575, 0.36771114181493736], [2.7353295888663567, 4.977462469328307], [0.7187016905807774, 0.5159752842503311]], Any[[2.0878844901986837, 0.816580936104265], [1.6717615240202819, 2.6569646323054408], [0.3548287592919573, 0.06293192514059842], [0.9800006242469805, 0.951320473314842], [-2.5926529990600327, 5.0], [0.9618834922205712, 0.9488778607553209], [-0.9425192939261633, 1.0], [0.9816678088796912, 0.9235423568302292], [-0.9928893888240394, -1.683404170807269], [0.07928797905180318, 0.36771114181493736], [2.7353295888663567, 5.0], [0.7289996322305228, 0.5159752842503311]], Any[[1.6425059212801614, 0.816580936104265], [1.6717615240202819, 2.6569646323054408], [0.3548287592919573, 0.06293192514059842], [0.9789546232844053, 0.951320473314842], [-2.5926529990600327, 5.0], [0.9618834922205712, 0.9488778607553209], [-0.9425192939261633, 0.98107937118132], [0.9816678088796912, 0.9235423568302292], [-0.4646695524686494, -1.683404170807269], [0.07928797905180318, 0.1021683820514327], [2.7353295888663567, 5.0], [0.7289996322305228, 0.5159752842503311]]  …  Any[[-0.006189837976824819, -4.323415956848289], [1.846833264404715, 3.5103384810757428], [0.04689384569675453, -0.07378581703964929], [0.583173636328169, 0.2831529358030892], [-1.879428388312705, 3.4514875745329427], [-1.588705078699859, 2.2480727599903716], [-1.9971543036830863, 3.6980479257948335], [0.264469950099462, 0.09153243310016267], [0.06178259131286623, 1.851671384592355], [0.6057330291306728, 0.22687730795087702], [2.2482034305651797, 5.0], [1.216721497953819, 1.7059469661919895]], Any[[-0.006189837976824819, -2.7598363641477297], [1.846833264404715, 3.5103384810757428], [0.04689384569675453, -0.07378581703964929], [0.583173636328169, 0.2831529358030892], [-1.879428388312705, 3.5540457796529132], [-1.588705078699859, 2.2480727599903716], [-1.9971543036830863, 3.6980479257948335], [0.2773345457457169, 0.09153243310016267], [0.18143461457309812, 1.851671384592355], [0.6057330291306728, 0.22687730795087702], [2.2482034305651797, 5.0], [1.216721497953819, 1.7059469661919895]], Any[[-0.006189837976824819, -2.7598363641477297], [1.846833264404715, 3.5103384810757428], [0.5037058798549412, -0.07378581703964929], [0.583173636328169, 0.2831529358030892], [-1.879428388312705, 3.5540457796529132], [-1.588705078699859, 2.2480727599903716], [-1.9971543036830863, 3.6980479257948335], [0.5614070419324357, 0.09153243310016267], [0.35613443068282313, 1.6959717974447672], [0.6057330291306728, 0.22687730795087702], [2.2482034305651797, 5.0], [1.216721497953819, 1.7059469661919895]], Any[[0.04904747827623293, -2.7598363641477297], [1.846833264404715, 3.5103384810757428], [0.44857884621711963, -0.07378581703964929], [0.583173636328169, 0.2831529358030892], [-1.879428388312705, 3.5540457796529132], [-1.588705078699859, 2.2480727599903716], [-1.9127525183404064, 3.6980479257948335], [0.5614070419324357, 0.273098537723189], [0.8108461618298123, 1.6959717974447672], [0.5950779568387996, 0.22687730795087702], [2.2482034305651797, 5.0], [1.216721497953819, 1.7059469661919895]], Any[[0.04904747827623293, -2.7598363641477297], [1.846833264404715, 3.5103384810757428], [0.44857884621711963, -0.07378581703964929], [-1.736036004561592, -4.377050514676095], [-1.879428388312705, 3.5540457796529132], [-1.588705078699859, 2.2480727599903716], [-1.9127525183404064, 3.6980479257948335], [0.5614070419324357, 0.273098537723189], [0.8108461618298123, 1.6959717974447672], [0.5950779568387996, 0.22687730795087702], [2.2482034305651797, 5.0], [1.216721497953819, 1.7059469661919895]], Any[[0.04904747827623293, -2.7598363641477297], [1.846833264404715, 3.5103384810757428], [0.44857884621711963, -0.07378581703964929], [-1.667112081765429, -4.377050514676095], [-1.879428388312705, 3.5540457796529132], [-1.588705078699859, 2.2480727599903716], [-1.9127525183404064, 3.6980479257948335], [0.6059772250279939, 0.273098537723189], [0.8108461618298123, 1.6959717974447672], [0.5950779568387996, 0.22687730795087702], [-2.4151140026957485, 0.5760783995230874], [1.216721497953819, 1.7059469661919895]], Any[[0.04904747827623293, -2.7598363641477297], [-0.5257635595037025, -1.6792562687916202], [0.3945216409962863, -0.07378581703964929], [-1.667112081765429, -3.853876992295544], [-1.879428388312705, 3.5540457796529132], [-1.588705078699859, 2.2480727599903716], [-1.9127525183404064, 3.6980479257948335], [0.6059772250279939, 0.273098537723189], [0.8108461618298123, 1.6500811020578172], [0.5950779568387996, 0.22687730795087702], [-2.253906429796593, 0.5760783995230874], [1.216721497953819, 1.7059469661919895]], Any[[0.04904747827623293, -2.7598363641477297], [-0.5257635595037025, 0.4626298331843399], [0.3945216409962863, -0.07378581703964929], [-1.667112081765429, -3.853876992295544], [-1.879428388312705, 3.5540457796529132], [-1.4724151648190802, 2.2480727599903716], [-1.8718019180775862, 3.6980479257948335], [0.6059772250279939, 0.273098537723189], [0.8108461618298123, 1.4242992280412452], [0.5950779568387996, 0.24441694882615694], [-2.253906429796593, 0.5760783995230874], [1.216721497953819, 1.285514893682161]], Any[[0.04904747827623293, -0.6487575587638039], [-0.5035009971337566, 0.4626298331843399], [0.3945216409962863, 0.1966579460245735], [-1.667112081765429, -0.9206322032171572], [-1.879428388312705, 3.5540457796529132], [-1.4724151648190802, 2.2480727599903716], [-1.8718019180775862, 3.6980479257948335], [0.6059772250279939, 0.273098537723189], [0.8108461618298123, 1.4242992280412452], [0.5950779568387996, 0.3366702304979342], [-1.8148790300144817, 0.5760783995230874], [1.216721497953819, 1.285514893682161]], Any[[0.04904747827623293, 0.5064863198366842], [0.4015314220464512, 0.4626298331843399], [0.3945216409962863, 0.1966579460245735], [-1.667112081765429, -0.07792509021876681], [-1.879428388312705, 3.5540457796529132], [-1.4724151648190802, 2.2480727599903716], [-1.8718019180775862, 3.6980479257948335], [0.6059772250279939, 0.3121522274489734], [0.928474634956255, 1.4242992280412452], [0.6564985689141497, 0.3366702304979342], [-1.8148790300144817, 0.5760783995230874], [1.1921363675671708, 1.285514893682161]]])"
      ]
     },
     "execution_count": 22,
     "metadata": {},
     "output_type": "execute_result"
    }
   ],
   "source": [
    "@time begin\n",
    "S = 24\n",
    "D = 2\n",
    "bounds_lower = [-5,-5];\n",
    "bounds_upper = [5,5];\n",
    "limit = D * (S/2)\n",
    "T= 50\n",
    "ArtificialBeeColonization(D, bounds_lower, bounds_upper, S,T, limit, rosenbrock)\n",
    "end"
   ]
  },
  {
   "cell_type": "code",
   "execution_count": 23,
   "metadata": {},
   "outputs": [
    {
     "ename": "LoadError",
     "evalue": "UndefVarError: optimize not defined",
     "output_type": "error",
     "traceback": [
      "UndefVarError: optimize not defined",
      "",
      "Stacktrace:",
      " [1] macro expansion at .\\In[23]:8 [inlined]",
      " [2] top-level scope at .\\timing.jl:174 [inlined]",
      " [3] top-level scope at .\\In[23]:0",
      " [4] include_string(::Function, ::Module, ::String, ::String) at .\\loading.jl:1091"
     ]
    }
   ],
   "source": [
    "@time begin\n",
    "S = 24\n",
    "D = 2\n",
    "bounds_lower = [-100,-100];\n",
    "bounds_upper = [100,100];\n",
    "population = initialize_population(D, bounds_lower, bounds_upper, S/2)\n",
    "population = float(population[1])\n",
    "optimize(branin,population)\n",
    "end"
   ]
  },
  {
   "cell_type": "code",
   "execution_count": 24,
   "metadata": {},
   "outputs": [
    {
     "name": "stdout",
     "output_type": "stream",
     "text": [
      "  0.095236 seconds (306.08 k allocations: 16.807 MiB)\n"
     ]
    },
    {
     "data": {
      "text/plain": [
       "([3.1416885259269334, 2.275250625840672], Any[Any[[2.2698900829334625, -4.0], [3.0, -1.5340033824024548], [3, -4], [-2.0, 2.4601567039720322], [-5.0, 2.9122281077412975], [4, -2], [3.0, 2.760013665662253], [3.6571513237334234, 1.0], [5.0, 2.0571568390995094], [5.0, 1.4298733285506433], [4.0, 1.5303340937171042], [4.74686400716513, 2.0]], Any[[2.2698900829334625, -4.0], [3.0, -1.5340033824024548], [3, -4], [-1.4102476244513902, 2.4601567039720322], [-5.0, 3.110885646241522], [4.0, 1.450184372210253], [3.0, 2.389878199970906], [3.6571513237334234, 2.0434381895149656], [5.0, 1.6576942543218605], [3.4805444290656515, 1.4298733285506433], [4.0, 1.5303340937171042], [4.74686400716513, 2.0]], Any[[2.2698900829334625, -0.018903764947555413], [3.0, -1.5340033824024548], [3.0, -3.1950859421219873], [-1.4102476244513902, 2.4601567039720322], [-5.0, 3.110885646241522], [3.6065731707542232, 1.450184372210253], [3.0190091850419614, 2.389878199970906], [3.1994664775742483, 2.0434381895149656], [5.0, 1.6576942543218605], [3.4805444290656515, 2.344470514766157], [4.0, 1.5303340937171042], [4.74686400716513, 1.8842094631268589]], Any[[3.5102928855158098, -0.018903764947555413], [3.331751600025394, 1.2845856591205256], [3.0, -3.1950859421219873], [-1.1130213685895765, 2.4601567039720322], [-5.0, 3.3652278398097804], [2.785011588040975, 2.3856552132229654], [3.0190091850419614, 2.389878199970906], [3.1994664775742483, 2.4072544572769448], [5.0, 1.6576942543218605], [3.4805444290656515, 2.321527881921311], [4.0, 1.6290503897565274], [4.74686400716513, 1.8842094631268589]], Any[[3.5102928855158098, 2.2827413616694763], [3.331751600025394, 1.5980371011324794], [3.0, -2.106729272397356], [-1.1130213685895765, 3.1536592425915897], [-5.0, 3.3652278398097804], [2.785011588040975, 2.523623800539943], [3.0190091850419614, 2.389878199970906], [3.1994664775742483, 2.350971360601351], [5.0, 1.6576942543218605], [3.3815646320942983, 2.321527881921311], [3.6870524285569006, 1.6290503897565274], [4.74686400716513, 1.703515958023267]], Any[[3.443878109511218, 2.2827413616694763], [3.331751600025394, 1.5980371011324794], [3.0, -2.106729272397356], [0.28041414413679133, 3.1536592425915897], [-5.0, 3.3652278398097804], [3.162185251140861, 2.523623800539943], [3.0190091850419614, 2.389878199970906], [3.1994664775742483, 2.350971360601351], [3.4106529872301072, 1.6576942543218605], [3.3815646320942983, 2.321527881921311], [3.6870524285569006, 1.6290503897565274], [4.74686400716513, 1.703515958023267]], Any[[3.3294209007728637, 2.2827413616694763], [3.331751600025394, 1.5980371011324794], [3.0389489079257266, -2.106729272397356], [3.3848337640784347, 3.1536592425915897], [-5.0, 4.87348660598175], [3.162185251140861, 2.523623800539943], [3.099856948583108, 2.389878199970906], [3.1994664775742483, 2.350971360601351], [3.4106529872301072, 2.0039192428816284], [3.3815646320942983, 2.321527881921311], [3.6870524285569006, 1.6290503897565274], [4.559445338422763, 1.703515958023267]], Any[[3.155428051226014, 2.2827413616694763], [3.331751600025394, 1.9514698333243028], [3.0389489079257266, -0.2755760353634953], [3.3848337640784347, 3.0519522053383885], [1.2674886621527701, 4.87348660598175], [3.162185251140861, 2.1170534235124685], [3.099856948583108, 2.389878199970906], [3.1994664775742483, 2.350971360601351], [3.3717551738445324, 2.0039192428816284], [3.3815646320942983, 2.321527881921311], [3.6870524285569006, 2.050039971686628], [2.3665997522435274, 1.703515958023267]], Any[[3.155428051226014, 2.2827413616694763], [3.331751600025394, 2.2732258001668346], [3.1166956995340453, -0.2755760353634953], [3.3848337640784347, 2.775934652795586], [1.2674886621527701, 4.671738358541811], [3.162185251140861, 2.1170534235124685], [3.099856948583108, 2.329394635952582], [3.1895043474066456, 2.350971360601351], [3.3717551738445324, 2.045169085697784], [3.195022514834843, 2.321527881921311], [3.531280024969641, 2.050039971686628], [2.3665997522435274, 1.703515958023267]], Any[[3.139970027733212, 2.2827413616694763], [3.207604195989201, 2.2732258001668346], [3.1166956995340453, -0.2755760353634953], [3.231301238551686, 2.775934652795586], [1.2674886621527701, 4.671738358541811], [3.162185251140861, 2.1170534235124685], [3.099856948583108, 2.329394635952582], [3.1895043474066456, 2.3428890777601574], [3.3717551738445324, 2.045169085697784], [3.175493742933028, 2.321527881921311], [3.531280024969641, 2.050039971686628], [2.725580767720885, 1.703515958023267]]  …  Any[[2.203859364737577, 0.6487683453539015], [3.142278817378031, 2.271628960677888], [3.135448162417641, 2.2829322805245247], [3.1507410071467574, 2.25466871551846], [3.1421120013214723, 2.277905185363071], [3.142982899624901, 2.277344176508137], [3.1422860454071198, 2.274770308131067], [-0.9170818666920644, 0.4980224229143425], [3.1459195989538564, 2.2772367250470333], [3.143939095074966, 2.25891427306729], [3.144305528934593, 2.273670207589188], [3.143953521936133, 2.2691228954309564]], Any[[2.203859364737577, 0.6487683453539015], [3.142278817378031, 2.271628960677888], [3.135448162417641, 2.277349403327941], [3.1507410071467574, 2.25466871551846], [3.141327961996783, 2.277905185363071], [3.142982899624901, 2.27636770292398], [3.141441441249583, 2.274770308131067], [-0.9170818666920644, 0.4980224229143425], [3.1459195989538564, 2.2772367250470333], [3.143939095074966, 2.25891427306729], [3.144305528934593, 2.273670207589188], [3.143953521936133, 2.2691228954309564]], Any[[2.203859364737577, 2.0697741441821953], [3.142278817378031, 2.271628960677888], [3.135448162417641, 2.277349403327941], [3.1507410071467574, 2.25466871551846], [3.141327961996783, 2.277905185363071], [3.142982899624901, 2.2760466393549947], [3.141441441249583, 2.274770308131067], [-0.9170818666920644, 0.4980224229143425], [3.1459195989538564, 2.2772367250470333], [3.143939095074966, 2.25891427306729], [3.144305528934593, 2.273670207589188], [3.143953521936133, 2.2691228954309564]], Any[[2.203859364737577, 2.0697741441821953], [3.1407573209196054, 2.2759352889824775], [3.135448162417641, 2.277349403327941], [3.1507410071467574, 2.25466871551846], [3.141327961996783, 2.277905185363071], [3.142982899624901, 2.2760466393549947], [3.141441441249583, 2.274770308131067], [0.25416945492269805, 0.5332802211613166], [3.1459195989538564, 2.275149494542096], [3.143939095074966, 2.25891427306729], [3.144039361789492, 2.273670207589188], [3.143953521936133, 2.2691228954309564]], Any[[2.203859364737577, 2.3080228861632395], [3.1407573209196054, 2.2759352889824775], [3.135448162417641, 2.277349403327941], [3.1507410071467574, 2.25466871551846], [3.141327961996783, 2.277905185363071], [3.142982899624901, 2.274870290434023], [3.141441441249583, 2.274770308131067], [0.25416945492269805, 0.5332802211613166], [3.1396018893377993, 2.275149494542096], [3.143939095074966, 2.25891427306729], [3.144039361789492, 2.273670207589188], [3.1420422772605923, 2.2691228954309564]], Any[[2.203859364737577, 2.831623072800874], [3.1407573209196054, 2.2759352889824775], [3.135448162417641, 2.277349403327941], [3.1507410071467574, 2.25466871551846], [3.141327961996783, 2.276050749818085], [3.142982899624901, 2.274870290434023], [3.141441441249583, 2.274770308131067], [0.25416945492269805, 0.5332802211613166], [3.1396018893377993, 2.275149494542096], [3.143939095074966, 2.25891427306729], [3.144039361789492, 2.273670207589188], [3.1420422772605923, 2.273709905923992]], Any[[2.203859364737577, 2.986434238482567], [3.1407573209196054, 2.2759352889824775], [3.135448162417641, 2.2792512814313075], [3.147063079778225, 2.2581005671228174], [3.141327961996783, 2.276050749818085], [3.142982899624901, 2.274870290434023], [3.141441441249583, 2.274770308131067], [0.25416945492269805, 0.5332802211613166], [3.1396018893377993, 2.275149494542096], [3.143939095074966, 2.25891427306729], [3.144039361789492, 2.273670207589188], [3.1419490681094886, 2.273709905923992]], Any[[2.203859364737577, 3.087220907671002], [3.1407573209196054, 2.2759352889824775], [3.135448162417641, 2.2792512814313075], [3.147063079778225, 2.2581005671228174], [3.141327961996783, 2.275250625840672], [3.142982899624901, 2.2744533315053856], [3.141441441249583, 2.274770308131067], [0.25416945492269805, 0.617179925856433], [3.1396018893377993, 2.275149494542096], [3.143939095074966, 2.25891427306729], [3.144039361789492, 2.273670207589188], [3.1419490681094886, 2.273709905923992]], Any[[2.203859364737577, 3.087220907671002], [3.1407573209196054, 2.2759352889824775], [3.135448162417641, 2.2792512814313075], [3.1456191752386458, 2.2598820996702282], [3.141327961996783, 2.275250625840672], [3.1421735625573293, 2.2744533315053856], [3.141441441249583, 2.274770308131067], [0.25416945492269805, 1.317590121352688], [3.1396018893377993, 2.275149494542096], [4.110333441778263, -0.49114048528330567], [3.144039361789492, 2.273670207589188], [3.1419490681094886, 2.273709905923992]], Any[[2.203859364737577, 3.087220907671002], [3.1407573209196054, 2.2759352889824775], [3.135448162417641, 2.2792512814313075], [3.1456191752386458, 2.2598820996702282], [3.1416885259269334, 2.275250625840672], [3.1421735625573293, 2.2744533315053856], [3.141441441249583, 2.274770308131067], [1.302628825797941, 1.317590121352688], [3.1396018893377993, 2.2756659489350834], [4.110333441778263, -0.49114048528330567], [3.144039361789492, 2.273670207589188], [3.1419490681094886, 2.273709905923992]]])"
      ]
     },
     "execution_count": 24,
     "metadata": {},
     "output_type": "execute_result"
    }
   ],
   "source": [
    "@time begin\n",
    "S = 24\n",
    "D = 2\n",
    "bounds_lower = [-5,-5];\n",
    "bounds_upper = [5,5];\n",
    "limit = D * (S/2)\n",
    "T= 50\n",
    "ArtificialBeeColonization(D, bounds_lower, bounds_upper, S,T, limit, branin)\n",
    "end"
   ]
  },
  {
   "cell_type": "code",
   "execution_count": null,
   "metadata": {},
   "outputs": [],
   "source": []
  }
 ],
 "metadata": {
  "kernelspec": {
   "display_name": "Julia 1.5.1",
   "language": "julia",
   "name": "julia-1.5"
  },
  "language_info": {
   "file_extension": ".jl",
   "mimetype": "application/julia",
   "name": "julia",
   "version": "1.5.1"
  }
 },
 "nbformat": 4,
 "nbformat_minor": 4
}
