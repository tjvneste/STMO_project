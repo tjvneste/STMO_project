{
 "cells": [
  {
   "cell_type": "code",
   "execution_count": null,
   "metadata": {},
   "outputs": [],
   "source": [
    "\"\"\" Artificial Bee Colony Algorithm\n",
    "\n",
    "Input\n",
    "- D: number of decision variables\n",
    "- S: swarm size\n",
    "- T: number of cycles\n",
    "- limit: decides when scouts phase needs to be executed, often taken Np*D\n",
    "\n",
    "Np: number of food sources/employed bees/onlooker bees\n",
    "\n",
    "\n",
    "Output\n",
    "\n",
    "\n",
    "\"\"\"\n",
    "\n",
    "function ArtificialBeeColonization(D,S, T, limit)\n",
    "    Np = S/2\n",
    "    population = initialize_population(D, bounds_lower, bounds_upper, Np)\n",
    "    objective_values = compute_objective(population, false)\n",
    "    fitness_values = compute_fitness(objective_values)\n",
    "    \n",
    "     \n",
    "\n",
    "    return penalty\n",
    "end\t\n"
   ]
  }
 ],
 "metadata": {
  "kernelspec": {
   "display_name": "Julia 1.5.1",
   "language": "julia",
   "name": "julia-1.5"
  },
  "language_info": {
   "file_extension": ".jl",
   "mimetype": "application/julia",
   "name": "julia",
   "version": "1.5.1"
  }
 },
 "nbformat": 4,
 "nbformat_minor": 4
}
