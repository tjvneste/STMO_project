{
 "cells": [
  {
   "cell_type": "code",
   "execution_count": 106,
   "metadata": {},
   "outputs": [
    {
     "data": {
      "text/plain": [
       "compute_objective (generic function with 2 methods)"
      ]
     },
     "execution_count": 106,
     "metadata": {},
     "output_type": "execute_result"
    }
   ],
   "source": [
    "\"\"\"\n",
    "\n",
    "Objective function for toy example y = x1^2 + x2^2 + x3^2 + x4^2\n",
    "\n",
    "Calculation for 1 vector or n instances (vectors) in population\n",
    "\n",
    "\"\"\"\n",
    "\n",
    "function compute_objective(input, f::Function)\n",
    "    if length(input)==1\n",
    "        objective = f(input)\n",
    "        output = objective\n",
    "    else\n",
    "        objectives_population = []\n",
    "        \n",
    "        for j in 1:size(input)[1]\n",
    "            food_source = input[j]\n",
    "            objective = f(food_source)\n",
    "            append!(objectives_population, objective)\n",
    "        end\n",
    "        \n",
    "        output = objectives_population\n",
    "    end\n",
    "    \n",
    "    return output\n",
    "end"
   ]
  },
  {
   "cell_type": "code",
   "execution_count": 101,
   "metadata": {},
   "outputs": [
    {
     "data": {
      "text/plain": [
       "rastrigine (generic function with 1 method)"
      ]
     },
     "execution_count": 101,
     "metadata": {},
     "output_type": "execute_result"
    }
   ],
   "source": [
    "function sphere(x)\n",
    "    d = length(x)\n",
    "    return sum(x.^2)\n",
    "end  \n",
    "\n",
    "function ackley(x; a=20, b=0.2, c=2π)\n",
    "    d = length(x)\n",
    "    return -a * exp(-b*sqrt(sum(x.^2)/d)) -\n",
    "        exp(sum(cos.(c .* x))/d) + 20 + exp(1)\n",
    "end\n",
    "\n",
    "function rosenbrock((x1,x2); a=1, b=5)\n",
    "    # 2 dimensions!\n",
    "    return (a-x1)^2 + b*(x2-x1^2)^2\n",
    "end\n",
    "\n",
    "function branin((x1, x2); a=1, b=5.1/(4pi^2), c=5/pi, r=6, s=10, t=1/8pi)\n",
    "    # 2 dimensions!\n",
    "    return a * (x2 - b * x1^2 + c * x1 - r)^2 + s * (1 - t) * cos(x1) + s\n",
    "end\n",
    "\n",
    "function rastrigine(x; A=10)\n",
    "    return length(x) * A + sum(x.^2 .+ A .* cos.(2pi .* x))\n",
    "end"
   ]
  },
  {
   "cell_type": "code",
   "execution_count": 102,
   "metadata": {
    "scrolled": true
   },
   "outputs": [
    {
     "data": {
      "text/plain": [
       "98.0"
      ]
     },
     "execution_count": 102,
     "metadata": {},
     "output_type": "execute_result"
    }
   ],
   "source": [
    "compute_objective([1,2,2,3], sphere,)\n",
    "compute_objective([1,2,2,3], ackley)\n",
    "compute_objective([1,2,2,3], rosenbrock)\n",
    "compute_objective([1,2,2,3], branin)\n",
    "compute_objective([1,2,2,3], rastrigine)"
   ]
  },
  {
   "cell_type": "code",
   "execution_count": 103,
   "metadata": {},
   "outputs": [
    {
     "data": {
      "text/plain": [
       "9-element Array{Any,1}:\n",
       " [4, 3, -2, -2]\n",
       " [1, -4, 4, 0]\n",
       " [-4, -5, 3, -1]\n",
       " [4, 1, 1, 0]\n",
       " [-2, 0, -2, 5]\n",
       " [-4, 2, 1, 0]\n",
       " [-3, 0, -2, -1]\n",
       " [1, -5, 1, 4]\n",
       " [-4, -5, 3, -2]"
      ]
     },
     "execution_count": 103,
     "metadata": {},
     "output_type": "execute_result"
    }
   ],
   "source": [
    "\n",
    "\t\"\"\" Initialize population\n",
    "\t\n",
    "\tThis function generates n random solutions (food sources) within the domain \n",
    "\tof the variables to form an initial population for the ABC algorithm\n",
    "\t\n",
    "\tInput\n",
    "\t- D: number of variables\n",
    "\t- bounds_lower: lower bounds of variables in vector\n",
    "\t- bounds_upper: upper bounds of variables in vector\n",
    "\t- n: number of solutions in population\n",
    "\t\n",
    "\t\"\"\"\n",
    "\t\n",
    "\tfunction initialize_population(D, bounds_lower, bounds_upper, n)\n",
    "\t    # controleer inputs met assert!\n",
    "\t    #lower bounds < upper bounds (@assert)\n",
    "\t    # n>0 (@assert)\n",
    "\t    # D>0\n",
    "\t    population = []   \n",
    "\t    for i in 1:n\n",
    "\t        food_source = collect(rand(bounds_lower[i]:bounds_upper[i]) for i in 1:D)\n",
    "\t        append!(population, [food_source])\n",
    "\t    end\n",
    "\t        \n",
    "\t    return population\n",
    "\tend\t\n",
    " \n",
    "\n",
    "bounds_lower = [-5,-5,-5,-5]\n",
    "bounds_upper = [5,5,5,5]\n",
    "D=4\n",
    "n=9\n",
    "population = initialize_population(D, bounds_lower, bounds_upper, n)"
   ]
  },
  {
   "cell_type": "code",
   "execution_count": 109,
   "metadata": {},
   "outputs": [
    {
     "data": {
      "text/plain": [
       "9-element Array{Any,1}:\n",
       " 113.0\n",
       " 113.0\n",
       " 131.0\n",
       "  98.0\n",
       " 113.0\n",
       " 101.0\n",
       "  94.0\n",
       " 123.0\n",
       " 134.0"
      ]
     },
     "execution_count": 109,
     "metadata": {},
     "output_type": "execute_result"
    }
   ],
   "source": [
    "compute_objective(population, sphere)\n",
    "compute_objective(population, ackley)\n",
    "compute_objective(population, rosenbrock)\n",
    "compute_objective(population, branin)\n",
    "compute_objective(population, rastrigine)"
   ]
  }
 ],
 "metadata": {
  "kernelspec": {
   "display_name": "Julia 1.5.2",
   "language": "julia",
   "name": "julia-1.5"
  },
  "language_info": {
   "file_extension": ".jl",
   "mimetype": "application/julia",
   "name": "julia",
   "version": "1.5.2"
  }
 },
 "nbformat": 4,
 "nbformat_minor": 4
}
