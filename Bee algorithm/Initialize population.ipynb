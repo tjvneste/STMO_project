{
 "cells": [
  {
   "cell_type": "code",
   "execution_count": 82,
   "metadata": {},
   "outputs": [
    {
     "data": {
      "text/plain": [
       "initialize_population (generic function with 1 method)"
      ]
     },
     "execution_count": 82,
     "metadata": {},
     "output_type": "execute_result"
    }
   ],
   "source": [
    "\"\"\" Initialize population\n",
    "\n",
    "This function generates n random solutions (food sources) within the domain \n",
    "of the variables to form an initial population for the ABC algorithm\n",
    "\n",
    "Input\n",
    "- D: number of variables\n",
    "- bounds_lower: lower bounds of variables in vector\n",
    "- bounds_upper: upper bounds of variables in vector\n",
    "- n: number of solutions in population\n",
    "\n",
    "\n",
    "\"\"\"\n",
    "\n",
    "function initialize_population(D, bounds_lower, bounds_upper, n)\n",
    "    population = []   \n",
    "    for i in 1:n\n",
    "        food_source = collect(rand(bounds_lower[i]:bounds_upper[i]) for i in 1:D)\n",
    "        append!(population, [food_source])\n",
    "    end\n",
    "        \n",
    "    return population\n",
    "end\t\n",
    "\n"
   ]
  },
  {
   "cell_type": "code",
   "execution_count": 90,
   "metadata": {},
   "outputs": [
    {
     "data": {
      "text/plain": [
       "9-element Array{Any,1}:\n",
       " [4, 5, 4, -3]\n",
       " [-5, -2, -1, 5]\n",
       " [0, -3, 0, -1]\n",
       " [-4, 4, -3, -1]\n",
       " [1, 4, 0, -3]\n",
       " [-1, -5, -3, 4]\n",
       " [-1, -3, 5, 4]\n",
       " [0, 3, -4, 1]\n",
       " [-1, -5, -2, -3]"
      ]
     },
     "execution_count": 90,
     "metadata": {},
     "output_type": "execute_result"
    }
   ],
   "source": [
    "bounds_lower = [-5,-5,-5,-5]\n",
    "bounds_upper = [5,5,5,5]\n",
    "D=4\n",
    "n=9\n",
    "population = initialize_population(D, bounds_lower, bounds_upper, n)"
   ]
  },
  {
   "cell_type": "code",
   "execution_count": 91,
   "metadata": {},
   "outputs": [
    {
     "data": {
      "text/plain": [
       "4-element Array{Int64,1}:\n",
       "  4\n",
       "  5\n",
       "  4\n",
       " -3"
      ]
     },
     "execution_count": 91,
     "metadata": {},
     "output_type": "execute_result"
    }
   ],
   "source": [
    "population[1]"
   ]
  }
 ],
 "metadata": {
  "kernelspec": {
   "display_name": "Julia 1.5.1",
   "language": "julia",
   "name": "julia-1.5"
  },
  "language_info": {
   "file_extension": ".jl",
   "mimetype": "application/julia",
   "name": "julia",
   "version": "1.5.1"
  }
 },
 "nbformat": 4,
 "nbformat_minor": 4
}
