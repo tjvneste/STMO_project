{
 "cells": [
  {
   "cell_type": "code",
   "execution_count": 92,
   "metadata": {},
   "outputs": [
    {
     "data": {
      "text/plain": [
       "employed_bee_phase (generic function with 2 methods)"
      ]
     },
     "execution_count": 92,
     "metadata": {},
     "output_type": "execute_result"
    }
   ],
   "source": [
    "\"\"\" Employed bee phase function\n",
    "\n",
    "Input\n",
    "- population of solutions (food sources)\n",
    "- lower and upper bounds of variables\n",
    "- current trial of solutions\n",
    "\n",
    "Output\n",
    "- new evolved population\n",
    "- new fitness values\n",
    "- updated trials of solutions in population: \n",
    "    When original solution has failed to generate better solution, trial counter is increased by 1 unit\n",
    "    When better solution has been found, the trial counter for this new solution is set to zero\n",
    "\n",
    "\"\"\"\n",
    "\n",
    "function employed_bee_phase(population, bounds_lower, bounds_upper, trial, Np)\n",
    "    population_new = []\n",
    "    \n",
    "    # create new food sources\n",
    "    for i in 1:Np\n",
    "        solution = population[i, :][1]\n",
    "        solution_new = create_newsolution(solution, population, bounds_lower, bounds_upper)     \n",
    "        append!(population_new, [solution_new])\n",
    "    end\n",
    "    \n",
    "    # evaluate fitness old and new population\n",
    "    objective_values_old = compute_objective(population, false)\n",
    "    fitness_old = compute_fitness(objective_values_old)\n",
    "    objective_values_new = compute_objective(population_new, false)\n",
    "    fitness_new = compute_fitness(objective_values_new)\n",
    "\n",
    "    # perform greedy selection\n",
    "    population_new_evolved = []\n",
    "    fitness_new_evolved = []\n",
    "    objective_new_evolved = []\n",
    "    \n",
    "    for j in 1:Np\n",
    "        if fitness_new[j] > fitness_old[j]\n",
    "            append!(population_new_evolved, [population_new[j]])\n",
    "            append!(fitness_new_evolved, fitness_new[j])\n",
    "            append!(objective_new_evolved, objective_values_new[j])\n",
    "            trial[j]=0\n",
    "        else \n",
    "           append!(population_new_evolved, [population[j]]) \n",
    "           append!(fitness_new_evolved, fitness_old[j])\n",
    "            append!(objective_new_evolved, objective_values_old[j])\n",
    "            trial[j] += 1\n",
    "        end\n",
    "    end\n",
    "    \n",
    "    return population_new_evolved, fitness_new_evolved, objective_new_evolved, trial\n",
    "end\t\n"
   ]
  },
  {
   "cell_type": "code",
   "execution_count": 93,
   "metadata": {},
   "outputs": [
    {
     "data": {
      "text/html": [
       "<table class=\"data-frame\"><thead><tr><th></th><th>old_population</th><th>new_population</th><th>fitness</th><th>objective</th><th>trial</th></tr><tr><th></th><th>Any</th><th>Any</th><th>Any</th><th>Any</th><th>Float64</th></tr></thead><tbody><p>9 rows × 5 columns</p><tr><th>1</th><td>[0, 2, -5, 0]</td><td>[0.0, 1.36651, -5.0, 0.0]</td><td>0.0358843</td><td>26.8674</td><td>0.0</td></tr><tr><th>2</th><td>[3, -3, 0, -5]</td><td>[3, -3, 0, -5]</td><td>0.0227273</td><td>43</td><td>1.0</td></tr><tr><th>3</th><td>[-3, 4, -2, 4]</td><td>[-3, 4, -2, 4]</td><td>0.0217391</td><td>45</td><td>1.0</td></tr><tr><th>4</th><td>[5, -3, -1, 2]</td><td>[5.0, -2.07198, -1.0, 2.0]</td><td>0.0283342</td><td>34.2931</td><td>0.0</td></tr><tr><th>5</th><td>[-2, 2, -4, 3]</td><td>[-2, 2, -4, 3]</td><td>0.0294118</td><td>33</td><td>1.0</td></tr><tr><th>6</th><td>[-3, -1, -2, 5]</td><td>[-3, -1, -2, 5]</td><td>0.025</td><td>39</td><td>1.0</td></tr><tr><th>7</th><td>[1, -5, 1, 0]</td><td>[0.727816, -5.0, 1.0, 0.0]</td><td>0.0363244</td><td>26.5297</td><td>0.0</td></tr><tr><th>8</th><td>[-2, 2, 0, -5]</td><td>[-2, 2, 0, -5]</td><td>0.0294118</td><td>33</td><td>1.0</td></tr><tr><th>9</th><td>[-5, 1, -4, 1]</td><td>[-5, 1, -4, 1]</td><td>0.0227273</td><td>43</td><td>1.0</td></tr></tbody></table>"
      ],
      "text/latex": [
       "\\begin{tabular}{r|ccccc}\n",
       "\t& old\\_population & new\\_population & fitness & objective & trial\\\\\n",
       "\t\\hline\n",
       "\t& Any & Any & Any & Any & Float64\\\\\n",
       "\t\\hline\n",
       "\t1 & [0, 2, -5, 0] & [0.0, 1.36651, -5.0, 0.0] & 0.0358843 & 26.8674 & 0.0 \\\\\n",
       "\t2 & [3, -3, 0, -5] & [3, -3, 0, -5] & 0.0227273 & 43 & 1.0 \\\\\n",
       "\t3 & [-3, 4, -2, 4] & [-3, 4, -2, 4] & 0.0217391 & 45 & 1.0 \\\\\n",
       "\t4 & [5, -3, -1, 2] & [5.0, -2.07198, -1.0, 2.0] & 0.0283342 & 34.2931 & 0.0 \\\\\n",
       "\t5 & [-2, 2, -4, 3] & [-2, 2, -4, 3] & 0.0294118 & 33 & 1.0 \\\\\n",
       "\t6 & [-3, -1, -2, 5] & [-3, -1, -2, 5] & 0.025 & 39 & 1.0 \\\\\n",
       "\t7 & [1, -5, 1, 0] & [0.727816, -5.0, 1.0, 0.0] & 0.0363244 & 26.5297 & 0.0 \\\\\n",
       "\t8 & [-2, 2, 0, -5] & [-2, 2, 0, -5] & 0.0294118 & 33 & 1.0 \\\\\n",
       "\t9 & [-5, 1, -4, 1] & [-5, 1, -4, 1] & 0.0227273 & 43 & 1.0 \\\\\n",
       "\\end{tabular}\n"
      ],
      "text/plain": [
       "9×5 DataFrame. Omitted printing of 1 columns\n",
       "│ Row │ old_population  │ new_population             │ fitness   │ objective │\n",
       "│     │ \u001b[90mAny\u001b[39m             │ \u001b[90mAny\u001b[39m                        │ \u001b[90mAny\u001b[39m       │ \u001b[90mAny\u001b[39m       │\n",
       "├─────┼─────────────────┼────────────────────────────┼───────────┼───────────┤\n",
       "│ 1   │ [0, 2, -5, 0]   │ [0.0, 1.36651, -5.0, 0.0]  │ 0.0358843 │ 26.8674   │\n",
       "│ 2   │ [3, -3, 0, -5]  │ [3, -3, 0, -5]             │ 0.0227273 │ 43        │\n",
       "│ 3   │ [-3, 4, -2, 4]  │ [-3, 4, -2, 4]             │ 0.0217391 │ 45        │\n",
       "│ 4   │ [5, -3, -1, 2]  │ [5.0, -2.07198, -1.0, 2.0] │ 0.0283342 │ 34.2931   │\n",
       "│ 5   │ [-2, 2, -4, 3]  │ [-2, 2, -4, 3]             │ 0.0294118 │ 33        │\n",
       "│ 6   │ [-3, -1, -2, 5] │ [-3, -1, -2, 5]            │ 0.025     │ 39        │\n",
       "│ 7   │ [1, -5, 1, 0]   │ [0.727816, -5.0, 1.0, 0.0] │ 0.0363244 │ 26.5297   │\n",
       "│ 8   │ [-2, 2, 0, -5]  │ [-2, 2, 0, -5]             │ 0.0294118 │ 33        │\n",
       "│ 9   │ [-5, 1, -4, 1]  │ [-5, 1, -4, 1]             │ 0.0227273 │ 43        │"
      ]
     },
     "execution_count": 93,
     "metadata": {},
     "output_type": "execute_result"
    }
   ],
   "source": [
    "# input employed bee phase\n",
    "trial = zeros(size(population)[1])\n",
    "bounds_lower = [-5,-5,-5,-5]\n",
    "bounds_upper = [5,5,5,5]\n",
    "D=4\n",
    "n=9\n",
    "population = initialize_population(D, bounds_lower, bounds_upper, n)\n",
    "\n",
    "# execute employed bee phase\n",
    "pop_new_evolved, fitness_new_evolved, objective_new_evolved, trial_new = employed_bee_phase(population, bounds_lower, bounds_upper, trial)\n",
    "\n",
    "\n",
    "# visualize output in dataframe\n",
    "# import Pkg; Pkg.add(\"DataFrames\")\n",
    "using DataFrames\n",
    "df = DataFrame(old_population = population, new_population=pop_new_evolved, fitness=fitness_new_evolved, objective=objective_new_evolved, trial=trial_new)"
   ]
  },
  {
   "cell_type": "code",
   "execution_count": 8,
   "metadata": {},
   "outputs": [
    {
     "data": {
      "text/plain": [
       "foodsource_info_prob (generic function with 1 method)"
      ]
     },
     "execution_count": 8,
     "metadata": {},
     "output_type": "execute_result"
    }
   ],
   "source": [
    "\"\"\" Food source information (measured in probabilities)\n",
    "\n",
    "Input\n",
    "- fitness values\n",
    "\n",
    "Output\n",
    "- probability/food source information values\n",
    "\n",
    "\n",
    "\"\"\"\n",
    "\n",
    "function foodsource_info_prob(fitness_values)\n",
    "    probabilities = []\n",
    "    \n",
    "    for i in 1:length(fitness_values)\n",
    "        fitness_value = fitness_values[i] \n",
    "        probability = 0.9*(fitness_value/maximum(fitness_values)) + 0.1\n",
    "        append!(probabilities, probability)\n",
    "    end\n",
    "    \n",
    "    return probabilities\n",
    "end\t\n",
    "\n"
   ]
  },
  {
   "cell_type": "code",
   "execution_count": 14,
   "metadata": {},
   "outputs": [
    {
     "data": {
      "text/html": [
       "<table class=\"data-frame\"><thead><tr><th></th><th>old_population</th><th>new_population</th><th>fitness</th><th>objective</th><th>trial</th></tr><tr><th></th><th>Any</th><th>Any</th><th>Any</th><th>Any</th><th>Float64</th></tr></thead><tbody><p>9 rows × 5 columns</p><tr><th>1</th><td>[-3, -5, -4, 1]</td><td>[-3, -5, -4, 1]</td><td>0.0192308</td><td>51</td><td>1.0</td></tr><tr><th>2</th><td>[-1, 1, 4, 4]</td><td>[-1, 1, 4, 4]</td><td>0.0285714</td><td>34</td><td>1.0</td></tr><tr><th>3</th><td>[4, 0, 4, -4]</td><td>[4.0, 0.0, -0.428406, -4.0]</td><td>0.0301354</td><td>32.1835</td><td>0.0</td></tr><tr><th>4</th><td>[-1, -2, 1, -5]</td><td>[-1, -2, 1, -5]</td><td>0.03125</td><td>31</td><td>1.0</td></tr><tr><th>5</th><td>[-1, 0, 2, 5]</td><td>[-0.289361, 0.0, 2.0, 5.0]</td><td>0.0332406</td><td>29.0837</td><td>0.0</td></tr><tr><th>6</th><td>[3, 5, -4, -5]</td><td>[1.1047, 5.0, -4.0, -5.0]</td><td>0.0146584</td><td>67.2204</td><td>0.0</td></tr><tr><th>7</th><td>[-1, 1, -1, 4]</td><td>[-1.0, 1.0, -1.0, 3.98601]</td><td>0.0502809</td><td>18.8883</td><td>0.0</td></tr><tr><th>8</th><td>[3, -4, -1, 3]</td><td>[3, -4, -1, 3]</td><td>0.0277778</td><td>35</td><td>1.0</td></tr><tr><th>9</th><td>[-3, 1, 5, 0]</td><td>[-3, 1, 5, 0]</td><td>0.0277778</td><td>35</td><td>1.0</td></tr></tbody></table>"
      ],
      "text/latex": [
       "\\begin{tabular}{r|ccccc}\n",
       "\t& old\\_population & new\\_population & fitness & objective & trial\\\\\n",
       "\t\\hline\n",
       "\t& Any & Any & Any & Any & Float64\\\\\n",
       "\t\\hline\n",
       "\t1 & [-3, -5, -4, 1] & [-3, -5, -4, 1] & 0.0192308 & 51 & 1.0 \\\\\n",
       "\t2 & [-1, 1, 4, 4] & [-1, 1, 4, 4] & 0.0285714 & 34 & 1.0 \\\\\n",
       "\t3 & [4, 0, 4, -4] & [4.0, 0.0, -0.428406, -4.0] & 0.0301354 & 32.1835 & 0.0 \\\\\n",
       "\t4 & [-1, -2, 1, -5] & [-1, -2, 1, -5] & 0.03125 & 31 & 1.0 \\\\\n",
       "\t5 & [-1, 0, 2, 5] & [-0.289361, 0.0, 2.0, 5.0] & 0.0332406 & 29.0837 & 0.0 \\\\\n",
       "\t6 & [3, 5, -4, -5] & [1.1047, 5.0, -4.0, -5.0] & 0.0146584 & 67.2204 & 0.0 \\\\\n",
       "\t7 & [-1, 1, -1, 4] & [-1.0, 1.0, -1.0, 3.98601] & 0.0502809 & 18.8883 & 0.0 \\\\\n",
       "\t8 & [3, -4, -1, 3] & [3, -4, -1, 3] & 0.0277778 & 35 & 1.0 \\\\\n",
       "\t9 & [-3, 1, 5, 0] & [-3, 1, 5, 0] & 0.0277778 & 35 & 1.0 \\\\\n",
       "\\end{tabular}\n"
      ],
      "text/plain": [
       "9×5 DataFrame. Omitted printing of 1 columns\n",
       "│ Row │ old_population  │ new_population              │ fitness   │ objective │\n",
       "│     │ \u001b[90mAny\u001b[39m             │ \u001b[90mAny\u001b[39m                         │ \u001b[90mAny\u001b[39m       │ \u001b[90mAny\u001b[39m       │\n",
       "├─────┼─────────────────┼─────────────────────────────┼───────────┼───────────┤\n",
       "│ 1   │ [-3, -5, -4, 1] │ [-3, -5, -4, 1]             │ 0.0192308 │ 51        │\n",
       "│ 2   │ [-1, 1, 4, 4]   │ [-1, 1, 4, 4]               │ 0.0285714 │ 34        │\n",
       "│ 3   │ [4, 0, 4, -4]   │ [4.0, 0.0, -0.428406, -4.0] │ 0.0301354 │ 32.1835   │\n",
       "│ 4   │ [-1, -2, 1, -5] │ [-1, -2, 1, -5]             │ 0.03125   │ 31        │\n",
       "│ 5   │ [-1, 0, 2, 5]   │ [-0.289361, 0.0, 2.0, 5.0]  │ 0.0332406 │ 29.0837   │\n",
       "│ 6   │ [3, 5, -4, -5]  │ [1.1047, 5.0, -4.0, -5.0]   │ 0.0146584 │ 67.2204   │\n",
       "│ 7   │ [-1, 1, -1, 4]  │ [-1.0, 1.0, -1.0, 3.98601]  │ 0.0502809 │ 18.8883   │\n",
       "│ 8   │ [3, -4, -1, 3]  │ [3, -4, -1, 3]              │ 0.0277778 │ 35        │\n",
       "│ 9   │ [-3, 1, 5, 0]   │ [-3, 1, 5, 0]               │ 0.0277778 │ 35        │"
      ]
     },
     "execution_count": 14,
     "metadata": {},
     "output_type": "execute_result"
    }
   ],
   "source": [
    "df"
   ]
  },
  {
   "cell_type": "code",
   "execution_count": 86,
   "metadata": {},
   "outputs": [
    {
     "data": {
      "text/plain": [
       "9-element Array{Float64,1}:\n",
       " 1.0\n",
       " 1.0\n",
       " 0.0\n",
       " 1.0\n",
       " 0.0\n",
       " 1.0\n",
       " 1.0\n",
       " 1.0\n",
       " 1.0"
      ]
     },
     "execution_count": 86,
     "metadata": {},
     "output_type": "execute_result"
    }
   ],
   "source": [
    "population = df[:,2]\n",
    "fitness = df[:,3]\n",
    "objective = df[:,4]\n",
    "trials = df[:,5]"
   ]
  },
  {
   "cell_type": "code",
   "execution_count": 91,
   "metadata": {},
   "outputs": [
    {
     "data": {
      "text/plain": [
       "9-element Array{Float64,1}:\n",
       " 2.0\n",
       " 1.0\n",
       " 0.0\n",
       " 2.0\n",
       " 1.0\n",
       " 2.0\n",
       " 3.0\n",
       " 0.0\n",
       " 1.0"
      ]
     },
     "execution_count": 91,
     "metadata": {},
     "output_type": "execute_result"
    }
   ],
   "source": [
    "trials"
   ]
  },
  {
   "cell_type": "code",
   "execution_count": 60,
   "metadata": {},
   "outputs": [
    {
     "data": {
      "text/plain": [
       "9-element Array{Any,1}:\n",
       " [-4.0, -4.0, 1.0, 0.9408621868932165]\n",
       " [0, 4, -4, 2]\n",
       " [-4.0, -5.0, 3.0, 3.598139074590409]\n",
       " [3, -4, 0, 4]\n",
       " [0.0, 4.0, -0.02297111325620227, -1.0]\n",
       " [-1.3089562943974746, -1.0, 2.0, 5.0]\n",
       " [3, -4, 5, 0]\n",
       " [3, 3, 5, -5]\n",
       " [-5, 5, 0, 0]"
      ]
     },
     "execution_count": 60,
     "metadata": {},
     "output_type": "execute_result"
    }
   ],
   "source": [
    "population"
   ]
  },
  {
   "cell_type": "code",
   "execution_count": 90,
   "metadata": {},
   "outputs": [
    {
     "data": {
      "text/plain": [
       "9-element Array{Any,1}:\n",
       " [-4, -3, -2, -2]\n",
       " [-4.0, 3.0, 3.0, -0.9158367219753689]\n",
       " [-4.0, 4.0, -0.7714313109700992, -5.0]\n",
       " [5, -3, 1, 0]\n",
       " [-2.998364249970947, 0.0, -1.0, 1.2239151271957165]\n",
       " [1, 5, 4, 1]\n",
       " [-2, -1, 0, -3]\n",
       " [3.5139640240066594, -2.0, 3.0, -2.0]\n",
       " [5, -5, 1, -3]"
      ]
     },
     "execution_count": 90,
     "metadata": {},
     "output_type": "execute_result"
    }
   ],
   "source": [
    "population"
   ]
  },
  {
   "cell_type": "code",
   "execution_count": 87,
   "metadata": {},
   "outputs": [
    {
     "name": "stdout",
     "output_type": "stream",
     "text": [
      "population = Any[[-4, -3, -2, -2], [-4.0, 3.0, 3.0, -0.9158367219753689], [-4.0, 4.0, -0.7714313109700992, -5.0], [5, -3, 1, 0], [-2.998364249970947, 0.0, -1.0, 2.0], [1, 5, 4, 1], [-2, -1, 0, -3], [5, -2, 3, -2], [5, -5, 1, -3]]\n",
      "population = Any[[-4, -3, -2, -2], [-4.0, 3.0, 3.0, -0.9158367219753689], [-4.0, 4.0, -0.7714313109700992, -5.0], [5, -3, 1, 0], [-2.998364249970947, 0.0, -1.0, 1.2239151271957165], [1, 5, 4, 1], [-2, -1, 0, -3], [5, -2, 3, -2], [5, -5, 1, -3]]\n",
      "population = Any[[-4, -3, -2, -2], [-4.0, 3.0, 3.0, -0.9158367219753689], [-4.0, 4.0, -0.7714313109700992, -5.0], [5, -3, 1, 0], [-2.998364249970947, 0.0, -1.0, 1.2239151271957165], [1, 5, 4, 1], [-2, -1, 0, -3], [3.5139640240066594, -2.0, 3.0, -2.0], [5, -5, 1, -3]]\n"
     ]
    },
    {
     "data": {
      "text/plain": [
       "(Any[[-4, -3, -2, -2], [-4.0, 3.0, 3.0, -0.9158367219753689], [-4.0, 4.0, -0.7714313109700992, -5.0], [5, -3, 1, 0], [-2.998364249970947, 0.0, -1.0, 1.2239151271957165], [1, 5, 4, 1], [-2, -1, 0, -3], [3.5139640240066594, -2.0, 3.0, -2.0], [5, -5, 1, -3]], [2.0, 1.0, 0.0, 2.0, 1.0, 2.0, 3.0, 0.0, 1.0])"
      ]
     },
     "execution_count": 87,
     "metadata": {},
     "output_type": "execute_result"
    }
   ],
   "source": [
    "population_new, trial_new = onlooker_bee_phase(population,bounds_lower, bounds_upper, trials, n)"
   ]
  },
  {
   "cell_type": "code",
   "execution_count": 89,
   "metadata": {},
   "outputs": [
    {
     "data": {
      "text/plain": [
       "true"
      ]
     },
     "execution_count": 89,
     "metadata": {},
     "output_type": "execute_result"
    }
   ],
   "source": [
    "population_new == population"
   ]
  },
  {
   "cell_type": "code",
   "execution_count": 64,
   "metadata": {},
   "outputs": [
    {
     "data": {
      "text/plain": [
       "9-element Array{Float64,1}:\n",
       " 1.0\n",
       " 1.0\n",
       " 1.0\n",
       " 1.0\n",
       " 0.0\n",
       " 1.0\n",
       " 1.0\n",
       " 0.0\n",
       " 2.0"
      ]
     },
     "execution_count": 64,
     "metadata": {},
     "output_type": "execute_result"
    }
   ],
   "source": [
    "trial_new"
   ]
  },
  {
   "cell_type": "code",
   "execution_count": 50,
   "metadata": {},
   "outputs": [
    {
     "data": {
      "text/plain": [
       "9-element Array{Float64,1}:\n",
       " 1.0\n",
       " 1.0\n",
       " 0.0\n",
       " 0.0\n",
       " 0.0\n",
       " 4.0\n",
       " 0.0\n",
       " 2.0\n",
       " 0.0"
      ]
     },
     "execution_count": 50,
     "metadata": {},
     "output_type": "execute_result"
    }
   ],
   "source": [
    "trial_new"
   ]
  },
  {
   "cell_type": "code",
   "execution_count": 84,
   "metadata": {},
   "outputs": [
    {
     "data": {
      "text/plain": [
       "onlooker_bee_phase (generic function with 1 method)"
      ]
     },
     "execution_count": 84,
     "metadata": {},
     "output_type": "execute_result"
    }
   ],
   "source": [
    "\"\"\" Onlooker bee phase function\n",
    "\n",
    "Input\n",
    "- population of solutions (food sources)\n",
    "- lower and upper bounds of variables\n",
    "- current trial of solutions\n",
    "\n",
    "Output\n",
    "- new evolved population\n",
    "- new fitness values\n",
    "- updated trials of solutions in population: \n",
    "    When original solution has failed to generate better solution, trial counter is increased by 1 unit\n",
    "    When better solution has been found, the trial counter for this new solution is set to zero\n",
    "\n",
    "\"\"\"\n",
    "\n",
    "function onlooker_bee_phase(population, bounds_lower, bounds_upper, trial, Np)\n",
    "    m = 0 # onlooker bee\n",
    "    n = 1 # food source\n",
    "    \n",
    "    objective_values = compute_objective(population,false)\n",
    "    fitness = compute_fitness(objective_values)\n",
    "    # first calculate the probability values\n",
    "    proba = foodsource_info_prob(fitness)\n",
    "    \n",
    "    while m <= Np # we want for every onlooker bee a new solution\n",
    "        r = rand()\n",
    "        if r <= proba[n]\n",
    "            solution = population[n, :][1] # solution n\n",
    "            \n",
    "            objective_values_old = compute_objective(solution)\n",
    "            fitness_old = compute_fitness(objective_values_old)\n",
    "            \n",
    "            solution_new = create_newsolution(solution, population, bounds_lower, bounds_upper)\n",
    "            \n",
    "            objective_values_new = compute_objective(solution_new)\n",
    "            fitness_new = compute_fitness(objective_values_new)\n",
    "            \n",
    "            if fitness_new > fitness_old # if this get accepted \n",
    "                population[n, :] = [solution_new]\n",
    "                @show population\n",
    "                trial[n]=0\n",
    "            else \n",
    "                trial[n] += 1\n",
    "            end\n",
    "            m = m + 1\n",
    "        end\n",
    "        # if the rand < proba is not sattisfied\n",
    "        n = n +1\n",
    "        if n > Np \n",
    "            n = 1\n",
    "        end\n",
    "    end\n",
    "    objective = compute_objective(population,false)\n",
    "    fitness = compute_fitness(objective)\n",
    "    \n",
    "    return population,trial, objective, fitness\n",
    "end\t\n",
    "\n"
   ]
  },
  {
   "cell_type": "code",
   "execution_count": 74,
   "metadata": {},
   "outputs": [
    {
     "data": {
      "text/plain": [
       "9-element Array{Any,1}:\n",
       " 0.5643936353675231\n",
       " 0.5378506731037785\n",
       " 0.35334378510766395\n",
       " 0.4857255929723764\n",
       " 1.0\n",
       " 0.5952249370269946\n",
       " 0.41765637068313344\n",
       " 0.33478949137448993\n",
       " 0.41765637068313344"
      ]
     },
     "execution_count": 74,
     "metadata": {},
     "output_type": "execute_result"
    }
   ],
   "source": [
    "    objective_values = compute_objective(population,false)\n",
    "    fitness = compute_fitness(objective_values)\n",
    "    # first calculate the probability values\n",
    "    proba = foodsource_info_prob(fitness)"
   ]
  },
  {
   "cell_type": "code",
   "execution_count": 56,
   "metadata": {},
   "outputs": [
    {
     "data": {
      "text/plain": [
       "1-element Array{Any,1}:\n",
       " 0.05263157894736842"
      ]
     },
     "execution_count": 56,
     "metadata": {},
     "output_type": "execute_result"
    }
   ],
   "source": [
    "objective_values_old = compute_objective(solution)\n",
    "fitness_old = compute_fitness(objective_values_old)"
   ]
  },
  {
   "cell_type": "code",
   "execution_count": 54,
   "metadata": {},
   "outputs": [
    {
     "data": {
      "text/plain": [
       "4-element Array{Float64,1}:\n",
       " 0.9313570903756774\n",
       " 2.0\n",
       " 3.0\n",
       " 2.0"
      ]
     },
     "execution_count": 54,
     "metadata": {},
     "output_type": "execute_result"
    }
   ],
   "source": [
    "solution_new = create_newsolution(solution, population, bounds_lower, bounds_upper)"
   ]
  },
  {
   "cell_type": "code",
   "execution_count": 55,
   "metadata": {},
   "outputs": [
    {
     "data": {
      "text/plain": [
       "1-element Array{Any,1}:\n",
       " 0.053001400319308355"
      ]
     },
     "execution_count": 55,
     "metadata": {},
     "output_type": "execute_result"
    }
   ],
   "source": [
    "objective_values_new = compute_objective(solution_new)\n",
    "fitness_new = compute_fitness(objective_values_new)"
   ]
  },
  {
   "cell_type": "markdown",
   "metadata": {},
   "source": [
    "### Andere functies nodig voor employed bee phase"
   ]
  },
  {
   "cell_type": "code",
   "execution_count": 3,
   "metadata": {},
   "outputs": [
    {
     "data": {
      "text/plain": [
       "compute_objective (generic function with 2 methods)"
      ]
     },
     "execution_count": 3,
     "metadata": {},
     "output_type": "execute_result"
    }
   ],
   "source": [
    "function compute_objective(input, vector=true)\n",
    "    if vector == true\n",
    "        objective = sum(input[i]^2 for i in 1:length(input))\n",
    "        output = objective\n",
    "    else\n",
    "        objectives_population = []\n",
    "        \n",
    "        for j in 1:size(input)[1]\n",
    "            food_source = input[j, :]\n",
    "            #objective = sum(food_source[i]^2 for i in 1:length(food_source))\n",
    "            objective = sum(sum(food_source[i].^2 for i in 1:length(food_source)))\n",
    "            append!(objectives_population, objective)\n",
    "        end\n",
    "        \n",
    "        output = objectives_population\n",
    "    end\n",
    "    \n",
    "    return output\n",
    "end"
   ]
  },
  {
   "cell_type": "code",
   "execution_count": 4,
   "metadata": {},
   "outputs": [
    {
     "data": {
      "text/plain": [
       "compute_fitness (generic function with 1 method)"
      ]
     },
     "execution_count": 4,
     "metadata": {},
     "output_type": "execute_result"
    }
   ],
   "source": [
    "function compute_fitness(objective_values)\n",
    "    fitness_values = []\n",
    "    \n",
    "    for i in 1:length(objective_values)\n",
    "        objective_value = objective_values[i]\n",
    "        \n",
    "        if objective_value >= 0\n",
    "            fitness = 1/(1+objective_value)\n",
    "     \n",
    "        else\n",
    "            fitness = 1+abs(objective_value)\n",
    "        end\n",
    "        \n",
    "        append!(fitness_values, fitness)\n",
    "    end\n",
    "    return fitness_values\n",
    "end\t"
   ]
  },
  {
   "cell_type": "code",
   "execution_count": 5,
   "metadata": {},
   "outputs": [
    {
     "data": {
      "text/plain": [
       "9-element Array{Any,1}:\n",
       " [-5, 0, -2, -3]\n",
       " [2, -1, 1, -1]\n",
       " [-4, 1, -4, 3]\n",
       " [-4, -3, -4, 4]\n",
       " [-5, 5, 2, 5]\n",
       " [-4, -5, 2, -5]\n",
       " [-4, -2, 2, 0]\n",
       " [4, 2, -2, -5]\n",
       " [-1, -1, 0, -4]"
      ]
     },
     "execution_count": 5,
     "metadata": {},
     "output_type": "execute_result"
    }
   ],
   "source": [
    "function initialize_population(D, bounds_lower, bounds_upper, n)\n",
    "    population = []   \n",
    "    for i in 1:n\n",
    "        food_source = collect(rand(bounds_lower[i]:bounds_upper[i]) for i in 1:D)\n",
    "        append!(population, [food_source])\n",
    "    end\n",
    "        \n",
    "    return population\n",
    "end\t\n",
    "bounds_lower = [-5,-5,-5,-5]\n",
    "bounds_upper = [5,5,5,5]\n",
    "D=4\n",
    "n=9\n",
    "population = initialize_population(D, bounds_lower, bounds_upper, n)"
   ]
  },
  {
   "cell_type": "code",
   "execution_count": 6,
   "metadata": {},
   "outputs": [
    {
     "data": {
      "text/plain": [
       "create_newsolution (generic function with 1 method)"
      ]
     },
     "execution_count": 6,
     "metadata": {},
     "output_type": "execute_result"
    }
   ],
   "source": [
    "function create_newsolution(solution, population, bounds_lower, bounds_upper)\n",
    "    \n",
    "    # select random variable to change       \n",
    "    randomvar1_index = rand(1:length(solution), 1)\n",
    "        \n",
    "    # select partner solution to generate new solution        \n",
    "    randompartner_index = rand(1:size(population)[1], 1)\n",
    "    \n",
    "    # select random variable in partner solution to exchange with\n",
    "        \n",
    "    randompartner = population[randompartner_index, :][1]\n",
    "    randomvar2_index = rand(1:length(randompartner), 1)\n",
    "        \n",
    "    # create new food location\n",
    "    phi = rand()*2-1 #random number between -1 and 1     \n",
    "    global solution_new = float(deepcopy(solution))\n",
    "    a = solution[randomvar1_index] \n",
    "    b = randompartner[randomvar2_index]\n",
    "    solution_new[randomvar1_index] = a + phi*(a - b)\n",
    "    \n",
    "    # check if lower bound is violated\n",
    "    if solution_new[randomvar1_index] < bounds_lower[randomvar1_index] \n",
    "        solution_new[randomvar1_index] = bounds_lower[randomvar1_index]\n",
    "    end\n",
    "    \n",
    "    # check if upper bound is violated\n",
    "    if solution_new[randomvar1_index] > bounds_upper[randomvar1_index]\n",
    "        solution_new[randomvar1_index] = bounds_upper[randomvar1_index]\n",
    "    end\n",
    "        \n",
    "    return solution_new\n",
    "end\t"
   ]
  },
  {
   "cell_type": "code",
   "execution_count": null,
   "metadata": {},
   "outputs": [],
   "source": []
  }
 ],
 "metadata": {
  "kernelspec": {
   "display_name": "Julia 1.5.2",
   "language": "julia",
   "name": "julia-1.5"
  },
  "language_info": {
   "file_extension": ".jl",
   "mimetype": "application/julia",
   "name": "julia",
   "version": "1.5.2"
  }
 },
 "nbformat": 4,
 "nbformat_minor": 4
}
