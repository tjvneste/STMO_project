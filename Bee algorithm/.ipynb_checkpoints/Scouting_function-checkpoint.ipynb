{
 "cells": [
  {
   "cell_type": "code",
   "execution_count": null,
   "metadata": {},
   "outputs": [],
   "source": [
    "\"\"\" Scouting function\n",
    "\n",
    "This function generates n random solutions (food sources) within the domain \n",
    "of the variables to form an initial population for the ABC algorithm\n",
    "\n",
    "Input\n",
    "- p: population matrix\n",
    "- bounds_lower: lower bounds of variables in vector\n",
    "- bounds_upper: upper bounds of variables in vector\n",
    "- n: number of solutions in population\n",
    "- t: trials vector\n",
    "- fitness\n",
    "- objective\n",
    "- l: limit\n",
    "\n",
    "\n",
    "\"\"\"\n",
    "\n",
    "function Scouting(p,bounds_lower, bounds_upper,n,t,fitness,objective, l)\n",
    "    # check whether the trial vector exceed the limit value and importantly where\n",
    "    index_exceed = t .> l \n",
    "    \n",
    "    \n",
    "end\n"
   ]
  },
  {
   "cell_type": "code",
   "execution_count": 14,
   "metadata": {},
   "outputs": [
    {
     "data": {
      "text/plain": [
       "initialize_population (generic function with 1 method)"
      ]
     },
     "execution_count": 14,
     "metadata": {},
     "output_type": "execute_result"
    }
   ],
   "source": [
    "\"\"\" Initialize population\n",
    "\n",
    "This function generates n random solutions (food sources) within the domain \n",
    "of the variables to form an initial population for the ABC algorithm\n",
    "\n",
    "Input\n",
    "- D: number of variables\n",
    "- bounds_lower: lower bounds of variables in vector\n",
    "- bounds_upper: upper bounds of variables in vector\n",
    "- n: number of solutions in population\n",
    "\n",
    "\n",
    "\"\"\"\n",
    "\n",
    "function initialize_population(D, bounds_lower, bounds_upper, n)\n",
    "    population = []   \n",
    "    for i in 1:n\n",
    "        food_source = collect(rand(bounds_lower[i]:bounds_upper[i]) for i in 1:D)\n",
    "        append!(population, [food_source])\n",
    "    end\n",
    "        \n",
    "    return population\n",
    "end\t\n",
    "\n",
    "\n"
   ]
  },
  {
   "cell_type": "code",
   "execution_count": 16,
   "metadata": {},
   "outputs": [
    {
     "data": {
      "text/plain": [
       "compute_objective (generic function with 2 methods)"
      ]
     },
     "execution_count": 16,
     "metadata": {},
     "output_type": "execute_result"
    }
   ],
   "source": [
    "\"\"\"\n",
    "\n",
    "Objective function for toy example y = x1^2 + x2^2 + x3^2 + x4^2\n",
    "\n",
    "Calculation for 1 vector or n instances (vectors) in population\n",
    "\n",
    "\"\"\"\n",
    "\n",
    "function compute_objective(input, vector=true)\n",
    "    if vector == true\n",
    "        objective = sum(input[i]^2 for i in 1:length(input))\n",
    "        output = objective\n",
    "    else\n",
    "        objectives_population = []\n",
    "        \n",
    "        for j in 1:size(input)[1]\n",
    "            food_source = input[j, :]\n",
    "            #objective = sum(food_source[i]^2 for i in 1:length(food_source))\n",
    "            objective = sum(sum(food_source[i].^2 for i in 1:length(food_source)))\n",
    "            append!(objectives_population, objective)\n",
    "        end\n",
    "        \n",
    "        output = objectives_population\n",
    "    end\n",
    "    \n",
    "    return output\n",
    "end"
   ]
  },
  {
   "cell_type": "code",
   "execution_count": 35,
   "metadata": {},
   "outputs": [
    {
     "data": {
      "text/plain": [
       "compute_objective (generic function with 2 methods)"
      ]
     },
     "execution_count": 35,
     "metadata": {},
     "output_type": "execute_result"
    }
   ],
   "source": [
    "\"\"\" Fitness function\n",
    "\n",
    "Input\n",
    "- objective values\n",
    "\n",
    "Output\n",
    "- fitness values\n",
    "\n",
    "\n",
    "\"\"\"\n",
    "\n",
    "function compute_fitness(objective_values)\n",
    "    fitness_values = []\n",
    "    \n",
    "    for i in 1:length(objective_values)\n",
    "        objective_value = objective_values[i]\n",
    "        \n",
    "        if objective_value >= 0\n",
    "            fitness = 1/(1+objective_value)\n",
    "     \n",
    "        else\n",
    "            fitness = 1+abs(objective_value)\n",
    "        end\n",
    "        \n",
    "        append!(fitness_values, fitness)\n",
    "    end\n",
    "    return fitness_values\n",
    "end\n",
    "\n"
   ]
  },
  {
   "cell_type": "code",
   "execution_count": 15,
   "metadata": {},
   "outputs": [
    {
     "data": {
      "text/plain": [
       "9-element Array{Any,1}:\n",
       " [2, -4, -3, -3]\n",
       " [0, 5, -2, -2]\n",
       " [5, 2, 1, 3]\n",
       " [-5, 3, -2, 2]\n",
       " [-4, 0, 2, 3]\n",
       " [-5, 4, 5, -3]\n",
       " [-3, -1, 5, -3]\n",
       " [3, -5, -3, 1]\n",
       " [2, 2, 4, -2]"
      ]
     },
     "execution_count": 15,
     "metadata": {},
     "output_type": "execute_result"
    }
   ],
   "source": [
    "bounds_lower = [-5,-5,-5,-5]\n",
    "bounds_upper = [5,5,5,5]\n",
    "D=4\n",
    "n=9\n",
    "population = initialize_population(D, bounds_lower, bounds_upper, n)"
   ]
  },
  {
   "cell_type": "code",
   "execution_count": 37,
   "metadata": {},
   "outputs": [
    {
     "data": {
      "text/plain": [
       "9-element Array{Any,1}:\n",
       " 38\n",
       " 33\n",
       " 39\n",
       " 42\n",
       " 29\n",
       " 75\n",
       " 44\n",
       " 44\n",
       " 28"
      ]
     },
     "execution_count": 37,
     "metadata": {},
     "output_type": "execute_result"
    }
   ],
   "source": [
    "objectives = compute_objective(population, false)"
   ]
  },
  {
   "cell_type": "code",
   "execution_count": 38,
   "metadata": {},
   "outputs": [
    {
     "data": {
      "text/plain": [
       "9-element Array{Any,1}:\n",
       " 0.02564102564102564\n",
       " 0.029411764705882353\n",
       " 0.025\n",
       " 0.023255813953488372\n",
       " 0.03333333333333333\n",
       " 0.013157894736842105\n",
       " 0.022222222222222223\n",
       " 0.022222222222222223\n",
       " 0.034482758620689655"
      ]
     },
     "execution_count": 38,
     "metadata": {},
     "output_type": "execute_result"
    }
   ],
   "source": [
    "fitness = compute_fitness(objectives)"
   ]
  },
  {
   "cell_type": "code",
   "execution_count": 34,
   "metadata": {},
   "outputs": [
    {
     "data": {
      "text/plain": [
       "38"
      ]
     },
     "execution_count": 34,
     "metadata": {},
     "output_type": "execute_result"
    }
   ],
   "source": []
  },
  {
   "cell_type": "code",
   "execution_count": 33,
   "metadata": {},
   "outputs": [
    {
     "ename": "LoadError",
     "evalue": "syntax: extra token \"(\" after end of expression",
     "output_type": "error",
     "traceback": [
      "syntax: extra token \"(\" after end of expression",
      "",
      "Stacktrace:",
      " [1] top-level scope at In[33]:1",
      " [2] include_string(::Function, ::Module, ::String, ::String) at ./loading.jl:1091"
     ]
    }
   ],
   "source": []
  },
  {
   "cell_type": "code",
   "execution_count": 6,
   "metadata": {},
   "outputs": [
    {
     "data": {
      "text/plain": [
       "5×1 Array{Float64,2}:\n",
       " 0.0\n",
       " 5.0\n",
       " 0.0\n",
       " 0.0\n",
       " 0.0"
      ]
     },
     "execution_count": 6,
     "metadata": {},
     "output_type": "execute_result"
    }
   ],
   "source": [
    "Np = 5\n",
    "limit = 4\n",
    "trials = zeros(Np, 1)\n",
    "trials[2] = 5\n",
    "trials"
   ]
  },
  {
   "cell_type": "code",
   "execution_count": 9,
   "metadata": {},
   "outputs": [
    {
     "data": {
      "text/plain": [
       "5×1 BitArray{2}:\n",
       " 0\n",
       " 1\n",
       " 0\n",
       " 0\n",
       " 0"
      ]
     },
     "execution_count": 9,
     "metadata": {},
     "output_type": "execute_result"
    }
   ],
   "source": [
    "index =trials .> limit"
   ]
  },
  {
   "cell_type": "code",
   "execution_count": null,
   "metadata": {},
   "outputs": [],
   "source": []
  }
 ],
 "metadata": {
  "kernelspec": {
   "display_name": "Julia 1.5.2",
   "language": "julia",
   "name": "julia-1.5"
  },
  "language_info": {
   "file_extension": ".jl",
   "mimetype": "application/julia",
   "name": "julia",
   "version": "1.5.2"
  }
 },
 "nbformat": 4,
 "nbformat_minor": 4
}
