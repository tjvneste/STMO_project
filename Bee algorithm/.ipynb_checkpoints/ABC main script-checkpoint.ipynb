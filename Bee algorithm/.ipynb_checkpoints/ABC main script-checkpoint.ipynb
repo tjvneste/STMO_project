{
 "cells": [
  {
   "cell_type": "code",
   "execution_count": 51,
   "metadata": {},
   "outputs": [
    {
     "data": {
      "text/plain": [
       "ArtificialBeeColonization (generic function with 1 method)"
      ]
     },
     "execution_count": 51,
     "metadata": {},
     "output_type": "execute_result"
    }
   ],
   "source": [
    "\"\"\" Artificial Bee Colony Algorithm\n",
    "\n",
    "This functions runs the Artificial Bee Colony Algorithm with as output the optimal solution of the size D.\n",
    "\n",
    "Input\n",
    "- D: number of decision variables\n",
    "- bounds_lower: lower bounds of variables \n",
    "- bounds_upper: upper bounds of variables \n",
    "- S: swarm size\n",
    "- T: number of cycles\n",
    "- limit: decides when scouts phase needs to be executed (often taken Np*D)\n",
    "\n",
    "\n",
    "\n",
    "Output\n",
    "- optimal_solution: gives a vector of the size of D with the optimal solution  \n",
    "\n",
    "\"\"\"\n",
    "\n",
    "function ArtificialBeeColonization(D, bounds_lower, bounds_upper, S, T, limit)\n",
    "    @assert D > 0 # only a positive number of decision variables\n",
    "    @assert bounds_lower <= bounds_upper # lower bounds must be lower than the upperbounds or equal\n",
    "    @assert length(bounds_lower) == length(bounds_upper) # length of the boundries must be equal\n",
    "    @assert iseven(S) # swarm size must be an even number\n",
    "    @assert S > 0 # swarm size can not be negative\n",
    "    \n",
    "    \n",
    "    Np = Int8(S/2) # number of food sources/employed bees/onlooker bees\n",
    "    \n",
    "    # initialize population\n",
    "    population = initialize_population(D, bounds_lower, bounds_upper, Np)\n",
    "    \n",
    "    # calculate objective values and fitness values for population\n",
    "    objective_values = compute_objective(population, false)\n",
    "    fitness_values = compute_fitness(objective_values)\n",
    "    \n",
    "    # initialize trial vector for population\n",
    "    trial = zeros(Np, 1)\n",
    "    best_fitness = 0\n",
    "    optimal_solution = []\n",
    "    \n",
    "    for iterations in 1:T\n",
    "    \n",
    "        ## EMPLOYED BEE PHASE\n",
    "        population, fitness_values, objective_values, trial = employed_bee_phase(population, bounds_lower, bounds_upper, trial, Np)\n",
    "    \n",
    "    \n",
    "        ## ONLOOKER BEE PHASE\n",
    "        population, fitness_values, objective_values, trial = onlooker_bee_phase(population, bounds_lower, bounds_upper, trial, Np)  \n",
    "       \n",
    "        ## SCOUTING PHASE\n",
    "        if maximum(fitness_values) > best_fitness\n",
    "            best_fitness = maximum(fitness_values)\n",
    "            ind = argmax(fitness_values)\n",
    "            optimal_solution = population[ind]\n",
    "            \n",
    "        end\n",
    "            \n",
    "        population, fitness_values, objective_values, trial = Scouting(population, bounds_lower, bounds_upper, trial, fitness_values, objective_values, limit)\n",
    "        \n",
    "        if maximum(fitness_values) > best_fitness\n",
    "            best_fitness = maximum(fitness_values)\n",
    "            ind = argmax(fitness_values)\n",
    "            optimal_solution = population[ind]\n",
    "            \n",
    "        end\n",
    "    \n",
    "    end\n",
    "\n",
    "    return optimal_solution\n",
    "end\n"
   ]
  },
  {
   "cell_type": "code",
   "execution_count": 52,
   "metadata": {},
   "outputs": [],
   "source": [
    "S = 24\n",
    "T = 50\n",
    "D = 4\n",
    "limit = D * (S/2)\n",
    "bounds_lower = [-100,-100, -100,-100];\n",
    "bounds_upper = [100,100, 100,100];\n",
    "\n",
    "# in soucr code\n",
    "# uitleg van artificial bee colonization in notebook\n",
    "#test: ackley/rosenbrock (moeilijkere, niet enkel simpel convex)\n",
    "# visualizatie van swarm\n",
    "# vgl met optimize optim package op standaard functies: vgl in tijd in accuraat\n",
    "# test functies:\n",
    "# test initialize populatie: kijk of bounds gerespecteerd - stel je verandert lower en upper bounds --> detecteer!\n",
    "# test : fitness waarde op het einde mag niet slechter zijn dan in het begin!"
   ]
  },
  {
   "cell_type": "code",
   "execution_count": 58,
   "metadata": {},
   "outputs": [
    {
     "data": {
      "text/plain": [
       "4-element Array{Float64,1}:\n",
       " -5.018774615892017e-5\n",
       " -0.01137816355435727\n",
       "  0.0009937518498481191\n",
       "  0.005137635364678318"
      ]
     },
     "execution_count": 58,
     "metadata": {},
     "output_type": "execute_result"
    }
   ],
   "source": [
    "ArtificialBeeColonization(D,bounds_lower, bounds_upper,S, T, limit)"
   ]
  },
  {
   "cell_type": "code",
   "execution_count": 10,
   "metadata": {},
   "outputs": [
    {
     "data": {
      "text/plain": [
       "initialize_population (generic function with 1 method)"
      ]
     },
     "execution_count": 10,
     "metadata": {},
     "output_type": "execute_result"
    }
   ],
   "source": [
    "\"\"\" Initialize population\n",
    "\n",
    "This function generates Np random solutions (food sources) within the domain \n",
    "of the variables to form an initial population for the ABC algorithm.\n",
    "\n",
    "Input\n",
    "- D: number of decision variables\n",
    "- bounds_lower: lower bounds of variables \n",
    "- bounds_upper: upper bounds of variables \n",
    "- Np: number of food sources/employed bees/onlooker bees\n",
    "\n",
    "Output \n",
    "- population: a random solution of the size D\n",
    "\"\"\"\n",
    "\n",
    "function initialize_population(D, bounds_lower, bounds_upper, Np)\n",
    "    population = []   \n",
    "    for i in 1:Np\n",
    "        food_source = collect(rand(bounds_lower[i]:bounds_upper[i]) for i in 1:D)\n",
    "        append!(population, [food_source])\n",
    "    end\n",
    "        \n",
    "    return population\n",
    "end\t\n",
    "\n",
    "\n"
   ]
  },
  {
   "cell_type": "code",
   "execution_count": 9,
   "metadata": {},
   "outputs": [
    {
     "data": {
      "text/plain": [
       "compute_objective (generic function with 2 methods)"
      ]
     },
     "execution_count": 9,
     "metadata": {},
     "output_type": "execute_result"
    }
   ],
   "source": [
    "\"\"\"Objective function\n",
    "\n",
    "Objective function for toy example y = x1^2 + x2^2 + x3^2 + x4^2\n",
    "\n",
    "Calculation for 1 vector or n instances (vectors) in population.\n",
    "\n",
    "\"\"\"\n",
    "\n",
    "function compute_objective(input, vector=true)\n",
    "    if vector == true\n",
    "        objective = sum(input[i]^2 for i in 1:length(input))\n",
    "        output = objective\n",
    "    else\n",
    "        objectives_population = []\n",
    "        \n",
    "        for j in 1:size(input)[1]\n",
    "            food_source = input[j, :]\n",
    "            objective = sum(sum(food_source[i].^2 for i in 1:length(food_source)))\n",
    "            append!(objectives_population, objective)\n",
    "        end\n",
    "        \n",
    "        output = objectives_population\n",
    "    end\n",
    "    \n",
    "    return output\n",
    "end"
   ]
  },
  {
   "cell_type": "code",
   "execution_count": 8,
   "metadata": {},
   "outputs": [
    {
     "data": {
      "text/plain": [
       "compute_fitness (generic function with 1 method)"
      ]
     },
     "execution_count": 8,
     "metadata": {},
     "output_type": "execute_result"
    }
   ],
   "source": [
    "\"\"\" Fitness function\n",
    "\n",
    "This functions calculates the fitness of a population.\n",
    "The fitness is calculated as 1/(1+objective_values).\n",
    "The bigger the objective values the smaller the fitness values.\n",
    "\n",
    "Input\n",
    "- objective values\n",
    "\n",
    "Output\n",
    "- fitness values\n",
    "\n",
    "\n",
    "\"\"\"\n",
    "\n",
    "function compute_fitness(objective_values)\n",
    "    fitness_values = []\n",
    "    \n",
    "    for i in 1:length(objective_values)\n",
    "        objective_value = objective_values[i]\n",
    "        \n",
    "        if objective_value >= 0\n",
    "            fitness = 1/(1+objective_value)\n",
    "     \n",
    "        else\n",
    "            fitness = 1+abs(objective_value)\n",
    "        end\n",
    "        \n",
    "        append!(fitness_values, fitness)\n",
    "    end\n",
    "    return fitness_values\n",
    "end\t\n",
    "\n"
   ]
  },
  {
   "cell_type": "code",
   "execution_count": 46,
   "metadata": {},
   "outputs": [
    {
     "data": {
      "text/plain": [
       "employed_bee_phase (generic function with 1 method)"
      ]
     },
     "execution_count": 46,
     "metadata": {},
     "output_type": "execute_result"
    }
   ],
   "source": [
    "\"\"\" Employed bee phase function\n",
    "This functions employs the employed bee phase. \n",
    "\n",
    "Input\n",
    "- population: population of solutions \n",
    "- bounds_lower: lower bounds of variables \n",
    "- bounds_upper: upper bounds of variables \n",
    "- trial: current trial of solutions\n",
    "- Np: number of food sources/employed bees/onlooker bees\n",
    "\n",
    "Output\n",
    "- population_new_evolved: new population values\n",
    "- fitness_new_evolved: new fitness values\n",
    "- objective_new_evolved: new objective values\n",
    "- trial: updated trials of solutions in population\n",
    "    When original solution has failed to generate better solution, trial counter is increased by 1 unit\n",
    "    When better solution has been found, the trial counter for this new solution is set to zero\n",
    "\n",
    "\"\"\"\n",
    "\n",
    "function employed_bee_phase(population, bounds_lower, bounds_upper, trial, Np)\n",
    "    population_new = []\n",
    "    \n",
    "    # create new food sources\n",
    "    for i in 1:Np\n",
    "        solution = population[i, :][1]\n",
    "        solution_new = solution\n",
    "        while solution_new == solution\n",
    "            solution_new = create_newsolution(solution, population, bounds_lower, bounds_upper)\n",
    "        end\n",
    "        solution_new = create_newsolution(solution, population, bounds_lower, bounds_upper)\n",
    "        append!(population_new, [solution_new])\n",
    "    end\n",
    "    \n",
    "    # evaluate fitness old and new population\n",
    "    objective_values_old = compute_objective(population, false)\n",
    "    fitness_old = compute_fitness(objective_values_old)\n",
    "    objective_values_new = compute_objective(population_new, false)\n",
    "    fitness_new = compute_fitness(objective_values_new)\n",
    "\n",
    "    # perform greedy selection\n",
    "    population_new_evolved = []\n",
    "    fitness_new_evolved = []\n",
    "    objective_new_evolved = []\n",
    "    \n",
    "    for j in 1:Np\n",
    "        if fitness_new[j] > fitness_old[j]\n",
    "            append!(population_new_evolved, [population_new[j]])\n",
    "            append!(fitness_new_evolved, fitness_new[j])\n",
    "            append!(objective_new_evolved, objective_values_new[j])\n",
    "            trial[j] = 0\n",
    "        else \n",
    "            append!(population_new_evolved, [population[j]]) \n",
    "            append!(fitness_new_evolved, fitness_old[j])\n",
    "            append!(objective_new_evolved, objective_values_old[j])\n",
    "            trial[j] += 1\n",
    "        end\n",
    "    end\n",
    "    \n",
    "    return population_new_evolved, fitness_new_evolved, objective_new_evolved, trial\n",
    "end\n",
    "\n"
   ]
  },
  {
   "cell_type": "code",
   "execution_count": 47,
   "metadata": {},
   "outputs": [
    {
     "data": {
      "text/plain": [
       "foodsource_info_prob (generic function with 1 method)"
      ]
     },
     "execution_count": 47,
     "metadata": {},
     "output_type": "execute_result"
    }
   ],
   "source": [
    "\"\"\" Food source information (measured in probabilities)\n",
    "This function measures the food source information in probabilities. \n",
    "The food source information is calculated as following: 0.9*(fitness_value/maximum(fitness_values)) + 0.1\n",
    "\n",
    "Input\n",
    "- fitness_values: fitness values\n",
    "\n",
    "Output\n",
    "- probabilities: probabilities of the food source information \n",
    "\n",
    "\n",
    "\"\"\"\n",
    "\n",
    "function foodsource_info_prob(fitness_values)\n",
    "    probabilities = []\n",
    "    \n",
    "    for i in 1:length(fitness_values)\n",
    "        fitness_value = fitness_values[i] \n",
    "        probability = 0.9*(fitness_value/maximum(fitness_values)) + 0.1\n",
    "        append!(probabilities, probability)\n",
    "    end\n",
    "    \n",
    "    return probabilities\n",
    "end\t\n",
    "\n"
   ]
  },
  {
   "cell_type": "code",
   "execution_count": 48,
   "metadata": {},
   "outputs": [
    {
     "data": {
      "text/plain": [
       "onlooker_bee_phase (generic function with 1 method)"
      ]
     },
     "execution_count": 48,
     "metadata": {},
     "output_type": "execute_result"
    }
   ],
   "source": [
    "\"\"\" Onlooker bee phase function\n",
    "This function employs the onlooker bee phase. \n",
    "\n",
    "Input\n",
    "- population: population of solutions \n",
    "- bounds_lower: lower bounds of variables \n",
    "- bounds_upper: upper bounds of variables \n",
    "- trial: current trial of solutions\n",
    "- Np: number of food sources/employed bees/onlooker bees\n",
    "\n",
    "Output\n",
    "- population: new population values\n",
    "- fitness_new_evolved: new fitness values\n",
    "- objective_new_evolved: new objective values\n",
    "- trial: updated trials of solutions in population\n",
    "    When original solution has failed to generate better solution, trial counter is increased by 1 unit\n",
    "    When better solution has been found, the trial counter for this new solution is set to zero\n",
    "\n",
    "\"\"\"\n",
    "\n",
    "function onlooker_bee_phase(population, bounds_lower, bounds_upper, trial, Np)\n",
    "    m = 0 # onlooker bee\n",
    "    n = 1 # food source\n",
    "    \n",
    "    objective_values = compute_objective(population,false)\n",
    "    fitness = compute_fitness(objective_values)\n",
    "    # first calculate the probability values\n",
    "    proba = foodsource_info_prob(fitness)\n",
    "    \n",
    "    while m <= Np # we want for every onlooker bee a new solution\n",
    "        r = rand()\n",
    "        if r <= proba[n]\n",
    "            solution = population[n, :][1] # solution n\n",
    "            \n",
    "            objective_values_old = compute_objective(solution)\n",
    "            fitness_old = compute_fitness(objective_values_old)\n",
    "            \n",
    "            solution_new = solution\n",
    "            while solution_new == solution\n",
    "                solution_new = create_newsolution(solution, population, bounds_lower, bounds_upper)\n",
    "            end\n",
    "            \n",
    "            objective_values_new = compute_objective(solution_new)\n",
    "            fitness_new = compute_fitness(objective_values_new)\n",
    "            \n",
    "            if fitness_new > fitness_old # if this get accepted \n",
    "                population[n, :] = [solution_new]\n",
    "                trial[n]=0\n",
    "            else \n",
    "                trial[n] += 1\n",
    "            end\n",
    "            m = m + 1\n",
    "        end\n",
    "        # if the rand < proba is not sattisfied\n",
    "        n = n +1\n",
    "        if n > Np \n",
    "            n = 1\n",
    "        end\n",
    "    end\n",
    "    objective_new_evolved = compute_objective(population,false)\n",
    "    fitness_new_evolved = compute_fitness(objective_new_evolved)\n",
    "    \n",
    "    return population, fitness_new_evolved, objective_new_evolved, trial\n",
    "end\t\n",
    "\n",
    "\n"
   ]
  },
  {
   "cell_type": "code",
   "execution_count": 49,
   "metadata": {},
   "outputs": [
    {
     "data": {
      "text/plain": [
       "Scouting (generic function with 1 method)"
      ]
     },
     "execution_count": 49,
     "metadata": {},
     "output_type": "execute_result"
    }
   ],
   "source": [
    "\"\"\" Scouting function\n",
    "This function employs the scouting phase. \n",
    "\n",
    "Input\n",
    "- population : population of solutions \n",
    "- bounds_lower: lower bounds of variables \n",
    "- bounds_upper: upper bounds of variables \n",
    "- trials: current trial of solutions\n",
    "- fitness: fitness values\n",
    "- objective: objective values\n",
    "- limit: limit value\n",
    "\n",
    "Output \n",
    "- population: new population values\n",
    "- fitness: new fitness values\n",
    "- objective: new objective values\n",
    "- trials: updated trials of solutions in population\n",
    "    When original solution has failed to generate better solution, trial counter is increased by 1 unit\n",
    "    When better solution has been found, the trial counter for this new solution is set to zero\n",
    "\n",
    "\n",
    "\"\"\"\n",
    "\n",
    "function Scouting(population, bounds_lower, bounds_upper, trials, fitness, objective, limit)\n",
    "        \n",
    "        # check whether the trial vector exceed the limit value and importantly where\n",
    "        index_exceed = trials .> limit\n",
    "    \n",
    "        if sum(index_exceed) >= 1 # there is minimal one case where we exceed the limit\n",
    "            if sum(maximum(trials) .== trials) > 1 # multiple cases have the same maximum so chose randomly\n",
    "                possible_scoutings = findall(trials .== maximum(trials))\n",
    "                idx = rand(1:size(possible_scoutings)[1])\n",
    "                global scouting_array = possible_scoutings[idx]\n",
    "            else # only one array has a maximum => chose this one \n",
    "            \n",
    "                global scouting_array = argmax(trials)\n",
    "            end\n",
    "            pop = population[scouting_array]\n",
    "            fit = fitness[scouting_array]\n",
    "            obj = objective[scouting_array]\n",
    "            trail = trials[scouting_array]\n",
    "        \n",
    "            #creating random population\n",
    "            sol_new = bounds_lower + (bounds_upper-bounds_lower) .* rand(D) # -5 *(10*rand)\n",
    "            new_obj = compute_objective(sol_new,true)\n",
    "            new_fit = compute_fitness(new_obj)\n",
    "        \n",
    "            # replacing the new population\n",
    "            population[scouting_array] = sol_new\n",
    "            fitness[scouting_array] = new_fit[1]\n",
    "            objective[scouting_array] = new_obj\n",
    "            trials[scouting_array] = 0\n",
    "        \n",
    "        end\n",
    "        return population, fitness, objective, trials  \n",
    "\n",
    "\n",
    "end\n",
    "\n",
    "\n"
   ]
  },
  {
   "cell_type": "code",
   "execution_count": 50,
   "metadata": {},
   "outputs": [
    {
     "data": {
      "text/plain": [
       "create_newsolution (generic function with 1 method)"
      ]
     },
     "execution_count": 50,
     "metadata": {},
     "output_type": "execute_result"
    }
   ],
   "source": [
    "\"\"\" Creating a new solution\n",
    "Creates new solution by changing one variable using partner solution.\n",
    "\n",
    "Input\n",
    "- solutions: current solution \n",
    "- population : population of solutions \n",
    "- bounds_lower: lower bounds of variables \n",
    "- bounds_upper: upper bounds of variables \n",
    "\n",
    "Output\n",
    "- solution_new: new solution with one variable changed using the partner solutions\n",
    "\n",
    "\n",
    "\"\"\"\n",
    "\n",
    "function create_newsolution(solution, population, bounds_lower, bounds_upper)\n",
    "        # select random variable to change       \n",
    "        randomvar1_index = rand(1:length(solution), 1)\n",
    "\n",
    "        # select partner solution to generate new solution        \n",
    "        randompartner_index = rand(1:size(population)[1], 1)\n",
    "\n",
    "        # select random variable in partner solution to exchange with\n",
    "\n",
    "        randompartner = population[randompartner_index, :][1]\n",
    "        randomvar2_index = rand(1:length(randompartner), 1)\n",
    "\n",
    "        # create new food location\n",
    "        phi = rand()*2-1 #random number between -1 and 1     \n",
    "        global solution_new = float(deepcopy(solution))\n",
    "        a = solution[randomvar1_index] \n",
    "        b = randompartner[randomvar2_index]\n",
    "        solution_new[randomvar1_index] = a + phi*(a - b)\n",
    "\n",
    "        # check if lower bound is violated\n",
    "        if solution_new[randomvar1_index] < bounds_lower[randomvar1_index] \n",
    "            solution_new[randomvar1_index] = bounds_lower[randomvar1_index]\n",
    "        end\n",
    "\n",
    "        # check if upper bound is violated\n",
    "        if solution_new[randomvar1_index] > bounds_upper[randomvar1_index]\n",
    "            solution_new[randomvar1_index] = bounds_upper[randomvar1_index]\n",
    "        end\n",
    "    return solution_new\n",
    "end\n",
    "\n"
   ]
  },
  {
   "cell_type": "code",
   "execution_count": 7,
   "metadata": {},
   "outputs": [],
   "source": [
    "function initialize_population(D, bounds_lower, bounds_upper, n)\n",
    "    population = []   \n",
    "    for i in 1:n\n",
    "        food_source = collect(rand(bounds_lower[i]:bounds_upper[i]) for i in 1:D)\n",
    "        append!(population, [food_source])\n",
    "    end\n",
    "        \n",
    "    return population\n",
    "end\t\n",
    "bounds_lower = [-5,-5,-5,-5]\n",
    "bounds_upper = [5,5,5,5]\n",
    "D=4\n",
    "n=9\n",
    "population = initialize_population(D, bounds_lower, bounds_upper, n);"
   ]
  },
  {
   "cell_type": "code",
   "execution_count": 38,
   "metadata": {},
   "outputs": [
    {
     "data": {
      "text/plain": [
       "9-element Array{Any,1}:\n",
       " [-1, 1, -5, -1]\n",
       " [0, 2, 5, -2]\n",
       " [5, -2, 3, -2]\n",
       " [0, 0, 3, -5]\n",
       " [2, -5, 1, 3]\n",
       " [4, 3, -4, 5]\n",
       " [3, -5, 2, 5]\n",
       " [2, 4, 4, 2]\n",
       " [3, 1, -3, -1]"
      ]
     },
     "execution_count": 38,
     "metadata": {},
     "output_type": "execute_result"
    }
   ],
   "source": [
    "population"
   ]
  },
  {
   "cell_type": "code",
   "execution_count": 43,
   "metadata": {},
   "outputs": [],
   "source": [
    "solution = [4 0 1 4]\n",
    "new_solution = solution\n",
    "bounds_lower = [0,0,0,0]\n",
    "bounds_upper = [5,5,5,5]\n",
    "while new_solution == solution\n",
    "    new_solution = create_newsolution(solution, population, bounds_lower, bounds_upper)\n",
    "end\n"
   ]
  },
  {
   "cell_type": "code",
   "execution_count": 44,
   "metadata": {},
   "outputs": [
    {
     "data": {
      "text/plain": [
       "1×4 Array{Float64,2}:\n",
       " 5.0  0.0  1.0  4.0"
      ]
     },
     "execution_count": 44,
     "metadata": {},
     "output_type": "execute_result"
    }
   ],
   "source": [
    "new_solution"
   ]
  },
  {
   "cell_type": "code",
   "execution_count": 27,
   "metadata": {},
   "outputs": [
    {
     "data": {
      "text/plain": [
       "Any[]"
      ]
     },
     "execution_count": 27,
     "metadata": {},
     "output_type": "execute_result"
    }
   ],
   "source": [
    "new_solution"
   ]
  },
  {
   "cell_type": "code",
   "execution_count": null,
   "metadata": {},
   "outputs": [],
   "source": []
  }
 ],
 "metadata": {
  "kernelspec": {
   "display_name": "Julia 1.5.2",
   "language": "julia",
   "name": "julia-1.5"
  },
  "language_info": {
   "file_extension": ".jl",
   "mimetype": "application/julia",
   "name": "julia",
   "version": "1.5.2"
  }
 },
 "nbformat": 4,
 "nbformat_minor": 4
}
