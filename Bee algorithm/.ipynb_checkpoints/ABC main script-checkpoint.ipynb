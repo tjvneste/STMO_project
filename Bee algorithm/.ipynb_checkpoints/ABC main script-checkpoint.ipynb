{
 "cells": [
  {
   "cell_type": "code",
   "execution_count": 575,
   "metadata": {},
   "outputs": [
    {
     "data": {
      "text/plain": [
       "ArtificialBeeColonization (generic function with 1 method)"
      ]
     },
     "execution_count": 575,
     "metadata": {},
     "output_type": "execute_result"
    }
   ],
   "source": [
    "\"\"\" Artificial Bee Colony Algorithm\n",
    "\n",
    "This functions runs the Artificial Bee Colony Algorithm with as output the optimal solution of the size D.\n",
    "\n",
    "Input\n",
    "- D: number of decision variables\n",
    "- bounds_lower: lower bounds of variables \n",
    "- bounds_upper: upper bounds of variables \n",
    "- S: swarm size\n",
    "- T: number of cycles\n",
    "- limit: decides when scouts phase needs to be executed (often taken Np*D)\n",
    "- f: the function that you want to use for computing objective values\n",
    "\n",
    "\n",
    "\n",
    "Output\n",
    "- optimal_solution: gives a vector of the size of D with the optimal solution  \n",
    "\n",
    "\"\"\"\n",
    "\n",
    "function ArtificialBeeColonization(D, bounds_lower, bounds_upper, S, T, limit, f::Function)\n",
    "    @assert D > 0 # only a positive number of decision variables\n",
    "    @assert bounds_lower <= bounds_upper # lower bounds must be lower than the upperbounds or equal\n",
    "    @assert length(bounds_lower) == length(bounds_upper) == D  # length of the boundries must be equal to the number of decision variables\n",
    "    @assert iseven(S) # swarm size must be an even number\n",
    "    @assert S > 0 # swarm size can not be negative\n",
    "    @assert T > 0 # number of cylces must be postive\n",
    " \n",
    "    \n",
    "    Np = Int8(S/2) # number of food sources/employed bees/onlooker bees\n",
    "    \n",
    "    # initialize population\n",
    "    population = initialize_population(D, bounds_lower, bounds_upper, Np)\n",
    "    \n",
    "    # calculate objective values and fitness values for population\n",
    "    objective_values = compute_objective(population, f)\n",
    "    fitness_values = compute_fitness(objective_values)\n",
    "    \n",
    "    # initialize trial vector for population\n",
    "    trial = zeros(Np, 1)\n",
    "    best_fitness = 0\n",
    "    optimal_solution = []\n",
    "    \n",
    "    for iterations in 1:T\n",
    "    \n",
    "        ## EMPLOYED BEE PHASE\n",
    "        population, fitness_values, objective_values, trial = employed_bee_phase(population, bounds_lower, bounds_upper, trial, Np, f::Function)\n",
    "    \n",
    "    \n",
    "        ## ONLOOKER BEE PHASE\n",
    "        population, fitness_values, objective_values, trial = onlooker_bee_phase(population, bounds_lower, bounds_upper, trial, Np, f::Function)  \n",
    "       \n",
    "        ## SCOUTING PHASE\n",
    "        if maximum(fitness_values) > best_fitness\n",
    "            best_fitness = maximum(fitness_values)\n",
    "            ind = argmax(fitness_values)\n",
    "            optimal_solution = population[ind]\n",
    "            \n",
    "        end\n",
    "            \n",
    "        population, fitness_values, objective_values, trial = Scouting(population, bounds_lower, bounds_upper, trial, fitness_values, objective_values, limit, f::Function)\n",
    "        \n",
    "        if maximum(fitness_values) > best_fitness\n",
    "            best_fitness = maximum(fitness_values)\n",
    "            ind = argmax(fitness_values)\n",
    "            optimal_solution = population[ind]\n",
    "            \n",
    "        end\n",
    "    \n",
    "    end\n",
    "\n",
    "    return optimal_solution\n",
    "end\n"
   ]
  },
  {
   "cell_type": "code",
   "execution_count": 576,
   "metadata": {},
   "outputs": [
    {
     "data": {
      "text/plain": [
       "50"
      ]
     },
     "execution_count": 576,
     "metadata": {},
     "output_type": "execute_result"
    }
   ],
   "source": [
    "S = 24\n",
    "D = 4\n",
    "bounds_lower = [-100,-100, -100,-100];\n",
    "bounds_upper = [100,100, 100,100];\n",
    "limit = D * (S/2)\n",
    "T= 50\n"
   ]
  },
  {
   "cell_type": "code",
   "execution_count": 577,
   "metadata": {},
   "outputs": [
    {
     "data": {
      "text/plain": [
       "4-element Array{Float64,1}:\n",
       " -0.004010370198475933\n",
       "  0.0015061710650479546\n",
       "  0.007082745590332461\n",
       "  0.0036157369969597973"
      ]
     },
     "execution_count": 577,
     "metadata": {},
     "output_type": "execute_result"
    }
   ],
   "source": [
    "ArtificialBeeColonization(D, bounds_lower, bounds_upper, S, T, limit, sphere)"
   ]
  },
  {
   "cell_type": "code",
   "execution_count": 515,
   "metadata": {},
   "outputs": [
    {
     "data": {
      "text/plain": [
       "initialize_population (generic function with 1 method)"
      ]
     },
     "execution_count": 515,
     "metadata": {},
     "output_type": "execute_result"
    }
   ],
   "source": [
    "\"\"\" Initialize population\n",
    "\n",
    "This function generates Np random solutions (food sources) within the domain \n",
    "of the variables to form an initial population for the ABC algorithm.\n",
    "\n",
    "Input\n",
    "- D: number of decision variables\n",
    "- bounds_lower: lower bounds of variables \n",
    "- bounds_upper: upper bounds of variables \n",
    "- Np: number of food sources/employed bees/onlooker bees\n",
    "\n",
    "Output \n",
    "- population: a random solution of the size D\n",
    "\"\"\"\n",
    "\n",
    "function initialize_population(D, bounds_lower, bounds_upper, Np)\n",
    "    population = []   \n",
    "    for i in 1:Np\n",
    "        food_source = collect(rand(bounds_lower[i]:bounds_upper[i]) for i in 1:D)\n",
    "        append!(population, [food_source])\n",
    "    end\n",
    "        \n",
    "    return population\n",
    "end\t\n",
    "\n",
    "\n"
   ]
  },
  {
   "cell_type": "code",
   "execution_count": 516,
   "metadata": {},
   "outputs": [
    {
     "data": {
      "text/plain": [
       "compute_objective"
      ]
     },
     "execution_count": 516,
     "metadata": {},
     "output_type": "execute_result"
    }
   ],
   "source": [
    "\"\"\"Objective function\n",
    "\n",
    "Calculates the objective values for a certain function \n",
    "Calculation for 1 vector or n instances (vectors) in population.\n",
    "\n",
    "Input\n",
    "- input: input values\n",
    "- f: the function that you want to use for computing objective values\n",
    "\n",
    "\"\"\"\n",
    "function compute_objective(input, f::Function)\n",
    "    if length(input)==1\n",
    "        objective = f(sum(input))\n",
    "        output = objective\n",
    "    else\n",
    "        objectives_population = []\n",
    "        \n",
    "        for j in 1:length(input)\n",
    "            food_source = input[j]\n",
    "            objective = f(food_source)\n",
    "            append!(objectives_population, objective)\n",
    "        end\n",
    "        \n",
    "        output = objectives_population\n",
    "    end\n",
    "    \n",
    "    return output\n",
    "end"
   ]
  },
  {
   "cell_type": "code",
   "execution_count": 19,
   "metadata": {},
   "outputs": [
    {
     "data": {
      "text/plain": [
       "compute_fitness (generic function with 1 method)"
      ]
     },
     "execution_count": 19,
     "metadata": {},
     "output_type": "execute_result"
    }
   ],
   "source": [
    "\"\"\" Fitness function\n",
    "\n",
    "This functions calculates the fitness of a population.\n",
    "The fitness is calculated as 1/(1+objective_values).\n",
    "The bigger the objective values the smaller the fitness values.\n",
    "\n",
    "Input\n",
    "- objective values\n",
    "\n",
    "Output\n",
    "- fitness values\n",
    "\n",
    "\n",
    "\"\"\"\n",
    "\n",
    "function compute_fitness(objective_values)\n",
    "    fitness_values = []\n",
    "    \n",
    "    for i in 1:length(objective_values)\n",
    "        objective_value = objective_values[i]\n",
    "        \n",
    "        if objective_value >= 0\n",
    "            fitness = 1/(1+objective_value)\n",
    "     \n",
    "        else\n",
    "            fitness = 1+abs(objective_value)\n",
    "        end\n",
    "        \n",
    "        append!(fitness_values, fitness)\n",
    "    end\n",
    "    return fitness_values\n",
    "end\t\n",
    "\n"
   ]
  },
  {
   "cell_type": "code",
   "execution_count": 20,
   "metadata": {},
   "outputs": [
    {
     "data": {
      "text/plain": [
       "employed_bee_phase (generic function with 2 methods)"
      ]
     },
     "execution_count": 20,
     "metadata": {},
     "output_type": "execute_result"
    }
   ],
   "source": [
    "\"\"\" Employed bee phase function\n",
    "This functions employs the employed bee phase. \n",
    "\n",
    "Input\n",
    "- population: population of solutions \n",
    "- bounds_lower: lower bounds of variables \n",
    "- bounds_upper: upper bounds of variables \n",
    "- trial: current trial of solutions\n",
    "- Np: number of food sources/employed bees/onlooker bees\n",
    "- f: the function that you want to use for computing objective values\n",
    "\n",
    "Output\n",
    "- population_new_evolved: new population values\n",
    "- fitness_new_evolved: new fitness values\n",
    "- objective_new_evolved: new objective values\n",
    "- trial: updated trials of solutions in population\n",
    "    When original solution has failed to generate better solution, trial counter is increased by 1 unit\n",
    "    When better solution has been found, the trial counter for this new solution is set to zero\n",
    "\n",
    "\"\"\"\n",
    "\n",
    "function employed_bee_phase(population, bounds_lower, bounds_upper, trial, Np, f::Function)\n",
    "    population_new = []\n",
    "    \n",
    "    # create new food sources\n",
    "    for i in 1:Np\n",
    "        solution = population[i, :][1]\n",
    "        solution_new = solution\n",
    "        while solution_new == solution\n",
    "            solution_new = create_newsolution(solution, population, bounds_lower, bounds_upper)\n",
    "        end\n",
    "        append!(population_new, [solution_new])\n",
    "    end\n",
    "    \n",
    "    # evaluate fitness old and new population\n",
    "    objective_values_old = compute_objective(population, f)\n",
    "    fitness_old = compute_fitness(objective_values_old)\n",
    "    objective_values_new = compute_objective(population_new, f)\n",
    "    fitness_new = compute_fitness(objective_values_new)\n",
    "\n",
    "    # perform greedy selection\n",
    "    population_new_evolved = []\n",
    "    fitness_new_evolved = []\n",
    "    objective_new_evolved = []\n",
    "    \n",
    "    for j in 1:Np\n",
    "        if fitness_new[j] > fitness_old[j]\n",
    "            append!(population_new_evolved, [population_new[j]])\n",
    "            append!(fitness_new_evolved, fitness_new[j])\n",
    "            append!(objective_new_evolved, objective_values_new[j])\n",
    "            trial[j] = 0\n",
    "        else \n",
    "            append!(population_new_evolved, [population[j]]) \n",
    "            append!(fitness_new_evolved, fitness_old[j])\n",
    "            append!(objective_new_evolved, objective_values_old[j])\n",
    "            trial[j] += 1\n",
    "        end\n",
    "    end\n",
    "    \n",
    "    return population_new_evolved, fitness_new_evolved, objective_new_evolved, trial\n",
    "end\n",
    "\n"
   ]
  },
  {
   "cell_type": "code",
   "execution_count": 21,
   "metadata": {},
   "outputs": [
    {
     "data": {
      "text/plain": [
       "foodsource_info_prob (generic function with 1 method)"
      ]
     },
     "execution_count": 21,
     "metadata": {},
     "output_type": "execute_result"
    }
   ],
   "source": [
    "\"\"\" Food source information (measured in probabilities)\n",
    "This function measures the food source information in probabilities. \n",
    "The food source information is calculated as following: 0.9*(fitness_value/maximum(fitness_values)) + 0.1\n",
    "\n",
    "Input\n",
    "- fitness_values: fitness values\n",
    "\n",
    "Output\n",
    "- probabilities: probabilities of the food source information \n",
    "\n",
    "\n",
    "\"\"\"\n",
    "\n",
    "function foodsource_info_prob(fitness_values)\n",
    "    probabilities = []\n",
    "    \n",
    "    for i in 1:length(fitness_values)\n",
    "        fitness_value = fitness_values[i] \n",
    "        probability = 0.9*(fitness_value/maximum(fitness_values)) + 0.1\n",
    "        append!(probabilities, probability)\n",
    "    end\n",
    "    \n",
    "    return probabilities\n",
    "end\t\n",
    "\n"
   ]
  },
  {
   "cell_type": "code",
   "execution_count": 546,
   "metadata": {},
   "outputs": [
    {
     "data": {
      "text/plain": [
       "onlooker_bee_phase (generic function with 2 methods)"
      ]
     },
     "execution_count": 546,
     "metadata": {},
     "output_type": "execute_result"
    }
   ],
   "source": [
    "\"\"\" Onlooker bee phase function\n",
    "This function employs the onlooker bee phase. \n",
    "\n",
    "Input\n",
    "- population: population of solutions \n",
    "- bounds_lower: lower bounds of variables \n",
    "- bounds_upper: upper bounds of variables \n",
    "- trial: current trial of solutions\n",
    "- Np: number of food sources/employed bees/onlooker bees\n",
    "- f: the function that you want to use for computing objective values\n",
    "\n",
    "Output\n",
    "- population: new population values\n",
    "- fitness_new_evolved: new fitness values\n",
    "- objective_new_evolved: new objective values\n",
    "- trial: updated trials of solutions in population\n",
    "    When original solution has failed to generate better solution, trial counter is increased by 1 unit\n",
    "    When better solution has been found, the trial counter for this new solution is set to zero\n",
    "\n",
    "\"\"\"\n",
    "\n",
    "function onlooker_bee_phase(population, bounds_lower, bounds_upper, trial, Np, f::Function)\n",
    "    m = 0 # onlooker bee\n",
    "    n = 1 # food source\n",
    "    \n",
    "    objective_values = compute_objective(population,f)\n",
    "    fitness = compute_fitness(objective_values)\n",
    "    # first calculate the probability values\n",
    "    proba = foodsource_info_prob(fitness)\n",
    "    \n",
    "    while m <= Np # we want for every onlooker bee a new solution\n",
    "        r = rand()\n",
    "        if r <= proba[n]\n",
    "            solution = population[n, :][1] # solution n\n",
    "            objective_values_old = compute_objective([solution], f)\n",
    "            fitness_old = compute_fitness(objective_values_old)\n",
    "            \n",
    "            solution_new = solution\n",
    "            while solution_new == solution\n",
    "                solution_new = create_newsolution(solution, population, bounds_lower, bounds_upper)\n",
    "            end\n",
    "    \n",
    "            objective_values_new = compute_objective([solution_new], f)\n",
    "            fitness_new = compute_fitness(objective_values_new)\n",
    "            \n",
    "            if fitness_new > fitness_old # if this get accepted \n",
    "                population[n, :] = [solution_new]\n",
    "                trial[n]=0\n",
    "            else \n",
    "                trial[n] += 1\n",
    "            end\n",
    "            m = m + 1\n",
    "        end\n",
    "        # if the rand < proba is not sattisfied\n",
    "        n = n +1\n",
    "        if n > Np \n",
    "            n = 1\n",
    "        end\n",
    "    end\n",
    "    objective_new_evolved = compute_objective(population,f)\n",
    "    fitness_new_evolved = compute_fitness(objective_new_evolved)\n",
    "    \n",
    "    return population, fitness_new_evolved, objective_new_evolved, trial\n",
    "end\t\n",
    "\n",
    "\n"
   ]
  },
  {
   "cell_type": "code",
   "execution_count": 574,
   "metadata": {},
   "outputs": [
    {
     "data": {
      "text/plain": [
       "Scouting (generic function with 2 methods)"
      ]
     },
     "execution_count": 574,
     "metadata": {},
     "output_type": "execute_result"
    }
   ],
   "source": [
    "\"\"\" Scouting function\n",
    "This function employs the scouting phase. \n",
    "\n",
    "Input\n",
    "- population : population of solutions \n",
    "- bounds_lower: lower bounds of variables \n",
    "- bounds_upper: upper bounds of variables \n",
    "- trials: current trial of solutions\n",
    "- fitness: fitness values\n",
    "- objective: objective values\n",
    "- limit: limit value\n",
    "- f: the function that you want to use for computing objective values\n",
    "\n",
    "Output \n",
    "- population: new population values\n",
    "- fitness: new fitness values\n",
    "- objective: new objective values\n",
    "- trials: updated trials of solutions in population\n",
    "    When original solution has failed to generate better solution, trial counter is increased by 1 unit\n",
    "    When better solution has been found, the trial counter for this new solution is set to zero\n",
    "\n",
    "\n",
    "\"\"\"\n",
    "\n",
    "function Scouting(population, bounds_lower, bounds_upper, trials, fitness, objective, limit, f::Function)\n",
    "        \n",
    "        # check whether the trial vector exceed the limit value and importantly where\n",
    "        index_exceed = trials .> limit\n",
    "    \n",
    "        if sum(index_exceed) >= 1 # there is minimal one case where we exceed the limit\n",
    "            if sum(maximum(trials) .== trials) > 1 # multiple cases have the same maximum so chose randomly\n",
    "                possible_scoutings = findall(trials .== maximum(trials))\n",
    "                idx = rand(1:size(possible_scoutings)[1])\n",
    "                global scouting_array = possible_scoutings[idx]\n",
    "            else # only one array has a maximum => chose this one \n",
    "            \n",
    "                global scouting_array = argmax(trials)\n",
    "            end\n",
    "            pop = population[scouting_array]\n",
    "            fit = fitness[scouting_array]\n",
    "            obj = objective[scouting_array]\n",
    "            trail = trials[scouting_array]\n",
    "        \n",
    "            #creating random population\n",
    "            sol_new = bounds_lower + (bounds_upper-bounds_lower) .* rand(D) # -5 *(10*rand)\n",
    "            new_obj = compute_objective([sol_new],f)\n",
    "            new_fit = compute_fitness(new_obj)\n",
    "        \n",
    "            # replacing the new population\n",
    "            population[scouting_array] = sol_new\n",
    "            fitness[scouting_array] = new_fit[1]\n",
    "            objective[scouting_array] = new_obj\n",
    "            trials[scouting_array] = 0\n",
    "        \n",
    "        end\n",
    "        return population, fitness, objective, trials  \n",
    "\n",
    "\n",
    "end\n",
    "\n",
    "\n"
   ]
  },
  {
   "cell_type": "code",
   "execution_count": 517,
   "metadata": {},
   "outputs": [
    {
     "data": {
      "text/plain": [
       "create_newsolution (generic function with 1 method)"
      ]
     },
     "execution_count": 517,
     "metadata": {},
     "output_type": "execute_result"
    }
   ],
   "source": [
    "\"\"\" Creating a new solution\n",
    "Creates new solution by changing one variable using partner solution.\n",
    "\n",
    "Input\n",
    "- solutions: current solution \n",
    "- population : population of solutions \n",
    "- bounds_lower: lower bounds of variables \n",
    "- bounds_upper: upper bounds of variables \n",
    "\n",
    "Output\n",
    "- solution_new: new solution with one variable changed using the partner solutions\n",
    "\n",
    "\n",
    "\"\"\"\n",
    "\n",
    "function create_newsolution(solution, population, bounds_lower, bounds_upper)\n",
    "        # select random variable to change       \n",
    "        randomvar1_index = rand(1:size(solution)[1], 1)\n",
    "\n",
    "        # select partner solution to generate new solution        \n",
    "        randompartner_index = rand(1:size(population)[1], 1)\n",
    "\n",
    "        # select random variable in partner solution to exchange with\n",
    "\n",
    "        randompartner = population[randompartner_index, :][1]\n",
    "        randomvar2_index = rand(1:length(randompartner), 1)\n",
    "\n",
    "        # create new food location\n",
    "        phi = rand()*2-1 #random number between -1 and 1     \n",
    "        global solution_new = float(deepcopy(solution))\n",
    "        a = solution[randomvar1_index] \n",
    "        b = randompartner[randomvar2_index]\n",
    "        solution_new[randomvar1_index] = a + phi*(a - b)\n",
    "\n",
    "        # check if lower bound is violated\n",
    "        if solution_new[randomvar1_index] < bounds_lower[randomvar1_index] \n",
    "            solution_new[randomvar1_index] = bounds_lower[randomvar1_index]\n",
    "        end\n",
    "\n",
    "        # check if upper bound is violated\n",
    "        if solution_new[randomvar1_index] > bounds_upper[randomvar1_index]\n",
    "            solution_new[randomvar1_index] = bounds_upper[randomvar1_index]\n",
    "        end\n",
    "    return solution_new\n",
    "end\n",
    "\n"
   ]
  },
  {
   "cell_type": "code",
   "execution_count": 318,
   "metadata": {},
   "outputs": [
    {
     "data": {
      "text/plain": [
       "rastrigine (generic function with 1 method)"
      ]
     },
     "execution_count": 318,
     "metadata": {},
     "output_type": "execute_result"
    }
   ],
   "source": [
    "function sphere(x)\n",
    "    d = length(x)\n",
    "    return sum(x.^2)\n",
    "end  \n",
    "\n",
    "function ackley(x; a=20, b=0.2, c=2π)\n",
    "    d = length(x)\n",
    "    return -a * exp(-b*sqrt(sum(x.^2)/d)) -\n",
    "        exp(sum(cos.(c .* x))/d) + 20 + exp(1)\n",
    "end\n",
    "\n",
    "function rosenbrock(x; a=1, b=5)\n",
    "    # 2 dimensions!\n",
    "    return (a-x[1])^2 + b*(x[2]-x[1]^2)^2\n",
    "end\n",
    "\n",
    "function branin((x1, x2); a=1, b=5.1/(4pi^2), c=5/pi, r=6, s=10, t=1/8pi)\n",
    "    # 2 dimensions!\n",
    "    return a * (x2 - b * x1^2 + c * x1 - r)^2 + s * (1 - t) * cos(x1) + s\n",
    "end\n",
    "\n",
    "function rastrigine(x; A=10)\n",
    "    return length(x) * A + sum(x.^2 .+ A .* cos.(2pi .* x))\n",
    "end"
   ]
  },
  {
   "cell_type": "code",
   "execution_count": 109,
   "metadata": {},
   "outputs": [
    {
     "name": "stderr",
     "output_type": "stream",
     "text": [
      "\u001b[32m\u001b[1m   Updating\u001b[22m\u001b[39m registry at `~/.julia/registries/General`\n",
      "######################################################################### 100.0%\n",
      "\u001b[32m\u001b[1m  Resolving\u001b[22m\u001b[39m package versions...\n",
      "\u001b[32m\u001b[1mNo Changes\u001b[22m\u001b[39m to `~/.julia/environments/v1.5/Project.toml`\n",
      "\u001b[32m\u001b[1mNo Changes\u001b[22m\u001b[39m to `~/.julia/environments/v1.5/Manifest.toml`\n"
     ]
    }
   ],
   "source": [
    "using Pkg; Pkg.add(\"Optim\")"
   ]
  },
  {
   "cell_type": "code",
   "execution_count": 134,
   "metadata": {},
   "outputs": [
    {
     "name": "stderr",
     "output_type": "stream",
     "text": [
      "┌ Info: Precompiling Optim [429524aa-4258-5aef-a3af-852621145aeb]\n",
      "└ @ Base loading.jl:1278\n"
     ]
    }
   ],
   "source": [
    "using Optim"
   ]
  },
  {
   "cell_type": "code",
   "execution_count": 555,
   "metadata": {},
   "outputs": [
    {
     "name": "stdout",
     "output_type": "stream",
     "text": [
      "  0.000153 seconds (1.24 k allocations: 52.938 KiB)\n"
     ]
    },
    {
     "data": {
      "text/plain": [
       " * Status: success\n",
       "\n",
       " * Candidate solution\n",
       "    Final objective value:     3.108873e-09\n",
       "\n",
       " * Found with\n",
       "    Algorithm:     Nelder-Mead\n",
       "\n",
       " * Convergence measures\n",
       "    √(Σ(yᵢ-ȳ)²)/n ≤ 1.0e-08\n",
       "\n",
       " * Work counters\n",
       "    Seconds run:   0  (vs limit Inf)\n",
       "    Iterations:    154\n",
       "    f(x) calls:    277\n"
      ]
     },
     "execution_count": 555,
     "metadata": {},
     "output_type": "execute_result"
    }
   ],
   "source": [
    "@time begin\n",
    "S = 24\n",
    "D = 4\n",
    "bounds_lower = [-100,-100, -100,-100];\n",
    "bounds_upper = [100,100, 100,100];\n",
    "population = initialize_population(D, bounds_lower, bounds_upper, S/2)\n",
    "population = float(population[1])\n",
    "optimize(sphere,population)\n",
    "end"
   ]
  },
  {
   "cell_type": "code",
   "execution_count": 589,
   "metadata": {},
   "outputs": [
    {
     "name": "stdout",
     "output_type": "stream",
     "text": [
      "  0.033273 seconds (632.06 k allocations: 37.193 MiB)\n"
     ]
    },
    {
     "data": {
      "text/plain": [
       "4-element Array{Float64,1}:\n",
       " -8.113963973102695e-9\n",
       "  0.0\n",
       " -2.022824193427267e-9\n",
       " -2.8085034061667037e-10"
      ]
     },
     "execution_count": 589,
     "metadata": {},
     "output_type": "execute_result"
    }
   ],
   "source": [
    "@time begin\n",
    "S = 24\n",
    "D = 4\n",
    "bounds_lower = [-100,-100, -100,-100];\n",
    "bounds_upper = [100,100, 100,100];\n",
    "limit = D * (S/2)\n",
    "T= 500\n",
    "ArtificialBeeColonization(D, bounds_lower, bounds_upper, S,T, limit, sphere)\n",
    "end"
   ]
  },
  {
   "cell_type": "code",
   "execution_count": 557,
   "metadata": {},
   "outputs": [
    {
     "name": "stdout",
     "output_type": "stream",
     "text": [
      "  0.000260 seconds (1.70 k allocations: 105.672 KiB)\n"
     ]
    },
    {
     "data": {
      "text/plain": [
       " * Status: success\n",
       "\n",
       " * Candidate solution\n",
       "    Final objective value:     1.999999e+01\n",
       "\n",
       " * Found with\n",
       "    Algorithm:     Nelder-Mead\n",
       "\n",
       " * Convergence measures\n",
       "    √(Σ(yᵢ-ȳ)²)/n ≤ 1.0e-08\n",
       "\n",
       " * Work counters\n",
       "    Seconds run:   0  (vs limit Inf)\n",
       "    Iterations:    129\n",
       "    f(x) calls:    292\n"
      ]
     },
     "execution_count": 557,
     "metadata": {},
     "output_type": "execute_result"
    }
   ],
   "source": [
    "@time begin\n",
    "S = 24\n",
    "D = 4\n",
    "bounds_lower = [-100,-100, -100,-100];\n",
    "bounds_upper = [100,100, 100,100];\n",
    "population = initialize_population(D, bounds_lower, bounds_upper, S/2)\n",
    "population = float(population[1])\n",
    "optimize(ackley,population)\n",
    "end"
   ]
  },
  {
   "cell_type": "code",
   "execution_count": 591,
   "metadata": {},
   "outputs": [
    {
     "name": "stdout",
     "output_type": "stream",
     "text": [
      "  0.073072 seconds (834.78 k allocations: 56.307 MiB, 14.41% gc time)\n"
     ]
    },
    {
     "data": {
      "text/plain": [
       "4-element Array{Float64,1}:\n",
       " -0.0004763763767159569\n",
       " -0.00031554106821328476\n",
       " -6.238273794105537e-7\n",
       "  3.44906104372675e-5"
      ]
     },
     "execution_count": 591,
     "metadata": {},
     "output_type": "execute_result"
    }
   ],
   "source": [
    "@time begin\n",
    "S = 24\n",
    "D = 4\n",
    "bounds_lower = [-100,-100, -100,-100];\n",
    "bounds_upper = [100,100, 100,100];\n",
    "limit = D * (S/2)\n",
    "T= 500\n",
    "ArtificialBeeColonization(D, bounds_lower, bounds_upper, S,T, limit, ackley)\n",
    "end"
   ]
  },
  {
   "cell_type": "code",
   "execution_count": 559,
   "metadata": {},
   "outputs": [
    {
     "name": "stdout",
     "output_type": "stream",
     "text": [
      "  0.071788 seconds (202.82 k allocations: 9.852 MiB)\n"
     ]
    },
    {
     "data": {
      "text/plain": [
       " * Status: success\n",
       "\n",
       " * Candidate solution\n",
       "    Final objective value:     8.954617e+00\n",
       "\n",
       " * Found with\n",
       "    Algorithm:     Nelder-Mead\n",
       "\n",
       " * Convergence measures\n",
       "    √(Σ(yᵢ-ȳ)²)/n ≤ 1.0e-08\n",
       "\n",
       " * Work counters\n",
       "    Seconds run:   0  (vs limit Inf)\n",
       "    Iterations:    215\n",
       "    f(x) calls:    406\n"
      ]
     },
     "execution_count": 559,
     "metadata": {},
     "output_type": "execute_result"
    }
   ],
   "source": [
    "@time begin\n",
    "S = 24\n",
    "D = 4\n",
    "bounds_lower = [-100,-100, -100,-100];\n",
    "bounds_upper = [100,100, 100,100];\n",
    "population = initialize_population(D, bounds_lower, bounds_upper, S/2)\n",
    "population = float(population[1])\n",
    "optimize(rastrigine,population)\n",
    "end"
   ]
  },
  {
   "cell_type": "code",
   "execution_count": 560,
   "metadata": {},
   "outputs": [
    {
     "name": "stdout",
     "output_type": "stream",
     "text": [
      "  0.157902 seconds (337.49 k allocations: 17.356 MiB, 8.39% gc time)\n"
     ]
    },
    {
     "data": {
      "text/plain": [
       "4-element Array{Float64,1}:\n",
       "  0.49306852843569987\n",
       "  0.4940828762868616\n",
       "  0.4998351932819704\n",
       " -0.48635491207128234"
      ]
     },
     "execution_count": 560,
     "metadata": {},
     "output_type": "execute_result"
    }
   ],
   "source": [
    "@time begin\n",
    "S = 24\n",
    "D = 4\n",
    "bounds_lower = [-100,-100, -100,-100];\n",
    "bounds_upper = [100,100, 100,100];\n",
    "limit = D * (S/2)\n",
    "T= 50\n",
    "ArtificialBeeColonization(D, bounds_lower, bounds_upper, S,T, limit, rastrigine)\n",
    "end"
   ]
  },
  {
   "cell_type": "code",
   "execution_count": 561,
   "metadata": {},
   "outputs": [
    {
     "name": "stdout",
     "output_type": "stream",
     "text": [
      "  0.000095 seconds (463 allocations: 14.109 KiB)\n"
     ]
    },
    {
     "data": {
      "text/plain": [
       " * Status: success\n",
       "\n",
       " * Candidate solution\n",
       "    Final objective value:     7.639914e-10\n",
       "\n",
       " * Found with\n",
       "    Algorithm:     Nelder-Mead\n",
       "\n",
       " * Convergence measures\n",
       "    √(Σ(yᵢ-ȳ)²)/n ≤ 1.0e-08\n",
       "\n",
       " * Work counters\n",
       "    Seconds run:   0  (vs limit Inf)\n",
       "    Iterations:    74\n",
       "    f(x) calls:    144\n"
      ]
     },
     "execution_count": 561,
     "metadata": {},
     "output_type": "execute_result"
    }
   ],
   "source": [
    "@time begin\n",
    "S = 24\n",
    "D = 2\n",
    "bounds_lower = [-100,-100];\n",
    "bounds_upper = [100,100];\n",
    "population = initialize_population(D, bounds_lower, bounds_upper, S/2)\n",
    "population = float(population[1])\n",
    "optimize(rosenbrock,population)\n",
    "end"
   ]
  },
  {
   "cell_type": "code",
   "execution_count": 587,
   "metadata": {},
   "outputs": [
    {
     "name": "stdout",
     "output_type": "stream",
     "text": [
      "  0.002948 seconds (60.57 k allocations: 3.402 MiB)\n"
     ]
    },
    {
     "data": {
      "text/plain": [
       "2-element Array{Float64,1}:\n",
       " 1.092746997233618\n",
       " 1.1786301926832472"
      ]
     },
     "execution_count": 587,
     "metadata": {},
     "output_type": "execute_result"
    }
   ],
   "source": [
    "@time begin\n",
    "S = 24\n",
    "D = 2\n",
    "bounds_lower = [-5,-5];\n",
    "bounds_upper = [5,5];\n",
    "limit = D * (S/2)\n",
    "T= 50\n",
    "ArtificialBeeColonization(D, bounds_lower, bounds_upper, S,T, limit, rosenbrock)\n",
    "end"
   ]
  },
  {
   "cell_type": "code",
   "execution_count": 579,
   "metadata": {},
   "outputs": [
    {
     "name": "stdout",
     "output_type": "stream",
     "text": [
      "  0.000091 seconds (353 allocations: 12.391 KiB)\n"
     ]
    },
    {
     "data": {
      "text/plain": [
       " * Status: success\n",
       "\n",
       " * Candidate solution\n",
       "    Final objective value:     3.978874e-01\n",
       "\n",
       " * Found with\n",
       "    Algorithm:     Nelder-Mead\n",
       "\n",
       " * Convergence measures\n",
       "    √(Σ(yᵢ-ȳ)²)/n ≤ 1.0e-08\n",
       "\n",
       " * Work counters\n",
       "    Seconds run:   0  (vs limit Inf)\n",
       "    Iterations:    42\n",
       "    f(x) calls:    86\n"
      ]
     },
     "execution_count": 579,
     "metadata": {},
     "output_type": "execute_result"
    }
   ],
   "source": [
    "@time begin\n",
    "S = 24\n",
    "D = 2\n",
    "bounds_lower = [-100,-100];\n",
    "bounds_upper = [100,100];\n",
    "population = initialize_population(D, bounds_lower, bounds_upper, S/2)\n",
    "population = float(population[1])\n",
    "optimize(branin,population)\n",
    "end"
   ]
  },
  {
   "cell_type": "code",
   "execution_count": 586,
   "metadata": {},
   "outputs": [
    {
     "name": "stdout",
     "output_type": "stream",
     "text": [
      "  0.003354 seconds (60.71 k allocations: 3.426 MiB)\n"
     ]
    },
    {
     "data": {
      "text/plain": [
       "2-element Array{Float64,1}:\n",
       " 3.1415263220707286\n",
       " 2.2754110610223934"
      ]
     },
     "execution_count": 586,
     "metadata": {},
     "output_type": "execute_result"
    }
   ],
   "source": [
    "@time begin\n",
    "S = 24\n",
    "D = 2\n",
    "bounds_lower = [-5,-5];\n",
    "bounds_upper = [5,5];\n",
    "limit = D * (S/2)\n",
    "T= 50\n",
    "ArtificialBeeColonization(D, bounds_lower, bounds_upper, S,T, limit, branin)\n",
    "end"
   ]
  },
  {
   "cell_type": "code",
   "execution_count": null,
   "metadata": {},
   "outputs": [],
   "source": []
  }
 ],
 "metadata": {
  "kernelspec": {
   "display_name": "Julia 1.5.2",
   "language": "julia",
   "name": "julia-1.5"
  },
  "language_info": {
   "file_extension": ".jl",
   "mimetype": "application/julia",
   "name": "julia",
   "version": "1.5.2"
  }
 },
 "nbformat": 4,
 "nbformat_minor": 4
}
