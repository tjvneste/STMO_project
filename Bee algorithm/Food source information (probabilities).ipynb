{
 "cells": [
  {
   "cell_type": "code",
   "execution_count": 16,
   "metadata": {},
   "outputs": [
    {
     "data": {
      "text/plain": [
       "foodsource_info_prob (generic function with 1 method)"
      ]
     },
     "execution_count": 16,
     "metadata": {},
     "output_type": "execute_result"
    }
   ],
   "source": [
    "\"\"\" Food source information (measured in probabilities)\n",
    "\n",
    "Input\n",
    "- fitness values\n",
    "\n",
    "Output\n",
    "- probability/food source information values\n",
    "\n",
    "\n",
    "\"\"\"\n",
    "\n",
    "function foodsource_info_prob(fitness_values)\n",
    "    probabilities = []\n",
    "    \n",
    "    for i in 1:length(fitness_values)\n",
    "        fitness_value = fitness_values[i] \n",
    "        probability = 0.9*(fitness_value/maximum(fitness_values)) + 0.1\n",
    "        append!(probabilities, probability)\n",
    "    end\n",
    "    \n",
    "    return probabilities\n",
    "end\t\n"
   ]
  },
  {
   "cell_type": "code",
   "execution_count": 18,
   "metadata": {},
   "outputs": [
    {
     "data": {
      "text/plain": [
       "3-element Array{Any,1}:\n",
       " 0.28\n",
       " 0.24400000000000002\n",
       " 1.0"
      ]
     },
     "execution_count": 18,
     "metadata": {},
     "output_type": "execute_result"
    }
   ],
   "source": [
    "fitness_values = [0.2 0.16 1]\n",
    "foodsource_info_prob(fitness_values)"
   ]
  },
  {
   "cell_type": "markdown",
   "metadata": {},
   "source": [
    "### in combination with other functions"
   ]
  },
  {
   "cell_type": "code",
   "execution_count": 20,
   "metadata": {},
   "outputs": [
    {
     "data": {
      "text/plain": [
       "compute_objective (generic function with 2 methods)"
      ]
     },
     "execution_count": 20,
     "metadata": {},
     "output_type": "execute_result"
    }
   ],
   "source": [
    "function compute_objective(input, vector=true)\n",
    "    if vector == true\n",
    "        objective = sum(input[i]^2 for i in 1:length(input))\n",
    "        output = objective\n",
    "    else\n",
    "        objectives_population = []\n",
    "        \n",
    "        for j in 1:size(input)[1]\n",
    "            food_source = input[j, :]\n",
    "            #objective = sum(food_source[i]^2 for i in 1:length(food_source))\n",
    "            objective = sum(sum(food_source[i].^2 for i in 1:length(food_source)))\n",
    "            append!(objectives_population, objective)\n",
    "        end\n",
    "        \n",
    "        output = objectives_population\n",
    "    end\n",
    "    \n",
    "    return output\n",
    "end"
   ]
  },
  {
   "cell_type": "code",
   "execution_count": 21,
   "metadata": {},
   "outputs": [
    {
     "data": {
      "text/plain": [
       "compute_fitness (generic function with 1 method)"
      ]
     },
     "execution_count": 21,
     "metadata": {},
     "output_type": "execute_result"
    }
   ],
   "source": [
    "function compute_fitness(objective_values)\n",
    "    fitness_values = []\n",
    "    \n",
    "    for i in 1:length(objective_values)\n",
    "        objective_value = objective_values[i]\n",
    "        \n",
    "        if objective_value >= 0\n",
    "            fitness = 1/(1+objective_value)\n",
    "     \n",
    "        else\n",
    "            fitness = 1+abs(objective_value)\n",
    "        end\n",
    "        \n",
    "        append!(fitness_values, fitness)\n",
    "    end\n",
    "    return fitness_values\n",
    "end\t"
   ]
  },
  {
   "cell_type": "code",
   "execution_count": 25,
   "metadata": {},
   "outputs": [
    {
     "data": {
      "text/plain": [
       "initialize_population (generic function with 1 method)"
      ]
     },
     "execution_count": 25,
     "metadata": {},
     "output_type": "execute_result"
    }
   ],
   "source": [
    "function initialize_population(D, bounds_lower, bounds_upper, n)\n",
    "    population = []   \n",
    "    for i in 1:n\n",
    "        food_source = collect(rand(bounds_lower[i]:bounds_upper[i]) for i in 1:D)\n",
    "        append!(population, [food_source])\n",
    "    end\n",
    "        \n",
    "    return population\n",
    "end\t\n"
   ]
  },
  {
   "cell_type": "code",
   "execution_count": 24,
   "metadata": {},
   "outputs": [
    {
     "data": {
      "text/plain": [
       "9-element Array{Any,1}:\n",
       " 0.689655172413793\n",
       " 0.38983050847457634\n",
       " 0.5750000000000001\n",
       " 0.7107142857142857\n",
       " 0.5071428571428571\n",
       " 0.4288461538461539\n",
       " 1.0\n",
       " 0.3514705882352941\n",
       " 0.40535714285714286"
      ]
     },
     "execution_count": 24,
     "metadata": {},
     "output_type": "execute_result"
    }
   ],
   "source": [
    "bounds_lower = [-5,-5,-5,-5]\n",
    "bounds_upper = [5,5,5,5]\n",
    "D=4\n",
    "n=9\n",
    "population = initialize_population(D, bounds_lower, bounds_upper, n)\n",
    "objective_values= compute_objective(population, false)\n",
    "fitness_values = compute_fitness(objective_values)\n",
    "\n",
    "\n",
    "foodsource_info_prob(fitness_values)"
   ]
  }
 ],
 "metadata": {
  "kernelspec": {
   "display_name": "Julia 1.5.1",
   "language": "julia",
   "name": "julia-1.5"
  },
  "language_info": {
   "file_extension": ".jl",
   "mimetype": "application/julia",
   "name": "julia",
   "version": "1.5.1"
  }
 },
 "nbformat": 4,
 "nbformat_minor": 4
}
