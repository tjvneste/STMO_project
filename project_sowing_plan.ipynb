{
  "cells": [
    {
      "cell_type": "markdown",
      "source": [
        "# Project: Sowing plan\n\n**STMO**\n\n2020-2021\n\nProject by: YOUR NAME(s)\n\n## Outline\n\nIn this project, we will implement a sowing plan for a mixed culture of three types of crops. At our disposal, we have fifteen plots of land, to be planted using a limited supply of seeds. The different lots have varying soil compositions, influencing plant growth. Furthermore, some combinations of the crops grow well together; other combinations show competition. These aspects make for a challenging optimization problem!"
      ],
      "metadata": {}
    },
    {
      "outputs": [],
      "cell_type": "code",
      "source": [
        "n = 15"
      ],
      "metadata": {},
      "execution_count": null
    },
    {
      "cell_type": "markdown",
      "source": [
        "## A model for plant growth\n\nWe have $n=15$ plots of land. The three types of plants are denoted with x, y, and z, respectively. Indices are used to indicate the amount of seed distributed to a particular plot, e.g., $x_i$ is the amount of seed assigned to the $i$-th plot. So this optimization problem can be solved in a $15\\times 3=45$-dimensional space.\n\nSmall-capped variables indicate the amount of seed assigned to a field. Large-cap variables represent the corresponding yield of that field, i.e., $X_i$ is the yield (in kg) for field $i$. The yield for each type of seed can be computed using the following equations:\n\n$$X_i = \\frac{A_i^x x_i^2}{120 + x_i^2 + 2y_i - 0.8x_iz_i + z_i^2}\\,,$$\n\n$$Y_i = \\frac{A_i^y y_i^2}{30 + 4x_i + y_i^2 + 7z_i}\\,,$$\n\n$$Z_i = \\frac{A_i^z z_i^2}{80 + 0.4x_i^2 + 0.2x_iz_i +0.6y_i + z_i^2}\\,.$$\n\nHere, $A_i^x$, $A_i^y$, $A_i^z$ represent the maximum in yields in field $i$ for the different seed types. It depends on the amount of nitrogen $u_i$ and the water status $v_i$ of the soil. The following equation can be used to compute these coefficients:\n\n$$\\begin{bmatrix}\nA_i^x \\\\\nA_i^y\\\\\nA_i^z\n\\end{bmatrix}\n=\n\\begin{bmatrix}\n4 & 2  \\\\\n1 & 0.3 \\\\\n-0.5 & 4\n\\end{bmatrix}\n\\begin{bmatrix}\nu_i \\\\\nv_j\\\\\n\\end{bmatrix}\n+\n\\begin{bmatrix}\n100 \\\\\n300 \\\\\n210\n\\end{bmatrix}\\,.$$"
      ],
      "metadata": {}
    },
    {
      "outputs": [],
      "cell_type": "code",
      "source": [
        "S, b = [4 2; 1 0.3; -0.5 4], [100, 300, 210]  # soil effects"
      ],
      "metadata": {},
      "execution_count": null
    },
    {
      "cell_type": "markdown",
      "source": [
        "The growth model has several interesting facets:\n- sowing more seed results in a larger yield, however, the effect saturates, increasing quantities have diminishing returns;\n- the plants show competition;\n- z positively influences x, while x negatively influences z (z produces nitrogen while x requires much nitrogen);\n- y is a good producer but very sensitive to adverse conditions.\n\nBelow are the concentrations of nitrogen ($u$) and water status ($v$) for every field."
      ],
      "metadata": {}
    },
    {
      "outputs": [],
      "cell_type": "code",
      "source": [
        "u = [36.6776, 36.9967, 83.033, 50.3725, 43.4616, 55.5842, 44.8919, 99.6519, 20.158, 102.325, 96.8896, 33.7957, 26.6129, 38.7194, 60.1461]"
      ],
      "metadata": {},
      "execution_count": null
    },
    {
      "outputs": [],
      "cell_type": "code",
      "source": [
        "v = [34.5773,  24.3003,  24.3952,  28.462,  37.2912,  38.196,  36.4821,  30.1988,  20.9124,  35.207,  38.0924,  24.438,  28.3169,  20.3022,  24.8884]"
      ],
      "metadata": {},
      "execution_count": null
    },
    {
      "cell_type": "markdown",
      "source": [
        "The total amount of seed for every type is fixed by $c_x$, $c_y$, $c_z$:"
      ],
      "metadata": {}
    },
    {
      "outputs": [],
      "cell_type": "code",
      "source": [
        "cx, cy, cz = 250, 175, 325"
      ],
      "metadata": {},
      "execution_count": null
    },
    {
      "cell_type": "markdown",
      "source": [
        "Finally, the yield for each crop can be sold at different prices (EUR/kg) $w_x$, $w_y$, $w_z$:"
      ],
      "metadata": {}
    },
    {
      "outputs": [],
      "cell_type": "code",
      "source": [
        "wx, wy, wz = 0.7, 0.85, 0.6"
      ],
      "metadata": {},
      "execution_count": null
    },
    {
      "cell_type": "markdown",
      "source": [
        "So the objective is\n\n$$f(\\mathbf{x}, \\mathbf{y}, \\mathbf{z}) = \\sum_{i=1}^{15}w_xX_i(x_i,y_i,z_i) + w_yY_i(x_i,y_i,z_i)+w_zZ_i(x_i,y_i,z_i)\\,,$$\n\nbut the constraints are\n\n$$\\sum_{i=1}^{15} x_i \\le c_x \\quad\\text{and}\\quad x_i\\geq 0\\text{ for }i=1,\\ldots,15\\,,$$\n\n$$\\sum_{i=1}^{15} y_i \\le c_y \\quad\\text{and}\\quad y_i\\geq 0\\text{ for }i=1,\\ldots,15\\,,$$\n\n$$\\sum_{i=1}^{15} z_i \\le c_z \\quad\\text{and}\\quad z_i\\geq 0\\text{ for }i=1,\\ldots,15\\,.$$\n\nNote: the sum constraints are inequalities because you don't need to use all the seed. However, the optimal solution will likely use all the available seed.\n\n## An example\n\nLet us compute the yield for plot 1 when we sow $x_1=10,y_1=6, z_1=8$. First, we compute the maximum yields, then the resulting concrete yields and, finally the value."
      ],
      "metadata": {}
    },
    {
      "outputs": [],
      "cell_type": "code",
      "source": [
        "x1, y1, z1 = 10, 6, 8  # amount of seed per plot\n\n(Ax1, Ay1, Az1) = S * [u[1], v[1]] .+ b\n\nX1 = (Ax1 * x1^2) / (120 + x1^2 + 2y1 - 0.8x1 * z1 + z1^2)\n\nY1 = (Ay1 * y1^2) / (30 + 4x1 + y1^2 + 7z1)\n\nZ1 = (Az1 * z1^2) / (80 + 0.4x1 + 0.2x1*z1 +0.6y1 + z1^2)\n\nrevenue_plot1 = wx * X1 + wy * Y1 + wz * Z1"
      ],
      "metadata": {},
      "execution_count": null
    },
    {
      "cell_type": "markdown",
      "source": [
        "# Assignments\n\n1. Give the formal optimization problem. Also provide the Lagrangian formulation.\n2. Is the optimization problem of the optimal sowing plan concave? (since it is a maximization problem, I mean is minimizing the negative total revenue of a plan convex). You don't have to prove this formally, but you can make visual arguments. For a given field, make a the contour plots for (x,y), (x,z) and (y,z), always setting the third variable to 0.\n3. Give a good/optimal sowing plan. You may solve this either using custom code or using a Julia package [Optim.jl](https://github.com/JuliaNLSolvers/Optim.jl), [Convex.jl](https://github.com/jump-dev/Convex.jl), or [JuMP.jl](https://github.com/jump-dev/JuMP.jl). Make plots of your solution and discuss it.\n4. Given an optimal sowing plan found in the previous assignment, what is the price per kg for every seed you would be willing to buy, as to be break-even? How would you use this additional marginal quantity of seed. (HINT: you can obtain this from the Lagrangian).\n5. Provide three alternative solutions, each in which you only use one of the types of seed, e.g. $\\max_\\mathbf{x}f(\\mathbf{x}, 0, 0)$. Show and discuss the difference.\n\n## Submission\n\nHand in the solved Jupyter notebook by **14 November 2020**. Send your notebook to [me](michiel.stock@ugent.be) both as Pluto notebook file (.jl) and as **PDF or HTML file**. Hand in a CSV file with your best **valid** solution for question 3. In this file, every row is a plot of land and the three columns represent x, y, z, respectively.\n\n### 1. Formal description of the problem\n\nCOMPLETE\n\n### 2. Concavity\n\n### 3. Making a sowing plan\n\nHere, you have the space to solve the problem. Save your final solution in the variable `solution` and save it in a csv file using `save_solution`. This is done automatically when your name is filled in."
      ],
      "metadata": {}
    },
    {
      "outputs": [],
      "cell_type": "code",
      "source": [
        "solution = fill(1.0, 15, 3)  # valid, but can be improved..."
      ],
      "metadata": {},
      "execution_count": null
    },
    {
      "outputs": [],
      "cell_type": "code",
      "source": [
        ""
      ],
      "metadata": {},
      "execution_count": null
    },
    {
      "cell_type": "markdown",
      "source": [
        "Check if the solution is valid."
      ],
      "metadata": {}
    },
    {
      "outputs": [],
      "cell_type": "code",
      "source": [
        "function isvalidsolution(solution::Matrix)\n\treturn size(solution) == (15, 3) && all(solution .≥ 0.0) && all(sum(solution, dims=1) .≤ [cx cy cz])\nend"
      ],
      "metadata": {},
      "execution_count": null
    },
    {
      "outputs": [],
      "cell_type": "code",
      "source": [
        "isvalidsolution(solution)"
      ],
      "metadata": {},
      "execution_count": null
    },
    {
      "cell_type": "markdown",
      "source": [
        "Save the solution."
      ],
      "metadata": {}
    },
    {
      "outputs": [],
      "cell_type": "code",
      "source": [
        "function save_solution(fname, solution::Matrix)\n\t@assert isvalidsolution(solution) \"Oh no, your solution is invalid!\"\n\tCSV.write(fname, DataFrame(solution))\nend"
      ],
      "metadata": {},
      "execution_count": null
    },
    {
      "outputs": [],
      "cell_type": "code",
      "source": [
        "save_solution(\"solution_YOURNAMES.csv\", solution)"
      ],
      "metadata": {},
      "execution_count": null
    },
    {
      "cell_type": "markdown",
      "source": [
        "### 4. Price of seed"
      ],
      "metadata": {}
    },
    {
      "outputs": [],
      "cell_type": "code",
      "source": [
        ""
      ],
      "metadata": {},
      "execution_count": null
    },
    {
      "cell_type": "markdown",
      "source": [
        "Compute how much you would pay for each additional unit of seed in your solution.\n\n### 5. One type of seed\n\nMake three solutions in which you only use one type of seed. Analyse your solutions!"
      ],
      "metadata": {}
    },
    {
      "outputs": [],
      "cell_type": "code",
      "source": [
        ""
      ],
      "metadata": {},
      "execution_count": null
    }
  ],
  "nbformat_minor": 2,
  "metadata": {
    "language_info": {
      "file_extension": ".jl",
      "mimetype": "application/julia",
      "name": "julia",
      "version": "1.3.1"
    },
    "kernelspec": {
      "name": "julia-1.3",
      "display_name": "Julia 1.3.1",
      "language": "julia"
    }
  },
  "nbformat": 4
}
