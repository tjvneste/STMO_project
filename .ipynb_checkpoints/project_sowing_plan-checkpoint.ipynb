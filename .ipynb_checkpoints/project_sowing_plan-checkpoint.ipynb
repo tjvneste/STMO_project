{
 "cells": [
  {
   "cell_type": "markdown",
   "metadata": {},
   "source": [
    "# Project: Sowing plan\n",
    "\n",
    "**STMO**\n",
    "\n",
    "2020-2021\n",
    "\n",
    "Project by: Kirsten Van Huffel & Tristan Vanneste\n",
    "\n",
    "## Outline\n",
    "\n",
    "In this project, we will implement a sowing plan for a mixed culture of three types of crops. At our disposal, we have fifteen plots of land, to be planted using a limited supply of seeds. The different lots have varying soil compositions, influencing plant growth. Furthermore, some combinations of the crops grow well together; other combinations show competition. These aspects make for a challenging optimization problem!"
   ]
  },
  {
   "cell_type": "code",
   "execution_count": 1,
   "metadata": {},
   "outputs": [
    {
     "data": {
      "text/plain": [
       "15"
      ]
     },
     "execution_count": 1,
     "metadata": {},
     "output_type": "execute_result"
    }
   ],
   "source": [
    "n = 15"
   ]
  },
  {
   "cell_type": "markdown",
   "metadata": {},
   "source": [
    "## A model for plant growth\n",
    "\n",
    "We have $n=15$ plots of land. The three types of plants are denoted with x, y, and z, respectively. Indices are used to indicate the amount of seed distributed to a particular plot, e.g., $x_i$ is the amount of seed assigned to the $i$-th plot. So this optimization problem can be solved in a $15\\times 3=45$-dimensional space.\n",
    "\n",
    "Small-capped variables indicate the amount of seed assigned to a field. Large-cap variables represent the corresponding yield of that field, i.e., $X_i$ is the yield (in kg) for field $i$. The yield for each type of seed can be computed using the following equations:\n",
    "\n",
    "$$X_i = \\frac{A_i^x x_i^2}{120 + x_i^2 + 2y_i - 0.8x_iz_i + z_i^2}\\,,$$\n",
    "\n",
    "$$Y_i = \\frac{A_i^y y_i^2}{30 + 4x_i + y_i^2 + 7z_i}\\,,$$\n",
    "\n",
    "$$Z_i = \\frac{A_i^z z_i^2}{80 + 0.4x_i^2 + 0.2x_iz_i +0.6y_i + z_i^2}\\,.$$\n",
    "\n",
    "Here, $A_i^x$, $A_i^y$, $A_i^z$ represent the maximum in yields in field $i$ for the different seed types. It depends on the amount of nitrogen $u_i$ and the water status $v_i$ of the soil. The following equation can be used to compute these coefficients:\n",
    "\n",
    "$$\\begin{bmatrix}\n",
    "A_i^x \\\\\n",
    "A_i^y\\\\\n",
    "A_i^z\n",
    "\\end{bmatrix}\n",
    "=\n",
    "\\begin{bmatrix}\n",
    "4 & 2  \\\\\n",
    "1 & 0.3 \\\\\n",
    "-0.5 & 4\n",
    "\\end{bmatrix}\n",
    "\\begin{bmatrix}\n",
    "u_i \\\\\n",
    "v_j\\\\\n",
    "\\end{bmatrix}\n",
    "+\n",
    "\\begin{bmatrix}\n",
    "100 \\\\\n",
    "300 \\\\\n",
    "210\n",
    "\\end{bmatrix}\\,.$$"
   ]
  },
  {
   "cell_type": "code",
   "execution_count": 5,
   "metadata": {},
   "outputs": [
    {
     "data": {
      "text/plain": [
       "([4.0 2.0; 1.0 0.3; -0.5 4.0], [100, 300, 210])"
      ]
     },
     "execution_count": 5,
     "metadata": {},
     "output_type": "execute_result"
    }
   ],
   "source": [
    "S, b = [4 2; 1 0.3; -0.5 4], [100, 300, 210]  # soil effects"
   ]
  },
  {
   "cell_type": "markdown",
   "metadata": {},
   "source": [
    "The growth model has several interesting facets:\n",
    "- sowing more seed results in a larger yield, however, the effect saturates, increasing quantities have diminishing returns;\n",
    "- the plants show competition;\n",
    "- z positively influences x, while x negatively influences z (z produces nitrogen while x requires much nitrogen);\n",
    "- y is a good producer but very sensitive to adverse conditions.\n",
    "\n",
    "Below are the concentrations of nitrogen ($u$) and water status ($v$) for every field."
   ]
  },
  {
   "cell_type": "code",
   "execution_count": 6,
   "metadata": {},
   "outputs": [
    {
     "data": {
      "text/plain": [
       "15-element Array{Float64,1}:\n",
       "  36.6776\n",
       "  36.9967\n",
       "  83.033\n",
       "  50.3725\n",
       "  43.4616\n",
       "  55.5842\n",
       "  44.8919\n",
       "  99.6519\n",
       "  20.158\n",
       " 102.325\n",
       "  96.8896\n",
       "  33.7957\n",
       "  26.6129\n",
       "  38.7194\n",
       "  60.1461"
      ]
     },
     "execution_count": 6,
     "metadata": {},
     "output_type": "execute_result"
    }
   ],
   "source": [
    "u = [36.6776, 36.9967, 83.033, 50.3725, 43.4616, 55.5842, 44.8919, 99.6519, 20.158, 102.325, 96.8896, 33.7957, 26.6129, 38.7194, 60.1461]"
   ]
  },
  {
   "cell_type": "code",
   "execution_count": 7,
   "metadata": {},
   "outputs": [
    {
     "data": {
      "text/plain": [
       "15-element Array{Float64,1}:\n",
       " 34.5773\n",
       " 24.3003\n",
       " 24.3952\n",
       " 28.462\n",
       " 37.2912\n",
       " 38.196\n",
       " 36.4821\n",
       " 30.1988\n",
       " 20.9124\n",
       " 35.207\n",
       " 38.0924\n",
       " 24.438\n",
       " 28.3169\n",
       " 20.3022\n",
       " 24.8884"
      ]
     },
     "execution_count": 7,
     "metadata": {},
     "output_type": "execute_result"
    }
   ],
   "source": [
    "v = [34.5773,  24.3003,  24.3952,  28.462,  37.2912,  38.196,  36.4821,  30.1988,  20.9124,  35.207,  38.0924,  24.438,  28.3169,  20.3022,  24.8884]"
   ]
  },
  {
   "cell_type": "markdown",
   "metadata": {},
   "source": [
    "The total amount of seed for every type is fixed by $c_x$, $c_y$, $c_z$:"
   ]
  },
  {
   "cell_type": "code",
   "execution_count": 7,
   "metadata": {},
   "outputs": [
    {
     "data": {
      "text/plain": [
       "(250, 175, 325)"
      ]
     },
     "execution_count": 7,
     "metadata": {},
     "output_type": "execute_result"
    }
   ],
   "source": [
    "cx, cy, cz = 250, 175, 325"
   ]
  },
  {
   "cell_type": "markdown",
   "metadata": {},
   "source": [
    "Finally, the yield for each crop can be sold at different prices (EUR/kg) $w_x$, $w_y$, $w_z$:"
   ]
  },
  {
   "cell_type": "code",
   "execution_count": 8,
   "metadata": {},
   "outputs": [
    {
     "data": {
      "text/plain": [
       "(0.7, 0.85, 0.6)"
      ]
     },
     "execution_count": 8,
     "metadata": {},
     "output_type": "execute_result"
    }
   ],
   "source": [
    "wx, wy, wz = 0.7, 0.85, 0.6"
   ]
  },
  {
   "cell_type": "markdown",
   "metadata": {},
   "source": [
    "So the objective is\n",
    "\n",
    "$$f(\\mathbf{x}, \\mathbf{y}, \\mathbf{z}) = \\sum_{i=1}^{15}w_xX_i(x_i,y_i,z_i) + w_yY_i(x_i,y_i,z_i)+w_zZ_i(x_i,y_i,z_i)\\,,$$\n",
    "\n",
    "but the constraints are\n",
    "\n",
    "$$\\sum_{i=1}^{15} x_i \\le c_x \\quad\\text{and}\\quad x_i\\geq 0\\text{ for }i=1,\\ldots,15\\,,$$\n",
    "\n",
    "$$\\sum_{i=1}^{15} y_i \\le c_y \\quad\\text{and}\\quad y_i\\geq 0\\text{ for }i=1,\\ldots,15\\,,$$\n",
    "\n",
    "$$\\sum_{i=1}^{15} z_i \\le c_z \\quad\\text{and}\\quad z_i\\geq 0\\text{ for }i=1,\\ldots,15\\,.$$\n",
    "\n",
    "Note: the sum constraints are inequalities because you don't need to use all the seed. However, the optimal solution will likely use all the available seed.\n",
    "\n",
    "## An example\n",
    "\n",
    "Let us compute the yield for plot 1 when we sow $x_1=10,y_1=6, z_1=8$. First, we compute the maximum yields, then the resulting concrete yields and, finally the value."
   ]
  },
  {
   "cell_type": "code",
   "execution_count": 7,
   "metadata": {},
   "outputs": [
    {
     "data": {
      "text/plain": [
       "236.45994296256367"
      ]
     },
     "execution_count": 7,
     "metadata": {},
     "output_type": "execute_result"
    }
   ],
   "source": [
    "x1, y1, z1 = 10, 6, 8  # amount of seed per plot\n",
    "\n",
    "(Ax1, Ay1, Az1) = S * [u[1], v[1]] .+ b # maximum yield\n",
    "\n",
    "X1 = (Ax1 * x1^2) / (120 + x1^2 + 2y1 - 0.8x1 * z1 + z1^2) # yield for X1\n",
    "\n",
    "Y1 = (Ay1 * y1^2) / (30 + 4x1 + y1^2 + 7z1) # yield for Y1\n",
    "\n",
    "Z1 = (Az1 * z1^2) / (80 + 0.4x1 + 0.2x1*z1 +0.6y1 + z1^2) # yield for Z1\n",
    "\n",
    "revenue_plot1 = wx * X1 + wy * Y1 + wz * Z1 # the yiels * revenue "
   ]
  },
  {
   "cell_type": "markdown",
   "metadata": {},
   "source": [
    "# Assignments\n",
    "\n",
    "1. Give the formal optimization problem. Also provide the Lagrangian formulation.\n",
    "2. Is the optimization problem of the optimal sowing plan concave? (since it is a maximization problem, I mean is minimizing the negative total revenue of a plan convex). You don't have to prove this formally, but you can make visual arguments. For a given field, make a the contour plots for (x,y), (x,z) and (y,z), always setting the third variable to 0.\n",
    "3. Give a good/optimal sowing plan. You may solve this either using custom code or using a Julia package [Optim.jl](https://github.com/JuliaNLSolvers/Optim.jl), [Convex.jl](https://github.com/jump-dev/Convex.jl), or [JuMP.jl](https://github.com/jump-dev/JuMP.jl). Make plots of your solution and discuss it.\n",
    "4. Given an optimal sowing plan found in the previous assignment, what is the price per kg for every seed you would be willing to buy, as to be break-even? How would you use this additional marginal quantity of seed. (HINT: you can obtain this from the Lagrangian).\n",
    "5. Provide three alternative solutions, each in which you only use one of the types of seed, e.g. $\\max_\\mathbf{x}f(\\mathbf{x}, 0, 0)$. Show and discuss the difference.\n",
    "\n",
    "## Submission\n",
    "\n",
    "Hand in the solved Jupyter notebook by **14 November 2020**. Send your notebook to [me](michiel.stock@ugent.be) both as Pluto notebook file (.jl) and as **PDF or HTML file**. Hand in a CSV file with your best **valid** solution for question 3. In this file, every row is a plot of land and the three columns represent x, y, z, respectively.\n",
    "\n",
    "## Questions yet to ask to Michiel\n",
    "\n",
    "1) are the constrains linear? \n"
   ]
  },
  {
   "cell_type": "code",
   "execution_count": 1,
   "metadata": {},
   "outputs": [
    {
     "name": "stderr",
     "output_type": "stream",
     "text": [
      "┌ Info: Precompiling STMO [3ace5234-8ecc-46a3-bb23-1fccb8667e7a]\n",
      "└ @ Base loading.jl:1278\n"
     ]
    }
   ],
   "source": [
    "# loading packages \n",
    "using Plots\n",
    "using LinearAlgebra\n",
    "using STMO\n",
    "import STMO.TestFuns: fquadr, grad_fquadr, hess_fquadr\n",
    "import STMO.TestFuns: fnonquadr, grad_fnonquadr, hess_fnonquadr"
   ]
  },
  {
   "cell_type": "markdown",
   "metadata": {},
   "source": [
    "### 1. Formal description of the problem\n",
    "\n",
    "Langrangia formulation is of the form: \n",
    "\n",
    "$L(x,\\nu) = f(x) +\\nu g(x)$\n",
    "\n",
    "Since the function \n",
    "$$f(\\mathbf{x}, \\mathbf{y}, \\mathbf{z}) = \\sum_{i=1}^{15}w_xX_i(x_i,y_i,z_i) + w_yY_i(x_i,y_i,z_i)+w_zZ_i(x_i,y_i,z_i)\\,,$$ \n",
    "is for making profit we actually want this as large as possible. Putting a minus in front of the function will make sure the minimizer is actually the maximal profit. \n",
    "\n",
    "$$L(x,\\nu) = -\\sum_{i=1}^{15}w_xX_i(x_i,y_i,z_i) + w_yY_i(x_i,y_i,z_i)+w_zZ_i(x_i,y_i,z_i)\\ +\\nu * $$\n",
    "\n",
    "$$\\sum_{i=1}^{15} x_i \\le c_x \\quad\\text{and}\\quad x_i\\geq 0\\text{ for }i=1,\\ldots,15\\,,$$\n",
    "\n",
    "$$\\sum_{i=1}^{15} y_i \\le c_y \\quad\\text{and}\\quad y_i\\geq 0\\text{ for }i=1,\\ldots,15\\,,$$\n",
    "\n",
    "$$\\sum_{i=1}^{15} z_i \\le c_z \\quad\\text{and}\\quad z_i\\geq 0\\text{ for }i=1,\\ldots,15\\,.$$"
   ]
  },
  {
   "cell_type": "code",
   "execution_count": 8,
   "metadata": {},
   "outputs": [
    {
     "data": {
      "text/plain": [
       "1:10"
      ]
     },
     "execution_count": 8,
     "metadata": {},
     "output_type": "execute_result"
    }
   ],
   "source": [
    "### 2. Concavity Let's plot the contour plots for field 1\n",
    "# total amount of seeds \n",
    "cx, cy, cz = 250, 175, 325\n",
    "# the yields \n",
    "wx, wy, wz = 0.7, 0.85, 0.6\n",
    "# total amount of yield for field 1\n",
    "(Ax1, Ay1, Az1) = S * [u[1], v[1]] .+ b # maximum yield\n",
    "# since we have only one field our total amount of seeds can be used here\n",
    "revenue_plot= rand(10,10,10)\n",
    "x = 1:10\n",
    "y = 1:10\n",
    "z = 1:10 "
   ]
  },
  {
   "cell_type": "code",
   "execution_count": 9,
   "metadata": {},
   "outputs": [],
   "source": [
    "for i in 1:10\n",
    "    for j in 1:10\n",
    "        for k in 1:10\n",
    "            # equations for the yield for field 1\n",
    "            X1 = (Ax1 * x[i]^2) / (120 + x[i]^2 + 2y[j] - 0.8x[i] * z[k] + z[k]^2) # yield for X1\n",
    "\n",
    "            Y1 = (Ay1 * y[j]^2) / (30 + 4x[i] + y[j]^2 + 7z[k]) # yield for Y1\n",
    "\n",
    "            Z1 = (Az1 * z[k]^2) / (80 + 0.4x[i] + 0.2x[i]*z[k] +0.6y[j] + z[k]^2) # yield for Z1\n",
    "            \n",
    "            revenue_plot[i,j,k] = wx * X1 + wy * Y1 + wz * Z1 # the yiels * revenue \n",
    "        end\n",
    "    end\n",
    "end           "
   ]
  },
  {
   "cell_type": "code",
   "execution_count": 12,
   "metadata": {},
   "outputs": [
    {
     "data": {
      "text/plain": [
       "10-element Array{Float64,1}:\n",
       "  11.226877506169622\n",
       "  30.378723470123937\n",
       "  57.2109094259477\n",
       "  86.87337507975822\n",
       " 115.76530862759667\n",
       " 141.9025717890922\n",
       " 164.55027439696673\n",
       " 183.70837890975056\n",
       " 199.72018157296966\n",
       " 213.0409894556079"
      ]
     },
     "execution_count": 12,
     "metadata": {},
     "output_type": "execute_result"
    }
   ],
   "source": [
    "revenue_plot[1,1:10,1]"
   ]
  },
  {
   "cell_type": "code",
   "execution_count": 15,
   "metadata": {},
   "outputs": [
    {
     "ename": "ArgumentError",
     "evalue": "ArgumentError: start and stop must be finite, got NaN and NaN",
     "output_type": "error",
     "traceback": [
      "ArgumentError: start and stop must be finite, got NaN and NaN",
      "",
      "Stacktrace:",
      " [1] _linspace(::Float64, ::Float64, ::Int64) at ./twiceprecision.jl:620",
      " [2] _range(::Float64, ::Nothing, ::Float64, ::Int64) at ./twiceprecision.jl:616",
      " [3] #range#43 at ./range.jl:91 [inlined]",
      " [4] contour_levels(::Plots.Series, ::Tuple{Float64,Float64}) at /Users/tristanvanneste/.julia/packages/Plots/fewot/src/utils.jl:504",
      " [5] gr_contour_levels(::Plots.Series, ::Tuple{Float64,Float64}) at /Users/tristanvanneste/.julia/packages/Plots/fewot/src/backends/gr.jl:436",
      " [6] gr_draw_contour(::Plots.Series, ::Base.OneTo{Int64}, ::Array{Float64,1}, ::Nothing, ::Tuple{Float64,Float64}) at /Users/tristanvanneste/.julia/packages/Plots/fewot/src/backends/gr.jl:1683",
      " [7] gr_add_series(::Plots.Subplot{Plots.GRBackend}, ::Plots.Series) at /Users/tristanvanneste/.julia/packages/Plots/fewot/src/backends/gr.jl:1531",
      " [8] gr_display(::Plots.Subplot{Plots.GRBackend}, ::Measures.Length{:mm,Float64}, ::Measures.Length{:mm,Float64}, ::Array{Float64,1}) at /Users/tristanvanneste/.julia/packages/Plots/fewot/src/backends/gr.jl:891",
      " [9] gr_display(::Plots.Plot{Plots.GRBackend}, ::String) at /Users/tristanvanneste/.julia/packages/Plots/fewot/src/backends/gr.jl:596",
      " [10] _show(::Base.GenericIOBuffer{Array{UInt8,1}}, ::MIME{Symbol(\"image/svg+xml\")}, ::Plots.Plot{Plots.GRBackend}) at /Users/tristanvanneste/.julia/packages/Plots/fewot/src/backends/gr.jl:1778",
      " [11] show(::Base.GenericIOBuffer{Array{UInt8,1}}, ::MIME{Symbol(\"image/svg+xml\")}, ::Plots.Plot{Plots.GRBackend}) at /Users/tristanvanneste/.julia/packages/Plots/fewot/src/output.jl:215",
      " [12] sprint(::Function, ::MIME{Symbol(\"image/svg+xml\")}, ::Vararg{Any,N} where N; context::Nothing, sizehint::Int64) at ./strings/io.jl:105",
      " [13] sprint at ./strings/io.jl:101 [inlined]",
      " [14] _ijulia_display_dict(::Plots.Plot{Plots.GRBackend}) at /Users/tristanvanneste/.julia/packages/Plots/fewot/src/ijulia.jl:53",
      " [15] display_dict(::Plots.Plot{Plots.GRBackend}) at /Users/tristanvanneste/.julia/packages/Plots/fewot/src/init.jl:73",
      " [16] #invokelatest#1 at ./essentials.jl:710 [inlined]",
      " [17] invokelatest at ./essentials.jl:709 [inlined]",
      " [18] execute_request(::ZMQ.Socket, ::IJulia.Msg) at /Users/tristanvanneste/.julia/packages/IJulia/tOM8L/src/execute_request.jl:112",
      " [19] #invokelatest#1 at ./essentials.jl:710 [inlined]",
      " [20] invokelatest at ./essentials.jl:709 [inlined]",
      " [21] eventloop(::ZMQ.Socket) at /Users/tristanvanneste/.julia/packages/IJulia/tOM8L/src/eventloop.jl:8",
      " [22] (::IJulia.var\"#15#18\")() at ./task.jl:356"
     ]
    }
   ],
   "source": [
    "contour!(revenue_plot[1:10,1,1],revenue_plot[1,1:10,1])\n"
   ]
  },
  {
   "cell_type": "code",
   "execution_count": 14,
   "metadata": {},
   "outputs": [
    {
     "name": "stdout",
     "output_type": "stream",
     "text": [
      "search: \u001b[0m\u001b[1mc\u001b[22m\u001b[0m\u001b[1mo\u001b[22m\u001b[0m\u001b[1mn\u001b[22m\u001b[0m\u001b[1mt\u001b[22m\u001b[0m\u001b[1mo\u001b[22m\u001b[0m\u001b[1mu\u001b[22m\u001b[0m\u001b[1mr\u001b[22m \u001b[0m\u001b[1mc\u001b[22m\u001b[0m\u001b[1mo\u001b[22m\u001b[0m\u001b[1mn\u001b[22m\u001b[0m\u001b[1mt\u001b[22m\u001b[0m\u001b[1mo\u001b[22m\u001b[0m\u001b[1mu\u001b[22m\u001b[0m\u001b[1mr\u001b[22mf \u001b[0m\u001b[1mc\u001b[22m\u001b[0m\u001b[1mo\u001b[22m\u001b[0m\u001b[1mn\u001b[22m\u001b[0m\u001b[1mt\u001b[22m\u001b[0m\u001b[1mo\u001b[22m\u001b[0m\u001b[1mu\u001b[22m\u001b[0m\u001b[1mr\u001b[22m! \u001b[0m\u001b[1mc\u001b[22m\u001b[0m\u001b[1mo\u001b[22m\u001b[0m\u001b[1mn\u001b[22m\u001b[0m\u001b[1mt\u001b[22m\u001b[0m\u001b[1mo\u001b[22m\u001b[0m\u001b[1mu\u001b[22m\u001b[0m\u001b[1mr\u001b[22mf! \u001b[0m\u001b[1mc\u001b[22m\u001b[0m\u001b[1mo\u001b[22m\u001b[0m\u001b[1mn\u001b[22m\u001b[0m\u001b[1mt\u001b[22m\u001b[0m\u001b[1mo\u001b[22m\u001b[0m\u001b[1mu\u001b[22m\u001b[0m\u001b[1mr\u001b[22m3d \u001b[0m\u001b[1mc\u001b[22m\u001b[0m\u001b[1mo\u001b[22m\u001b[0m\u001b[1mn\u001b[22m\u001b[0m\u001b[1mt\u001b[22m\u001b[0m\u001b[1mo\u001b[22m\u001b[0m\u001b[1mu\u001b[22m\u001b[0m\u001b[1mr\u001b[22m3d! \u001b[0m\u001b[1mc\u001b[22m\u001b[0m\u001b[1mo\u001b[22mu\u001b[0m\u001b[1mn\u001b[22m\u001b[0m\u001b[1mt\u001b[22m_\u001b[0m\u001b[1mo\u001b[22mnes\n",
      "\n"
     ]
    },
    {
     "data": {
      "text/latex": [
       "\\begin{verbatim}\n",
       "contour(x,y,z)\n",
       "contour!(x,y,z)\n",
       "\\end{verbatim}\n",
       "Draw contour lines of the \\texttt{Surface} z.\n",
       "\n",
       "\\section{Arguments}\n",
       "\\begin{itemize}\n",
       "\\item \\texttt{levels}: Contour levels (if \\texttt{AbstractVector}) or number of levels (if \\texttt{Integer})\n",
       "\n",
       "\n",
       "\\item \\texttt{fill}: Bool. Fill area between contours or draw contours only (false by default)\n",
       "\n",
       "\\end{itemize}\n",
       "\\section{Example}\n",
       "\\begin{verbatim}\n",
       "julia> x = y = range(-20, stop = 20, length = 100)\n",
       "julia> contour(x, y, (x, y) -> x^2 + y^2)\n",
       "\\end{verbatim}\n"
      ],
      "text/markdown": [
       "```\n",
       "contour(x,y,z)\n",
       "contour!(x,y,z)\n",
       "```\n",
       "\n",
       "Draw contour lines of the `Surface` z.\n",
       "\n",
       "# Arguments\n",
       "\n",
       "  * `levels`: Contour levels (if `AbstractVector`) or number of levels (if `Integer`)\n",
       "  * `fill`: Bool. Fill area between contours or draw contours only (false by default)\n",
       "\n",
       "# Example\n",
       "\n",
       "```julia-repl\n",
       "julia> x = y = range(-20, stop = 20, length = 100)\n",
       "julia> contour(x, y, (x, y) -> x^2 + y^2)\n",
       "```\n"
      ],
      "text/plain": [
       "\u001b[36m  contour(x,y,z)\u001b[39m\n",
       "\u001b[36m  contour!(x,y,z)\u001b[39m\n",
       "\n",
       "  Draw contour lines of the \u001b[36mSurface\u001b[39m z.\n",
       "\n",
       "\u001b[1m  Arguments\u001b[22m\n",
       "\u001b[1m  ≡≡≡≡≡≡≡≡≡≡≡\u001b[22m\n",
       "\n",
       "    •    \u001b[36mlevels\u001b[39m: Contour levels (if \u001b[36mAbstractVector\u001b[39m) or number of levels (if\n",
       "        \u001b[36mInteger\u001b[39m)\n",
       "\n",
       "    •    \u001b[36mfill\u001b[39m: Bool. Fill area between contours or draw contours only\n",
       "        (false by default)\n",
       "\n",
       "\u001b[1m  Example\u001b[22m\n",
       "\u001b[1m  ≡≡≡≡≡≡≡≡≡\u001b[22m\n",
       "\n",
       "\u001b[36m  julia> x = y = range(-20, stop = 20, length = 100)\u001b[39m\n",
       "\u001b[36m  julia> contour(x, y, (x, y) -> x^2 + y^2)\u001b[39m"
      ]
     },
     "execution_count": 14,
     "metadata": {},
     "output_type": "execute_result"
    }
   ],
   "source": [
    "?contour"
   ]
  },
  {
   "cell_type": "markdown",
   "metadata": {},
   "source": [
    "### 3. Making a sowing plan\n",
    "\n",
    "Here, you have the space to solve the problem. Save your final solution in the variable `solution` and save it in a csv file using `save_solution`. This is done automatically when your name is filled in."
   ]
  },
  {
   "cell_type": "code",
   "execution_count": null,
   "metadata": {},
   "outputs": [],
   "source": [
    "solution = fill(1.0, 15, 3)  # valid, but can be improved..."
   ]
  },
  {
   "cell_type": "code",
   "execution_count": null,
   "metadata": {},
   "outputs": [],
   "source": []
  },
  {
   "cell_type": "code",
   "execution_count": null,
   "metadata": {},
   "outputs": [],
   "source": []
  },
  {
   "cell_type": "markdown",
   "metadata": {},
   "source": [
    "Check if the solution is valid."
   ]
  },
  {
   "cell_type": "code",
   "execution_count": null,
   "metadata": {},
   "outputs": [],
   "source": [
    "function isvalidsolution(solution::Matrix)\n",
    "\treturn size(solution) == (15, 3) && all(solution .≥ 0.0) && all(sum(solution, dims=1) .≤ [cx cy cz])\n",
    "end"
   ]
  },
  {
   "cell_type": "code",
   "execution_count": null,
   "metadata": {},
   "outputs": [],
   "source": [
    "isvalidsolution(solution)"
   ]
  },
  {
   "cell_type": "markdown",
   "metadata": {},
   "source": [
    "Save the solution."
   ]
  },
  {
   "cell_type": "code",
   "execution_count": null,
   "metadata": {},
   "outputs": [],
   "source": [
    "function save_solution(fname, solution::Matrix)\n",
    "\t@assert isvalidsolution(solution) \"Oh no, your solution is invalid!\"\n",
    "\tCSV.write(fname, DataFrame(solution))\n",
    "end"
   ]
  },
  {
   "cell_type": "code",
   "execution_count": null,
   "metadata": {},
   "outputs": [],
   "source": [
    "save_solution(\"solution_YOURNAMES.csv\", solution)"
   ]
  },
  {
   "cell_type": "markdown",
   "metadata": {},
   "source": [
    "### 4. Price of seed"
   ]
  },
  {
   "cell_type": "code",
   "execution_count": null,
   "metadata": {},
   "outputs": [],
   "source": []
  },
  {
   "cell_type": "markdown",
   "metadata": {},
   "source": [
    "Compute how much you would pay for each additional unit of seed in your solution.\n",
    "\n",
    "### 5. One type of seed\n",
    "\n",
    "Make three solutions in which you only use one type of seed. Analyse your solutions!"
   ]
  },
  {
   "cell_type": "code",
   "execution_count": null,
   "metadata": {},
   "outputs": [],
   "source": []
  }
 ],
 "metadata": {
  "kernelspec": {
   "display_name": "Julia 1.5.2",
   "language": "julia",
   "name": "julia-1.5"
  },
  "language_info": {
   "file_extension": ".jl",
   "mimetype": "application/julia",
   "name": "julia",
   "version": "1.5.2"
  }
 },
 "nbformat": 4,
 "nbformat_minor": 4
}
